{
 "cells": [
  {
   "cell_type": "markdown",
   "id": "62547b8e",
   "metadata": {},
   "source": [
    "## Problem Statement\n",
    "\n",
    "### Predict whether patient will recieve h1n1 vacccine and seasonal flu vaccine given some medical and behavioural attributes of the person. Some people might get the h1n1 vaccine some might get seasonal flu vaccine or some may get both of them. Problem is a mult label classification problem.\n",
    "\n",
    "### Submission must include respondent_id along with boolean values of h1n1_vaccine and seasonal_vaccine"
   ]
  },
  {
   "cell_type": "code",
   "execution_count": 55,
   "id": "dafda0b0",
   "metadata": {},
   "outputs": [],
   "source": [
    "## Imports\n",
    "import numpy as np\n",
    "import matplotlib.pyplot as plt\n",
    "import pandas as pd\n",
    "import seaborn as sns"
   ]
  },
  {
   "cell_type": "code",
   "execution_count": 56,
   "id": "90ae5add",
   "metadata": {},
   "outputs": [],
   "source": [
    "test_set_features_df = pd.read_csv('test_set_features.csv')\n",
    "train_set_features_df = pd.read_csv('training_set_features.csv')\n",
    "train_set_labels_df = pd.read_csv('training_set_labels.csv')\n",
    "\n",
    "# Join labels and features\n",
    "train_set_features_df = train_set_features_df.join(train_set_labels_df.set_index('respondent_id'), on='respondent_id')"
   ]
  },
  {
   "cell_type": "markdown",
   "id": "ecf8a888",
   "metadata": {},
   "source": [
    "### Read Data"
   ]
  },
  {
   "cell_type": "code",
   "execution_count": 57,
   "id": "44be2bc0",
   "metadata": {},
   "outputs": [
    {
     "name": "stdout",
     "output_type": "stream",
     "text": [
      "Train data (26707, 38)\n",
      "Train columns Index(['respondent_id', 'h1n1_concern', 'h1n1_knowledge',\n",
      "       'behavioral_antiviral_meds', 'behavioral_avoidance',\n",
      "       'behavioral_face_mask', 'behavioral_wash_hands',\n",
      "       'behavioral_large_gatherings', 'behavioral_outside_home',\n",
      "       'behavioral_touch_face', 'doctor_recc_h1n1', 'doctor_recc_seasonal',\n",
      "       'chronic_med_condition', 'child_under_6_months', 'health_worker',\n",
      "       'health_insurance', 'opinion_h1n1_vacc_effective', 'opinion_h1n1_risk',\n",
      "       'opinion_h1n1_sick_from_vacc', 'opinion_seas_vacc_effective',\n",
      "       'opinion_seas_risk', 'opinion_seas_sick_from_vacc', 'age_group',\n",
      "       'education', 'race', 'sex', 'income_poverty', 'marital_status',\n",
      "       'rent_or_own', 'employment_status', 'hhs_geo_region', 'census_msa',\n",
      "       'household_adults', 'household_children', 'employment_industry',\n",
      "       'employment_occupation', 'h1n1_vaccine', 'seasonal_vaccine'],\n",
      "      dtype='object')\n",
      "\n",
      "Test data (26708, 36)\n"
     ]
    }
   ],
   "source": [
    "## Training data\n",
    "print(f\"Train data {train_set_features_df.shape}\")\n",
    "print(f\"Train columns {train_set_features_df.columns}\")\n",
    "print(\"\")\n",
    "print(f\"Test data {test_set_features_df.shape}\")"
   ]
  },
  {
   "cell_type": "code",
   "execution_count": 58,
   "id": "7539f1ae",
   "metadata": {},
   "outputs": [
    {
     "data": {
      "text/html": [
       "<div>\n",
       "<style scoped>\n",
       "    .dataframe tbody tr th:only-of-type {\n",
       "        vertical-align: middle;\n",
       "    }\n",
       "\n",
       "    .dataframe tbody tr th {\n",
       "        vertical-align: top;\n",
       "    }\n",
       "\n",
       "    .dataframe thead th {\n",
       "        text-align: right;\n",
       "    }\n",
       "</style>\n",
       "<table border=\"1\" class=\"dataframe\">\n",
       "  <thead>\n",
       "    <tr style=\"text-align: right;\">\n",
       "      <th></th>\n",
       "      <th>respondent_id</th>\n",
       "      <th>h1n1_concern</th>\n",
       "      <th>h1n1_knowledge</th>\n",
       "      <th>behavioral_antiviral_meds</th>\n",
       "      <th>behavioral_avoidance</th>\n",
       "      <th>behavioral_face_mask</th>\n",
       "      <th>behavioral_wash_hands</th>\n",
       "      <th>behavioral_large_gatherings</th>\n",
       "      <th>behavioral_outside_home</th>\n",
       "      <th>behavioral_touch_face</th>\n",
       "      <th>...</th>\n",
       "      <th>rent_or_own</th>\n",
       "      <th>employment_status</th>\n",
       "      <th>hhs_geo_region</th>\n",
       "      <th>census_msa</th>\n",
       "      <th>household_adults</th>\n",
       "      <th>household_children</th>\n",
       "      <th>employment_industry</th>\n",
       "      <th>employment_occupation</th>\n",
       "      <th>h1n1_vaccine</th>\n",
       "      <th>seasonal_vaccine</th>\n",
       "    </tr>\n",
       "  </thead>\n",
       "  <tbody>\n",
       "    <tr>\n",
       "      <th>0</th>\n",
       "      <td>0</td>\n",
       "      <td>1.0</td>\n",
       "      <td>0.0</td>\n",
       "      <td>0.0</td>\n",
       "      <td>0.0</td>\n",
       "      <td>0.0</td>\n",
       "      <td>0.0</td>\n",
       "      <td>0.0</td>\n",
       "      <td>1.0</td>\n",
       "      <td>1.0</td>\n",
       "      <td>...</td>\n",
       "      <td>Own</td>\n",
       "      <td>Not in Labor Force</td>\n",
       "      <td>oxchjgsf</td>\n",
       "      <td>Non-MSA</td>\n",
       "      <td>0.0</td>\n",
       "      <td>0.0</td>\n",
       "      <td>NaN</td>\n",
       "      <td>NaN</td>\n",
       "      <td>0</td>\n",
       "      <td>0</td>\n",
       "    </tr>\n",
       "    <tr>\n",
       "      <th>1</th>\n",
       "      <td>1</td>\n",
       "      <td>3.0</td>\n",
       "      <td>2.0</td>\n",
       "      <td>0.0</td>\n",
       "      <td>1.0</td>\n",
       "      <td>0.0</td>\n",
       "      <td>1.0</td>\n",
       "      <td>0.0</td>\n",
       "      <td>1.0</td>\n",
       "      <td>1.0</td>\n",
       "      <td>...</td>\n",
       "      <td>Rent</td>\n",
       "      <td>Employed</td>\n",
       "      <td>bhuqouqj</td>\n",
       "      <td>MSA, Not Principle  City</td>\n",
       "      <td>0.0</td>\n",
       "      <td>0.0</td>\n",
       "      <td>pxcmvdjn</td>\n",
       "      <td>xgwztkwe</td>\n",
       "      <td>0</td>\n",
       "      <td>1</td>\n",
       "    </tr>\n",
       "    <tr>\n",
       "      <th>2</th>\n",
       "      <td>2</td>\n",
       "      <td>1.0</td>\n",
       "      <td>1.0</td>\n",
       "      <td>0.0</td>\n",
       "      <td>1.0</td>\n",
       "      <td>0.0</td>\n",
       "      <td>0.0</td>\n",
       "      <td>0.0</td>\n",
       "      <td>0.0</td>\n",
       "      <td>0.0</td>\n",
       "      <td>...</td>\n",
       "      <td>Own</td>\n",
       "      <td>Employed</td>\n",
       "      <td>qufhixun</td>\n",
       "      <td>MSA, Not Principle  City</td>\n",
       "      <td>2.0</td>\n",
       "      <td>0.0</td>\n",
       "      <td>rucpziij</td>\n",
       "      <td>xtkaffoo</td>\n",
       "      <td>0</td>\n",
       "      <td>0</td>\n",
       "    </tr>\n",
       "    <tr>\n",
       "      <th>3</th>\n",
       "      <td>3</td>\n",
       "      <td>1.0</td>\n",
       "      <td>1.0</td>\n",
       "      <td>0.0</td>\n",
       "      <td>1.0</td>\n",
       "      <td>0.0</td>\n",
       "      <td>1.0</td>\n",
       "      <td>1.0</td>\n",
       "      <td>0.0</td>\n",
       "      <td>0.0</td>\n",
       "      <td>...</td>\n",
       "      <td>Rent</td>\n",
       "      <td>Not in Labor Force</td>\n",
       "      <td>lrircsnp</td>\n",
       "      <td>MSA, Principle City</td>\n",
       "      <td>0.0</td>\n",
       "      <td>0.0</td>\n",
       "      <td>NaN</td>\n",
       "      <td>NaN</td>\n",
       "      <td>0</td>\n",
       "      <td>1</td>\n",
       "    </tr>\n",
       "    <tr>\n",
       "      <th>4</th>\n",
       "      <td>4</td>\n",
       "      <td>2.0</td>\n",
       "      <td>1.0</td>\n",
       "      <td>0.0</td>\n",
       "      <td>1.0</td>\n",
       "      <td>0.0</td>\n",
       "      <td>1.0</td>\n",
       "      <td>1.0</td>\n",
       "      <td>0.0</td>\n",
       "      <td>1.0</td>\n",
       "      <td>...</td>\n",
       "      <td>Own</td>\n",
       "      <td>Employed</td>\n",
       "      <td>qufhixun</td>\n",
       "      <td>MSA, Not Principle  City</td>\n",
       "      <td>1.0</td>\n",
       "      <td>0.0</td>\n",
       "      <td>wxleyezf</td>\n",
       "      <td>emcorrxb</td>\n",
       "      <td>0</td>\n",
       "      <td>0</td>\n",
       "    </tr>\n",
       "  </tbody>\n",
       "</table>\n",
       "<p>5 rows × 38 columns</p>\n",
       "</div>"
      ],
      "text/plain": [
       "   respondent_id  h1n1_concern  h1n1_knowledge  behavioral_antiviral_meds  \\\n",
       "0              0           1.0             0.0                        0.0   \n",
       "1              1           3.0             2.0                        0.0   \n",
       "2              2           1.0             1.0                        0.0   \n",
       "3              3           1.0             1.0                        0.0   \n",
       "4              4           2.0             1.0                        0.0   \n",
       "\n",
       "   behavioral_avoidance  behavioral_face_mask  behavioral_wash_hands  \\\n",
       "0                   0.0                   0.0                    0.0   \n",
       "1                   1.0                   0.0                    1.0   \n",
       "2                   1.0                   0.0                    0.0   \n",
       "3                   1.0                   0.0                    1.0   \n",
       "4                   1.0                   0.0                    1.0   \n",
       "\n",
       "   behavioral_large_gatherings  behavioral_outside_home  \\\n",
       "0                          0.0                      1.0   \n",
       "1                          0.0                      1.0   \n",
       "2                          0.0                      0.0   \n",
       "3                          1.0                      0.0   \n",
       "4                          1.0                      0.0   \n",
       "\n",
       "   behavioral_touch_face  ...  rent_or_own   employment_status  \\\n",
       "0                    1.0  ...          Own  Not in Labor Force   \n",
       "1                    1.0  ...         Rent            Employed   \n",
       "2                    0.0  ...          Own            Employed   \n",
       "3                    0.0  ...         Rent  Not in Labor Force   \n",
       "4                    1.0  ...          Own            Employed   \n",
       "\n",
       "   hhs_geo_region                census_msa  household_adults  \\\n",
       "0        oxchjgsf                   Non-MSA               0.0   \n",
       "1        bhuqouqj  MSA, Not Principle  City               0.0   \n",
       "2        qufhixun  MSA, Not Principle  City               2.0   \n",
       "3        lrircsnp       MSA, Principle City               0.0   \n",
       "4        qufhixun  MSA, Not Principle  City               1.0   \n",
       "\n",
       "   household_children  employment_industry  employment_occupation  \\\n",
       "0                 0.0                  NaN                    NaN   \n",
       "1                 0.0             pxcmvdjn               xgwztkwe   \n",
       "2                 0.0             rucpziij               xtkaffoo   \n",
       "3                 0.0                  NaN                    NaN   \n",
       "4                 0.0             wxleyezf               emcorrxb   \n",
       "\n",
       "   h1n1_vaccine  seasonal_vaccine  \n",
       "0             0                 0  \n",
       "1             0                 1  \n",
       "2             0                 0  \n",
       "3             0                 1  \n",
       "4             0                 0  \n",
       "\n",
       "[5 rows x 38 columns]"
      ]
     },
     "execution_count": 58,
     "metadata": {},
     "output_type": "execute_result"
    }
   ],
   "source": [
    "train_set_features_df.head()"
   ]
  },
  {
   "cell_type": "code",
   "execution_count": 59,
   "id": "a5eac716",
   "metadata": {},
   "outputs": [
    {
     "data": {
      "text/plain": [
       "respondent_id                  False\n",
       "h1n1_concern                    True\n",
       "h1n1_knowledge                  True\n",
       "behavioral_antiviral_meds       True\n",
       "behavioral_avoidance            True\n",
       "behavioral_face_mask            True\n",
       "behavioral_wash_hands           True\n",
       "behavioral_large_gatherings     True\n",
       "behavioral_outside_home         True\n",
       "behavioral_touch_face           True\n",
       "doctor_recc_h1n1                True\n",
       "doctor_recc_seasonal            True\n",
       "chronic_med_condition           True\n",
       "child_under_6_months            True\n",
       "health_worker                   True\n",
       "health_insurance                True\n",
       "opinion_h1n1_vacc_effective     True\n",
       "opinion_h1n1_risk               True\n",
       "opinion_h1n1_sick_from_vacc     True\n",
       "opinion_seas_vacc_effective     True\n",
       "opinion_seas_risk               True\n",
       "opinion_seas_sick_from_vacc     True\n",
       "age_group                      False\n",
       "education                       True\n",
       "race                           False\n",
       "sex                            False\n",
       "income_poverty                  True\n",
       "marital_status                  True\n",
       "rent_or_own                     True\n",
       "employment_status               True\n",
       "hhs_geo_region                 False\n",
       "census_msa                     False\n",
       "household_adults                True\n",
       "household_children              True\n",
       "employment_industry             True\n",
       "employment_occupation           True\n",
       "h1n1_vaccine                   False\n",
       "seasonal_vaccine               False\n",
       "dtype: bool"
      ]
     },
     "execution_count": 59,
     "metadata": {},
     "output_type": "execute_result"
    }
   ],
   "source": [
    "# Check for NaN values\n",
    "train_set_features_df.isnull().any()"
   ]
  },
  {
   "cell_type": "markdown",
   "id": "93d4b492",
   "metadata": {},
   "source": [
    "Most of the columns have null values"
   ]
  },
  {
   "cell_type": "markdown",
   "id": "54fe8c7a",
   "metadata": {},
   "source": [
    "Column Details:\n",
    "\n",
    "<b>h1n1_concern</b> - Level of concern about h1n1 flu\n",
    "\n",
    "<b>h1n1_knowledge</b> - Level of knowledge about h1n1 flu\n",
    "\n",
    "<b>behavioral_antiviral_meds</b> - Has taken anitviral medications\n",
    "\n",
    "<b>behavioral_avoidance</b> - Has avoided close contact with others with flu-like symptons\n",
    "\n",
    "<b>behavioural_face_mask</b> - Has bought a face mask\n",
    "\n",
    "<b>behavioral_wash_hands</b> - Has frequently washed hands or used sanitzer\n",
    "\n",
    "<b>behavioral_large_gatherings</b> - Has reduced time at large gatherings\n",
    "\n",
    "<b>behavioral_outside_home</b> - Has reduced contact with people outisde\n",
    "\n",
    "<b>behavioral_touch_face</b> - Has avoided touching eyes, nose or mouth\n",
    "\n",
    "<b>doctor_recc_h1n1</b> - h1n1 flu vaccine recommened by doctor\n",
    "\n",
    "<b>doctor_recc_seasonal</b> - seasonal flu  vaccine recommeded by doctor\n",
    "\n",
    "<b>chronic_med_condition</b> - Has chronic condition \n",
    "\n",
    "<b>child_under_6_months</b> - Has regular contact with child nder age 6\n",
    "\n",
    "<b>health_worker</b> - Is a health worker\n",
    "\n",
    "<b>health_insurance</b> - Has health insurance\n",
    "\n",
    "<b>opinion_h1n1_vacc_effective</b> - Respondents opinion about vaccines effectives (1=Not at all effective, 2=Not very effective, 3=Dont know, 4=somewhat high, 5=very high\n",
    "\n",
    "<b>opinion_seas_vacc_effective</b> - Respondents opinion about seasonal flu\n",
    "\n",
    "<b>opinion_seas_risk</b> - Respondent's opinion about risk of getting sick with seasonal flu without vaccine\n",
    "\n",
    "<b>opinion_seas_sick_from_vacc</b> - Respondent's worry of getting sick from taking seasonal flu vaccine\n",
    "\n",
    "<b>age_group</b> - Age group of respondent\n",
    "\n",
    "<b>education</b> - Self reported education level\n",
    "\n",
    "<b>race</b> - race of respondent\n",
    "\n",
    "<b>sex</b> - Sex of respodent\n",
    "\n",
    "<b>income_poverty</b> - Household annual income\n",
    "\n",
    "<b>martial_status</b> - Martial status of respodent\n",
    "\n",
    "<b>hhs_geo_region</b> - Respondents residence\n",
    "\n",
    "<b>census_msa</b> - Respondent's residence within metropolitan statistical areas (MSA) as defined by the U.S. Census\n",
    "\n",
    "<b>household_adults</b> - Number of other adults in household\n",
    "\n",
    "<b>household_children</b> - Number of children\n",
    "\n",
    "<b>employment_industry</b> - Type of industry respondent is employed (string)\n",
    "\n",
    "<b>employment_occupation</b> - Type of occupation of respodent (string)"
   ]
  },
  {
   "cell_type": "code",
   "execution_count": 60,
   "id": "6d5196be",
   "metadata": {},
   "outputs": [
    {
     "data": {
      "text/html": [
       "<div>\n",
       "<style scoped>\n",
       "    .dataframe tbody tr th:only-of-type {\n",
       "        vertical-align: middle;\n",
       "    }\n",
       "\n",
       "    .dataframe tbody tr th {\n",
       "        vertical-align: top;\n",
       "    }\n",
       "\n",
       "    .dataframe thead th {\n",
       "        text-align: right;\n",
       "    }\n",
       "</style>\n",
       "<table border=\"1\" class=\"dataframe\">\n",
       "  <thead>\n",
       "    <tr style=\"text-align: right;\">\n",
       "      <th></th>\n",
       "      <th>respondent_id</th>\n",
       "      <th>h1n1_concern</th>\n",
       "      <th>h1n1_knowledge</th>\n",
       "      <th>behavioral_antiviral_meds</th>\n",
       "      <th>behavioral_avoidance</th>\n",
       "      <th>behavioral_face_mask</th>\n",
       "      <th>behavioral_wash_hands</th>\n",
       "      <th>behavioral_large_gatherings</th>\n",
       "      <th>behavioral_outside_home</th>\n",
       "      <th>behavioral_touch_face</th>\n",
       "      <th>...</th>\n",
       "      <th>rent_or_own</th>\n",
       "      <th>employment_status</th>\n",
       "      <th>hhs_geo_region</th>\n",
       "      <th>census_msa</th>\n",
       "      <th>household_adults</th>\n",
       "      <th>household_children</th>\n",
       "      <th>employment_industry</th>\n",
       "      <th>employment_occupation</th>\n",
       "      <th>h1n1_vaccine</th>\n",
       "      <th>seasonal_vaccine</th>\n",
       "    </tr>\n",
       "  </thead>\n",
       "  <tbody>\n",
       "    <tr>\n",
       "      <th>0</th>\n",
       "      <td>0</td>\n",
       "      <td>1.0</td>\n",
       "      <td>0.0</td>\n",
       "      <td>0.0</td>\n",
       "      <td>0.0</td>\n",
       "      <td>0.0</td>\n",
       "      <td>0.0</td>\n",
       "      <td>0.0</td>\n",
       "      <td>1.0</td>\n",
       "      <td>1.0</td>\n",
       "      <td>...</td>\n",
       "      <td>Own</td>\n",
       "      <td>Not in Labor Force</td>\n",
       "      <td>oxchjgsf</td>\n",
       "      <td>Non-MSA</td>\n",
       "      <td>0.0</td>\n",
       "      <td>0.0</td>\n",
       "      <td>NaN</td>\n",
       "      <td>NaN</td>\n",
       "      <td>0</td>\n",
       "      <td>0</td>\n",
       "    </tr>\n",
       "    <tr>\n",
       "      <th>1</th>\n",
       "      <td>1</td>\n",
       "      <td>3.0</td>\n",
       "      <td>2.0</td>\n",
       "      <td>0.0</td>\n",
       "      <td>1.0</td>\n",
       "      <td>0.0</td>\n",
       "      <td>1.0</td>\n",
       "      <td>0.0</td>\n",
       "      <td>1.0</td>\n",
       "      <td>1.0</td>\n",
       "      <td>...</td>\n",
       "      <td>Rent</td>\n",
       "      <td>Employed</td>\n",
       "      <td>bhuqouqj</td>\n",
       "      <td>MSA, Not Principle  City</td>\n",
       "      <td>0.0</td>\n",
       "      <td>0.0</td>\n",
       "      <td>pxcmvdjn</td>\n",
       "      <td>xgwztkwe</td>\n",
       "      <td>0</td>\n",
       "      <td>1</td>\n",
       "    </tr>\n",
       "    <tr>\n",
       "      <th>2</th>\n",
       "      <td>2</td>\n",
       "      <td>1.0</td>\n",
       "      <td>1.0</td>\n",
       "      <td>0.0</td>\n",
       "      <td>1.0</td>\n",
       "      <td>0.0</td>\n",
       "      <td>0.0</td>\n",
       "      <td>0.0</td>\n",
       "      <td>0.0</td>\n",
       "      <td>0.0</td>\n",
       "      <td>...</td>\n",
       "      <td>Own</td>\n",
       "      <td>Employed</td>\n",
       "      <td>qufhixun</td>\n",
       "      <td>MSA, Not Principle  City</td>\n",
       "      <td>2.0</td>\n",
       "      <td>0.0</td>\n",
       "      <td>rucpziij</td>\n",
       "      <td>xtkaffoo</td>\n",
       "      <td>0</td>\n",
       "      <td>0</td>\n",
       "    </tr>\n",
       "    <tr>\n",
       "      <th>3</th>\n",
       "      <td>3</td>\n",
       "      <td>1.0</td>\n",
       "      <td>1.0</td>\n",
       "      <td>0.0</td>\n",
       "      <td>1.0</td>\n",
       "      <td>0.0</td>\n",
       "      <td>1.0</td>\n",
       "      <td>1.0</td>\n",
       "      <td>0.0</td>\n",
       "      <td>0.0</td>\n",
       "      <td>...</td>\n",
       "      <td>Rent</td>\n",
       "      <td>Not in Labor Force</td>\n",
       "      <td>lrircsnp</td>\n",
       "      <td>MSA, Principle City</td>\n",
       "      <td>0.0</td>\n",
       "      <td>0.0</td>\n",
       "      <td>NaN</td>\n",
       "      <td>NaN</td>\n",
       "      <td>0</td>\n",
       "      <td>1</td>\n",
       "    </tr>\n",
       "    <tr>\n",
       "      <th>4</th>\n",
       "      <td>4</td>\n",
       "      <td>2.0</td>\n",
       "      <td>1.0</td>\n",
       "      <td>0.0</td>\n",
       "      <td>1.0</td>\n",
       "      <td>0.0</td>\n",
       "      <td>1.0</td>\n",
       "      <td>1.0</td>\n",
       "      <td>0.0</td>\n",
       "      <td>1.0</td>\n",
       "      <td>...</td>\n",
       "      <td>Own</td>\n",
       "      <td>Employed</td>\n",
       "      <td>qufhixun</td>\n",
       "      <td>MSA, Not Principle  City</td>\n",
       "      <td>1.0</td>\n",
       "      <td>0.0</td>\n",
       "      <td>wxleyezf</td>\n",
       "      <td>emcorrxb</td>\n",
       "      <td>0</td>\n",
       "      <td>0</td>\n",
       "    </tr>\n",
       "  </tbody>\n",
       "</table>\n",
       "<p>5 rows × 38 columns</p>\n",
       "</div>"
      ],
      "text/plain": [
       "   respondent_id  h1n1_concern  h1n1_knowledge  behavioral_antiviral_meds  \\\n",
       "0              0           1.0             0.0                        0.0   \n",
       "1              1           3.0             2.0                        0.0   \n",
       "2              2           1.0             1.0                        0.0   \n",
       "3              3           1.0             1.0                        0.0   \n",
       "4              4           2.0             1.0                        0.0   \n",
       "\n",
       "   behavioral_avoidance  behavioral_face_mask  behavioral_wash_hands  \\\n",
       "0                   0.0                   0.0                    0.0   \n",
       "1                   1.0                   0.0                    1.0   \n",
       "2                   1.0                   0.0                    0.0   \n",
       "3                   1.0                   0.0                    1.0   \n",
       "4                   1.0                   0.0                    1.0   \n",
       "\n",
       "   behavioral_large_gatherings  behavioral_outside_home  \\\n",
       "0                          0.0                      1.0   \n",
       "1                          0.0                      1.0   \n",
       "2                          0.0                      0.0   \n",
       "3                          1.0                      0.0   \n",
       "4                          1.0                      0.0   \n",
       "\n",
       "   behavioral_touch_face  ...  rent_or_own   employment_status  \\\n",
       "0                    1.0  ...          Own  Not in Labor Force   \n",
       "1                    1.0  ...         Rent            Employed   \n",
       "2                    0.0  ...          Own            Employed   \n",
       "3                    0.0  ...         Rent  Not in Labor Force   \n",
       "4                    1.0  ...          Own            Employed   \n",
       "\n",
       "   hhs_geo_region                census_msa  household_adults  \\\n",
       "0        oxchjgsf                   Non-MSA               0.0   \n",
       "1        bhuqouqj  MSA, Not Principle  City               0.0   \n",
       "2        qufhixun  MSA, Not Principle  City               2.0   \n",
       "3        lrircsnp       MSA, Principle City               0.0   \n",
       "4        qufhixun  MSA, Not Principle  City               1.0   \n",
       "\n",
       "   household_children  employment_industry  employment_occupation  \\\n",
       "0                 0.0                  NaN                    NaN   \n",
       "1                 0.0             pxcmvdjn               xgwztkwe   \n",
       "2                 0.0             rucpziij               xtkaffoo   \n",
       "3                 0.0                  NaN                    NaN   \n",
       "4                 0.0             wxleyezf               emcorrxb   \n",
       "\n",
       "   h1n1_vaccine  seasonal_vaccine  \n",
       "0             0                 0  \n",
       "1             0                 1  \n",
       "2             0                 0  \n",
       "3             0                 1  \n",
       "4             0                 0  \n",
       "\n",
       "[5 rows x 38 columns]"
      ]
     },
     "execution_count": 60,
     "metadata": {},
     "output_type": "execute_result"
    }
   ],
   "source": [
    "train_set_features_df.head()"
   ]
  },
  {
   "cell_type": "code",
   "execution_count": 61,
   "id": "57f119a2",
   "metadata": {},
   "outputs": [
    {
     "data": {
      "text/plain": [
       "2.0    10575\n",
       "1.0     8153\n",
       "3.0     4591\n",
       "0.0     3296\n",
       "Name: h1n1_concern, dtype: int64"
      ]
     },
     "execution_count": 61,
     "metadata": {},
     "output_type": "execute_result"
    }
   ],
   "source": [
    "train_set_features_df.h1n1_concern.value_counts()"
   ]
  },
  {
   "cell_type": "code",
   "execution_count": 62,
   "id": "913edd76",
   "metadata": {},
   "outputs": [],
   "source": [
    "def plot_bar(x, y, title='', xlabel='', ylabel=''):\n",
    "    plt.title(title)\n",
    "    plt.xlabel(xlabel)\n",
    "    plt.ylabel(ylabel)\n",
    "    plt.bar(x, y);"
   ]
  },
  {
   "cell_type": "markdown",
   "id": "fd1ee1cb",
   "metadata": {},
   "source": [
    "### Most of the people are somewhat concerned about h1n1"
   ]
  },
  {
   "cell_type": "markdown",
   "id": "c6268f8d",
   "metadata": {},
   "source": [
    "### Which age group is most concerned ?\n",
    "\n",
    "As one would expect age group 65+ years is more concerned about h1n1 flu"
   ]
  },
  {
   "cell_type": "code",
   "execution_count": 63,
   "id": "712e23e6",
   "metadata": {},
   "outputs": [
    {
     "data": {
      "image/png": "[encoded data removed]",
      "text/plain": [
       "<Figure size 432x288 with 1 Axes>"
      ]
     },
     "metadata": {
      "needs_background": "light"
     },
     "output_type": "display_data"
    }
   ],
   "source": [
    "age_group_concern_count = train_set_features_df[train_set_features_df.h1n1_concern == 3].age_group.value_counts()\n",
    "\n",
    "plot_bar(\n",
    "    age_group_concern_count.index, \n",
    "    age_group_concern_count.values, \n",
    "    \"Age group most concerned about h1n1\",\n",
    "    \"Age group\",\n",
    "    \"Count\"\n",
    ")"
   ]
  },
  {
   "cell_type": "markdown",
   "id": "fe6e66ed",
   "metadata": {},
   "source": [
    "### How many of the concerned group have taken the vaccines ?"
   ]
  },
  {
   "cell_type": "code",
   "execution_count": 64,
   "id": "ab71ead0",
   "metadata": {},
   "outputs": [
    {
     "data": {
      "text/plain": [
       "h1n1_concern  h1n1_vaccine\n",
       "2.0           0               8102\n",
       "1.0           0               6756\n",
       "3.0           0               3250\n",
       "0.0           0               2849\n",
       "2.0           1               2473\n",
       "1.0           1               1397\n",
       "3.0           1               1341\n",
       "0.0           1                447\n",
       "dtype: int64"
      ]
     },
     "execution_count": 64,
     "metadata": {},
     "output_type": "execute_result"
    }
   ],
   "source": [
    "concern_vaccine_counts = train_set_features_df[['h1n1_concern','h1n1_vaccine']].value_counts()\n",
    "# plot_bar(\n",
    "#     concern_vaccine_counts.index,\n",
    "#     concern_vaccine_counts.values\n",
    "# )\n",
    "concern_vaccine_counts"
   ]
  },
  {
   "cell_type": "markdown",
   "id": "42e5d558",
   "metadata": {},
   "source": [
    "### Are people who are concerned about h1n1 have knowledge about h1n1 ??\n",
    "\n",
    "Most people who are concerened have somewhat knowledge about h1n1"
   ]
  },
  {
   "cell_type": "code",
   "execution_count": 65,
   "id": "54b1fe8e",
   "metadata": {},
   "outputs": [
    {
     "data": {
      "text/plain": [
       "1.0    8170\n",
       "2.0    5733\n",
       "0.0    1213\n",
       "Name: h1n1_knowledge, dtype: int64"
      ]
     },
     "execution_count": 65,
     "metadata": {},
     "output_type": "execute_result"
    }
   ],
   "source": [
    "train_set_features_df[\n",
    "    (train_set_features_df.h1n1_concern == 3) | (train_set_features_df.h1n1_concern == 2)].h1n1_knowledge.value_counts()"
   ]
  },
  {
   "cell_type": "code",
   "execution_count": 66,
   "id": "64eb5467",
   "metadata": {},
   "outputs": [
    {
     "data": {
      "text/plain": [
       "1.0    14598\n",
       "2.0     9487\n",
       "0.0     2506\n",
       "Name: h1n1_knowledge, dtype: int64"
      ]
     },
     "execution_count": 66,
     "metadata": {},
     "output_type": "execute_result"
    }
   ],
   "source": [
    "train_set_features_df.h1n1_knowledge.value_counts()"
   ]
  },
  {
   "cell_type": "markdown",
   "id": "7cf92d4f",
   "metadata": {},
   "source": [
    "### Most of the people have little knowledge of h1n1"
   ]
  },
  {
   "cell_type": "code",
   "execution_count": 67,
   "id": "6abb61d9",
   "metadata": {},
   "outputs": [
    {
     "data": {
      "text/plain": [
       "0.0    25335\n",
       "1.0     1301\n",
       "Name: behavioral_antiviral_meds, dtype: int64"
      ]
     },
     "execution_count": 67,
     "metadata": {},
     "output_type": "execute_result"
    }
   ],
   "source": [
    "train_set_features_df.behavioral_antiviral_meds.value_counts()"
   ]
  },
  {
   "cell_type": "markdown",
   "id": "534a1258",
   "metadata": {},
   "source": [
    "### Most of the people haven't taken any anti viral meds"
   ]
  },
  {
   "cell_type": "code",
   "execution_count": 68,
   "id": "5c55ae69",
   "metadata": {},
   "outputs": [
    {
     "data": {
      "text/plain": [
       "0.0    24847\n",
       "1.0     1841\n",
       "Name: behavioral_face_mask, dtype: int64"
      ]
     },
     "execution_count": 68,
     "metadata": {},
     "output_type": "execute_result"
    }
   ],
   "source": [
    "train_set_features_df.behavioral_face_mask.value_counts()"
   ]
  },
  {
   "cell_type": "markdown",
   "id": "554d10ea",
   "metadata": {},
   "source": [
    "### Most of the people haven't purchased any mask"
   ]
  },
  {
   "cell_type": "code",
   "execution_count": 69,
   "id": "6247cce0",
   "metadata": {},
   "outputs": [
    {
     "data": {
      "text/plain": [
       "1.0    19228\n",
       "0.0     7271\n",
       "Name: behavioral_avoidance, dtype: int64"
      ]
     },
     "execution_count": 69,
     "metadata": {},
     "output_type": "execute_result"
    }
   ],
   "source": [
    "train_set_features_df.behavioral_avoidance.value_counts()"
   ]
  },
  {
   "cell_type": "markdown",
   "id": "d9910967",
   "metadata": {},
   "source": [
    "### Most people avoided closed contact with others having flu-like symptoms"
   ]
  },
  {
   "cell_type": "markdown",
   "id": "a2ec8e86",
   "metadata": {},
   "source": [
    "### How many people who made close contact with infected people know about h1n1 ??\n",
    "\n",
    "Approx 2k (8.5% of total) respondents knew about h1n1 and still were in close contact with infected people."
   ]
  },
  {
   "cell_type": "code",
   "execution_count": 70,
   "id": "c54ff2d1",
   "metadata": {},
   "outputs": [
    {
     "data": {
      "text/plain": [
       "2273"
      ]
     },
     "execution_count": 70,
     "metadata": {},
     "output_type": "execute_result"
    }
   ],
   "source": [
    "train_set_features_df[(train_set_features_df.behavioral_avoidance == 0) & (train_set_features_df.h1n1_knowledge == 2)].shape[0]"
   ]
  },
  {
   "cell_type": "code",
   "execution_count": 71,
   "id": "0a3be3a6",
   "metadata": {},
   "outputs": [
    {
     "data": {
      "text/plain": [
       "1.0    22015\n",
       "0.0     4650\n",
       "Name: behavioral_wash_hands, dtype: int64"
      ]
     },
     "execution_count": 71,
     "metadata": {},
     "output_type": "execute_result"
    }
   ],
   "source": [
    "train_set_features_df.behavioral_wash_hands.value_counts()"
   ]
  },
  {
   "cell_type": "markdown",
   "id": "ae50c0ca",
   "metadata": {},
   "source": [
    "### Most people do wash or sanitize their hands"
   ]
  },
  {
   "cell_type": "markdown",
   "id": "af418021",
   "metadata": {},
   "source": [
    "### How many people knew about h1n1 and still didnt wash or sanitized their hands frequently ??\n",
    "\n",
    "Around 1286 (~4%) people knew aout h1n1 and still didnt wash hands"
   ]
  },
  {
   "cell_type": "code",
   "execution_count": 72,
   "id": "e974a81a",
   "metadata": {},
   "outputs": [
    {
     "data": {
      "text/plain": [
       "1286"
      ]
     },
     "execution_count": 72,
     "metadata": {},
     "output_type": "execute_result"
    }
   ],
   "source": [
    "train_set_features_df[(train_set_features_df.h1n1_knowledge == 2) & (train_set_features_df.behavioral_wash_hands == 0)].shape[0]"
   ]
  },
  {
   "cell_type": "code",
   "execution_count": 73,
   "id": "5d869445",
   "metadata": {},
   "outputs": [
    {
     "data": {
      "text/plain": [
       "0.0    17073\n",
       "1.0     9547\n",
       "Name: behavioral_large_gatherings, dtype: int64"
      ]
     },
     "execution_count": 73,
     "metadata": {},
     "output_type": "execute_result"
    }
   ],
   "source": [
    "train_set_features_df.behavioral_large_gatherings.value_counts()"
   ]
  },
  {
   "cell_type": "markdown",
   "id": "66c2f6f0",
   "metadata": {},
   "source": [
    "### Majority people avoid large gatherings"
   ]
  },
  {
   "cell_type": "code",
   "execution_count": 74,
   "id": "455a4441",
   "metadata": {},
   "outputs": [
    {
     "data": {
      "text/plain": [
       "0.0    17644\n",
       "1.0     8981\n",
       "Name: behavioral_outside_home, dtype: int64"
      ]
     },
     "execution_count": 74,
     "metadata": {},
     "output_type": "execute_result"
    }
   ],
   "source": [
    "train_set_features_df.behavioral_outside_home.value_counts()"
   ]
  },
  {
   "cell_type": "markdown",
   "id": "f80fe995",
   "metadata": {},
   "source": [
    "### Most people have not reduced contact outside their home"
   ]
  },
  {
   "cell_type": "code",
   "execution_count": 75,
   "id": "2723d3c1",
   "metadata": {},
   "outputs": [
    {
     "data": {
      "text/plain": [
       "1.0    18001\n",
       "0.0     8578\n",
       "Name: behavioral_touch_face, dtype: int64"
      ]
     },
     "execution_count": 75,
     "metadata": {},
     "output_type": "execute_result"
    }
   ],
   "source": [
    "train_set_features_df.behavioral_touch_face.value_counts()"
   ]
  },
  {
   "cell_type": "markdown",
   "id": "cd7ba9ff",
   "metadata": {},
   "source": [
    "### Most people avoid touching their face eyes or mouth"
   ]
  },
  {
   "cell_type": "code",
   "execution_count": 76,
   "id": "a06afd30",
   "metadata": {},
   "outputs": [
    {
     "data": {
      "text/plain": [
       "0.0    19139\n",
       "1.0     5408\n",
       "Name: doctor_recc_h1n1, dtype: int64"
      ]
     },
     "execution_count": 76,
     "metadata": {},
     "output_type": "execute_result"
    }
   ],
   "source": [
    "train_set_features_df.doctor_recc_h1n1.value_counts()"
   ]
  },
  {
   "cell_type": "markdown",
   "id": "adf55553",
   "metadata": {},
   "source": [
    "### For most cases Doctors didnot recommend any h1n1 flu vaccine"
   ]
  },
  {
   "cell_type": "code",
   "execution_count": 77,
   "id": "7ddfc545",
   "metadata": {},
   "outputs": [
    {
     "data": {
      "text/plain": [
       "0.0    16453\n",
       "1.0     8094\n",
       "Name: doctor_recc_seasonal, dtype: int64"
      ]
     },
     "execution_count": 77,
     "metadata": {},
     "output_type": "execute_result"
    }
   ],
   "source": [
    "train_set_features_df.doctor_recc_seasonal.value_counts()"
   ]
  },
  {
   "cell_type": "markdown",
   "id": "777c2a07",
   "metadata": {},
   "source": [
    "### For most cases Doctors didnot recommend any seasonal flu vaccine "
   ]
  },
  {
   "cell_type": "code",
   "execution_count": 78,
   "id": "5ed7243c",
   "metadata": {},
   "outputs": [
    {
     "data": {
      "text/plain": [
       "0.0    18446\n",
       "1.0     7290\n",
       "Name: chronic_med_condition, dtype: int64"
      ]
     },
     "execution_count": 78,
     "metadata": {},
     "output_type": "execute_result"
    }
   ],
   "source": [
    "train_set_features_df.chronic_med_condition.value_counts()"
   ]
  },
  {
   "cell_type": "markdown",
   "id": "f987da78",
   "metadata": {},
   "source": [
    "### In most cases patient didnot have any chronic medical condition"
   ]
  },
  {
   "cell_type": "code",
   "execution_count": 79,
   "id": "b1e24d57",
   "metadata": {},
   "outputs": [
    {
     "data": {
      "text/plain": [
       "0.0    23749\n",
       "1.0     2138\n",
       "Name: child_under_6_months, dtype: int64"
      ]
     },
     "execution_count": 79,
     "metadata": {},
     "output_type": "execute_result"
    }
   ],
   "source": [
    "train_set_features_df.child_under_6_months.value_counts()"
   ]
  },
  {
   "cell_type": "markdown",
   "id": "0dc3eaaa",
   "metadata": {},
   "source": [
    "### Most cases patient didnot have any contact with children below 6 months old"
   ]
  },
  {
   "cell_type": "code",
   "execution_count": 80,
   "id": "7b8b5f22",
   "metadata": {},
   "outputs": [
    {
     "data": {
      "text/plain": [
       "0.0    23004\n",
       "1.0     2899\n",
       "Name: health_worker, dtype: int64"
      ]
     },
     "execution_count": 80,
     "metadata": {},
     "output_type": "execute_result"
    }
   ],
   "source": [
    "train_set_features_df.health_worker.value_counts()"
   ]
  },
  {
   "cell_type": "markdown",
   "id": "c48827af",
   "metadata": {},
   "source": [
    "### Most patients were not a health worker"
   ]
  },
  {
   "cell_type": "code",
   "execution_count": 81,
   "id": "d295d3f7",
   "metadata": {},
   "outputs": [
    {
     "data": {
      "text/plain": [
       "1.0    12697\n",
       "0.0     1736\n",
       "Name: health_insurance, dtype: int64"
      ]
     },
     "execution_count": 81,
     "metadata": {},
     "output_type": "execute_result"
    }
   ],
   "source": [
    "train_set_features_df.health_insurance.value_counts()"
   ]
  },
  {
   "cell_type": "markdown",
   "id": "9c73f237",
   "metadata": {},
   "source": [
    "### Most cases patient did have health insurance"
   ]
  },
  {
   "cell_type": "markdown",
   "id": "1dd2150e",
   "metadata": {},
   "source": [
    "### What was the income status of people having health insurance ?"
   ]
  },
  {
   "cell_type": "code",
   "execution_count": 82,
   "id": "c55cf6c7",
   "metadata": {},
   "outputs": [
    {
     "data": {
      "text/plain": [
       "<= $75,000, Above Poverty    6413\n",
       "> $75,000                    3703\n",
       "Below Poverty                1067\n",
       "Name: income_poverty, dtype: int64"
      ]
     },
     "execution_count": 82,
     "metadata": {},
     "output_type": "execute_result"
    }
   ],
   "source": [
    "train_set_features_df[train_set_features_df.health_insurance == 1].income_poverty.value_counts()"
   ]
  },
  {
   "cell_type": "markdown",
   "id": "490ad03c",
   "metadata": {},
   "source": [
    "### Do employed people only have health insurance ?\n",
    "\n",
    "Some of the unemployed people (~500) still had insurance"
   ]
  },
  {
   "cell_type": "code",
   "execution_count": 83,
   "id": "33af1577",
   "metadata": {},
   "outputs": [
    {
     "data": {
      "text/plain": [
       "Employed              6681\n",
       "Not in Labor Force    5413\n",
       "Unemployed             514\n",
       "Name: employment_status, dtype: int64"
      ]
     },
     "execution_count": 83,
     "metadata": {},
     "output_type": "execute_result"
    }
   ],
   "source": [
    "train_set_features_df[train_set_features_df.health_insurance == 1].employment_status.value_counts()"
   ]
  },
  {
   "cell_type": "code",
   "execution_count": 84,
   "id": "2b215ccc",
   "metadata": {},
   "outputs": [
    {
     "data": {
      "text/plain": [
       "4.0    11683\n",
       "5.0     7166\n",
       "3.0     4723\n",
       "2.0     1858\n",
       "1.0      886\n",
       "Name: opinion_h1n1_vacc_effective, dtype: int64"
      ]
     },
     "execution_count": 84,
     "metadata": {},
     "output_type": "execute_result"
    }
   ],
   "source": [
    "train_set_features_df.opinion_h1n1_vacc_effective.value_counts()"
   ]
  },
  {
   "cell_type": "code",
   "execution_count": 85,
   "id": "b239c233",
   "metadata": {},
   "outputs": [
    {
     "data": {
      "image/png": "[encoded data removed]",
      "text/plain": [
       "<Figure size 432x288 with 1 Axes>"
      ]
     },
     "metadata": {
      "needs_background": "light"
     },
     "output_type": "display_data"
    }
   ],
   "source": [
    "age_group_counts = train_set_features_df.age_group.value_counts()\n",
    "\n",
    "plot_bar(\n",
    "    age_group_counts.index, \n",
    "    age_group_counts.values, \n",
    "    \"Age Groups of People\",\n",
    "    \"Age group\",\n",
    "    \"Count\"\n",
    ")"
   ]
  },
  {
   "cell_type": "markdown",
   "id": "4f7d6e7c",
   "metadata": {},
   "source": [
    "### Most cases of h1n1 was found for 65+ years age group"
   ]
  },
  {
   "cell_type": "code",
   "execution_count": 86,
   "id": "937d684a",
   "metadata": {},
   "outputs": [
    {
     "data": {
      "image/png": "[encoded data removed]",
      "text/plain": [
       "<Figure size 432x288 with 1 Axes>"
      ]
     },
     "metadata": {
      "needs_background": "light"
     },
     "output_type": "display_data"
    }
   ],
   "source": [
    "education_levels = train_set_features_df.education.value_counts()\n",
    "plt.title(\"Education levels of people\")\n",
    "plt.ylabel(\"Count\")\n",
    "plt.xlabel(\"Education\")\n",
    "plt.bar(education_levels.index, education_levels.values);"
   ]
  },
  {
   "cell_type": "markdown",
   "id": "87ffb4e5",
   "metadata": {},
   "source": [
    "### Most of people are college graduates"
   ]
  },
  {
   "cell_type": "code",
   "execution_count": 87,
   "id": "69cd760b",
   "metadata": {},
   "outputs": [
    {
     "data": {
      "image/png": "[encoded data removed]",
      "text/plain": [
       "<Figure size 432x288 with 1 Axes>"
      ]
     },
     "metadata": {
      "needs_background": "light"
     },
     "output_type": "display_data"
    }
   ],
   "source": [
    "race_counts = train_set_features_df.race.value_counts()\n",
    "plt.title(\"Race of people\")\n",
    "plt.ylabel(\"Count\")\n",
    "plt.xlabel(\"Race\")\n",
    "plt.bar(race_counts.index, race_counts.values);"
   ]
  },
  {
   "cell_type": "markdown",
   "id": "ef965231",
   "metadata": {},
   "source": [
    "### Most of the respondents are white people"
   ]
  },
  {
   "cell_type": "code",
   "execution_count": 88,
   "id": "fc9ee23a",
   "metadata": {},
   "outputs": [
    {
     "data": {
      "image/png": "[encoded data removed]",
      "text/plain": [
       "<Figure size 432x288 with 1 Axes>"
      ]
     },
     "metadata": {
      "needs_background": "light"
     },
     "output_type": "display_data"
    }
   ],
   "source": [
    "sex_counts = train_set_features_df.sex.value_counts()\n",
    "plt.title(\"Sex of people\")\n",
    "plt.ylabel(\"Count\")\n",
    "plt.xlabel(\"Sex\")\n",
    "plt.bar(sex_counts.index, sex_counts.values);"
   ]
  },
  {
   "cell_type": "markdown",
   "id": "1e8a8902",
   "metadata": {},
   "source": [
    "### More female respondents are present than males"
   ]
  },
  {
   "cell_type": "code",
   "execution_count": 89,
   "id": "0ad55a49",
   "metadata": {},
   "outputs": [
    {
     "data": {
      "image/png": "[encoded data removed]",
      "text/plain": [
       "<Figure size 432x288 with 1 Axes>"
      ]
     },
     "metadata": {
      "needs_background": "light"
     },
     "output_type": "display_data"
    }
   ],
   "source": [
    "income_poverty_counts = train_set_features_df.income_poverty.value_counts()\n",
    "plt.title(\"Income of people\")\n",
    "plt.ylabel(\"Count\")\n",
    "plt.xlabel(\"Income\")\n",
    "plt.bar(income_poverty_counts.index, income_poverty_counts.values);"
   ]
  },
  {
   "cell_type": "markdown",
   "id": "92c0dc15",
   "metadata": {},
   "source": [
    "### Most respondents seem to be above poverty level"
   ]
  },
  {
   "cell_type": "code",
   "execution_count": 90,
   "id": "cc5fd539",
   "metadata": {},
   "outputs": [
    {
     "data": {
      "image/png": "[encoded data removed]",
      "text/plain": [
       "<Figure size 432x288 with 1 Axes>"
      ]
     },
     "metadata": {
      "needs_background": "light"
     },
     "output_type": "display_data"
    }
   ],
   "source": [
    "marital_status_counts = train_set_features_df.marital_status.value_counts()\n",
    "plt.title(\"Martial Status of people\")\n",
    "plt.ylabel(\"Count\")\n",
    "plt.xlabel(\"Status\")\n",
    "plt.bar(marital_status_counts.index, marital_status_counts.values);"
   ]
  },
  {
   "cell_type": "markdown",
   "id": "3ec23aca",
   "metadata": {},
   "source": [
    "### We have almost equal number of married and unmarried respondents"
   ]
  },
  {
   "cell_type": "code",
   "execution_count": 91,
   "id": "14f39cd7",
   "metadata": {},
   "outputs": [
    {
     "data": {
      "image/png": "[encoded data removed]",
      "text/plain": [
       "<Figure size 432x288 with 1 Axes>"
      ]
     },
     "metadata": {
      "needs_background": "light"
     },
     "output_type": "display_data"
    }
   ],
   "source": [
    "rent_status_counts = train_set_features_df.rent_or_own.value_counts()\n",
    "plt.title(\"Housing Status of people\")\n",
    "plt.ylabel(\"Count\")\n",
    "plt.xlabel(\"Rent or Own\")\n",
    "plt.bar(rent_status_counts.index, rent_status_counts.values);"
   ]
  },
  {
   "cell_type": "markdown",
   "id": "d593b28a",
   "metadata": {},
   "source": [
    "### Most respondents own their own house"
   ]
  },
  {
   "cell_type": "code",
   "execution_count": 92,
   "id": "55b77b4a",
   "metadata": {},
   "outputs": [
    {
     "data": {
      "image/png": "[encoded data removed]",
      "text/plain": [
       "<Figure size 432x288 with 1 Axes>"
      ]
     },
     "metadata": {
      "needs_background": "light"
     },
     "output_type": "display_data"
    }
   ],
   "source": [
    "emp_status_counts = train_set_features_df.employment_status.value_counts()\n",
    "plt.title(\"Employent Status of people\")\n",
    "plt.ylabel(\"Count\")\n",
    "plt.xlabel(\"Employment\")\n",
    "plt.bar(emp_status_counts.index, emp_status_counts.values);"
   ]
  },
  {
   "cell_type": "markdown",
   "id": "db2dae2a",
   "metadata": {},
   "source": [
    "### Most of the respodents seem to be employed"
   ]
  },
  {
   "cell_type": "code",
   "execution_count": 93,
   "id": "5038be46",
   "metadata": {},
   "outputs": [
    {
     "data": {
      "text/plain": [
       "1.0    14474\n",
       "0.0     8056\n",
       "2.0     2803\n",
       "3.0     1125\n",
       "Name: household_adults, dtype: int64"
      ]
     },
     "execution_count": 93,
     "metadata": {},
     "output_type": "execute_result"
    }
   ],
   "source": [
    "train_set_features_df.household_adults.value_counts()"
   ]
  },
  {
   "cell_type": "markdown",
   "id": "869a5eda",
   "metadata": {},
   "source": [
    "### Most households have only single Adult in the house"
   ]
  },
  {
   "cell_type": "code",
   "execution_count": 94,
   "id": "718ea981",
   "metadata": {},
   "outputs": [
    {
     "data": {
      "text/plain": [
       "0.0    18672\n",
       "1.0     3175\n",
       "2.0     2864\n",
       "3.0     1747\n",
       "Name: household_children, dtype: int64"
      ]
     },
     "execution_count": 94,
     "metadata": {},
     "output_type": "execute_result"
    }
   ],
   "source": [
    "train_set_features_df.household_children.value_counts()"
   ]
  },
  {
   "cell_type": "markdown",
   "id": "9ca808a8",
   "metadata": {},
   "source": [
    "### Most household dont have a single child"
   ]
  },
  {
   "cell_type": "code",
   "execution_count": 95,
   "id": "15608ebf",
   "metadata": {},
   "outputs": [
    {
     "data": {
      "text/plain": [
       "fcxhlnwr    2468\n",
       "wxleyezf    1804\n",
       "ldnlellj    1231\n",
       "pxcmvdjn    1037\n",
       "atmlpfrs     926\n",
       "arjwrbjb     871\n",
       "xicduogh     851\n",
       "mfikgejo     614\n",
       "vjjrobsf     527\n",
       "rucpziij     523\n",
       "xqicxuve     511\n",
       "saaquncn     338\n",
       "cfqqtusy     325\n",
       "nduyfdeo     286\n",
       "mcubkhph     275\n",
       "wlfvacwt     215\n",
       "dotnnunm     201\n",
       "haxffmxo     148\n",
       "msuufmds     124\n",
       "phxvnwax      89\n",
       "qnlwzans      13\n",
       "Name: employment_industry, dtype: int64"
      ]
     },
     "execution_count": 95,
     "metadata": {},
     "output_type": "execute_result"
    }
   ],
   "source": [
    "train_set_features_df.employment_industry.value_counts()  # random chars"
   ]
  },
  {
   "cell_type": "code",
   "execution_count": 96,
   "id": "c3c6f77c",
   "metadata": {},
   "outputs": [
    {
     "data": {
      "text/plain": [
       "xtkaffoo    1778\n",
       "mxkfnird    1509\n",
       "emcorrxb    1270\n",
       "cmhcxjea    1247\n",
       "xgwztkwe    1082\n",
       "hfxkjkmi     766\n",
       "qxajmpny     548\n",
       "xqwwgdyp     485\n",
       "kldqjyjy     469\n",
       "uqqtjvyb     452\n",
       "tfqavkke     388\n",
       "ukymxvdu     372\n",
       "vlluhbov     354\n",
       "oijqvulv     344\n",
       "ccgxvspp     341\n",
       "bxpfxfdn     331\n",
       "haliazsg     296\n",
       "rcertsgn     276\n",
       "xzmlyyjv     248\n",
       "dlvbwzss     227\n",
       "hodpvpew     208\n",
       "dcjcmpih     148\n",
       "pvmttkik      98\n",
       "Name: employment_occupation, dtype: int64"
      ]
     },
     "execution_count": 96,
     "metadata": {},
     "output_type": "execute_result"
    }
   ],
   "source": [
    "train_set_features_df.employment_occupation.value_counts() #random"
   ]
  },
  {
   "cell_type": "code",
   "execution_count": 97,
   "id": "2a29911c",
   "metadata": {},
   "outputs": [
    {
     "data": {
      "text/plain": [
       "lzgpxyit    4297\n",
       "fpwskwrf    3265\n",
       "qufhixun    3102\n",
       "oxchjgsf    2859\n",
       "kbazzjca    2858\n",
       "bhuqouqj    2846\n",
       "mlyzmhmf    2243\n",
       "lrircsnp    2078\n",
       "atmpeygn    2033\n",
       "dqpwygqj    1126\n",
       "Name: hhs_geo_region, dtype: int64"
      ]
     },
     "execution_count": 97,
     "metadata": {},
     "output_type": "execute_result"
    }
   ],
   "source": [
    "train_set_features_df.hhs_geo_region.value_counts() #random"
   ]
  },
  {
   "cell_type": "markdown",
   "id": "ecace0d6",
   "metadata": {},
   "source": [
    "### Distribution of h1n1 and seasonal flu vaccines"
   ]
  },
  {
   "cell_type": "code",
   "execution_count": 98,
   "id": "ad9b8b1a",
   "metadata": {},
   "outputs": [
    {
     "data": {
      "image/png": "[encoded data removed]",
      "text/plain": [
       "<Figure size 432x288 with 1 Axes>"
      ]
     },
     "metadata": {
      "needs_background": "light"
     },
     "output_type": "display_data"
    }
   ],
   "source": [
    "# train_set_features_df.h1n1_vaccine = train_set_features_df.h1n1_vaccine.map(lambda x: 'taken' if x==1 else 'not taken')\n",
    "vaccine_counts = train_set_features_df.h1n1_vaccine.value_counts()\n",
    "plot_bar(\n",
    "    vaccine_counts.index,\n",
    "    vaccine_counts.values,\n",
    "    \"Distribution of h1n1 vaccine\",\n",
    "    \"Vaccine was taken/not taken\",\n",
    "    \"Count\"\n",
    ")"
   ]
  },
  {
   "cell_type": "markdown",
   "id": "ffe64433",
   "metadata": {},
   "source": [
    "Seems like this category is highly unbalanced towards people who haven't taken the h1n1 vaccine"
   ]
  },
  {
   "cell_type": "code",
   "execution_count": 99,
   "id": "b5457439",
   "metadata": {},
   "outputs": [
    {
     "data": {
      "image/png": "[encoded data removed]",
      "text/plain": [
       "<Figure size 432x288 with 1 Axes>"
      ]
     },
     "metadata": {
      "needs_background": "light"
     },
     "output_type": "display_data"
    }
   ],
   "source": [
    "# train_set_features_df.seasonal_vaccine = train_set_features_df.seasonal_vaccine.map(lambda x: 'taken' if x==1 else 'not taken')\n",
    "vaccine_counts = train_set_features_df.seasonal_vaccine.value_counts()\n",
    "plot_bar(\n",
    "    vaccine_counts.index,\n",
    "    vaccine_counts.values,\n",
    "    \"Distribution of seasonal vaccine\",\n",
    "    \"Vaccine was taken/not taken\",\n",
    "    \"Count\"\n",
    ")"
   ]
  },
  {
   "cell_type": "markdown",
   "id": "5055d981",
   "metadata": {},
   "source": [
    "Seasonal vaccine seems to be balanced, almost equivalent number of people have taken the seasonal flu vaccine then those who haven't"
   ]
  },
  {
   "cell_type": "code",
   "execution_count": 100,
   "id": "16f88c6b",
   "metadata": {},
   "outputs": [
    {
     "data": {
      "text/html": [
       "<div>\n",
       "<style scoped>\n",
       "    .dataframe tbody tr th:only-of-type {\n",
       "        vertical-align: middle;\n",
       "    }\n",
       "\n",
       "    .dataframe tbody tr th {\n",
       "        vertical-align: top;\n",
       "    }\n",
       "\n",
       "    .dataframe thead th {\n",
       "        text-align: right;\n",
       "    }\n",
       "</style>\n",
       "<table border=\"1\" class=\"dataframe\">\n",
       "  <thead>\n",
       "    <tr style=\"text-align: right;\">\n",
       "      <th></th>\n",
       "      <th>h1n1_concern</th>\n",
       "      <th>h1n1_knowledge</th>\n",
       "      <th>h1n1_vaccine</th>\n",
       "    </tr>\n",
       "  </thead>\n",
       "  <tbody>\n",
       "    <tr>\n",
       "      <th>0</th>\n",
       "      <td>1.0</td>\n",
       "      <td>0.0</td>\n",
       "      <td>0</td>\n",
       "    </tr>\n",
       "    <tr>\n",
       "      <th>1</th>\n",
       "      <td>3.0</td>\n",
       "      <td>2.0</td>\n",
       "      <td>0</td>\n",
       "    </tr>\n",
       "    <tr>\n",
       "      <th>2</th>\n",
       "      <td>1.0</td>\n",
       "      <td>1.0</td>\n",
       "      <td>0</td>\n",
       "    </tr>\n",
       "    <tr>\n",
       "      <th>3</th>\n",
       "      <td>1.0</td>\n",
       "      <td>1.0</td>\n",
       "      <td>0</td>\n",
       "    </tr>\n",
       "    <tr>\n",
       "      <th>4</th>\n",
       "      <td>2.0</td>\n",
       "      <td>1.0</td>\n",
       "      <td>0</td>\n",
       "    </tr>\n",
       "    <tr>\n",
       "      <th>...</th>\n",
       "      <td>...</td>\n",
       "      <td>...</td>\n",
       "      <td>...</td>\n",
       "    </tr>\n",
       "    <tr>\n",
       "      <th>26702</th>\n",
       "      <td>2.0</td>\n",
       "      <td>0.0</td>\n",
       "      <td>0</td>\n",
       "    </tr>\n",
       "    <tr>\n",
       "      <th>26703</th>\n",
       "      <td>1.0</td>\n",
       "      <td>2.0</td>\n",
       "      <td>0</td>\n",
       "    </tr>\n",
       "    <tr>\n",
       "      <th>26704</th>\n",
       "      <td>2.0</td>\n",
       "      <td>2.0</td>\n",
       "      <td>0</td>\n",
       "    </tr>\n",
       "    <tr>\n",
       "      <th>26705</th>\n",
       "      <td>1.0</td>\n",
       "      <td>1.0</td>\n",
       "      <td>0</td>\n",
       "    </tr>\n",
       "    <tr>\n",
       "      <th>26706</th>\n",
       "      <td>0.0</td>\n",
       "      <td>0.0</td>\n",
       "      <td>0</td>\n",
       "    </tr>\n",
       "  </tbody>\n",
       "</table>\n",
       "<p>26707 rows × 3 columns</p>\n",
       "</div>"
      ],
      "text/plain": [
       "       h1n1_concern  h1n1_knowledge  h1n1_vaccine\n",
       "0               1.0             0.0             0\n",
       "1               3.0             2.0             0\n",
       "2               1.0             1.0             0\n",
       "3               1.0             1.0             0\n",
       "4               2.0             1.0             0\n",
       "...             ...             ...           ...\n",
       "26702           2.0             0.0             0\n",
       "26703           1.0             2.0             0\n",
       "26704           2.0             2.0             0\n",
       "26705           1.0             1.0             0\n",
       "26706           0.0             0.0             0\n",
       "\n",
       "[26707 rows x 3 columns]"
      ]
     },
     "execution_count": 100,
     "metadata": {},
     "output_type": "execute_result"
    }
   ],
   "source": [
    "train_set_features_df[['h1n1_concern', 'h1n1_knowledge', 'h1n1_vaccine']]"
   ]
  },
  {
   "cell_type": "markdown",
   "id": "30d8cbdd",
   "metadata": {},
   "source": [
    "### Correlation of h1n1 vaccine and related attributes"
   ]
  },
  {
   "cell_type": "code",
   "execution_count": 133,
   "id": "c459f417",
   "metadata": {},
   "outputs": [
    {
     "data": {
      "text/html": [
       "<style  type=\"text/css\" >\n",
       "#T_d9a0e_row0_col0,#T_d9a0e_row1_col1,#T_d9a0e_row2_col2,#T_d9a0e_row3_col3,#T_d9a0e_row4_col4{\n",
       "            background-color:  #023858;\n",
       "            color:  #f1f1f1;\n",
       "        }#T_d9a0e_row0_col1,#T_d9a0e_row0_col2,#T_d9a0e_row0_col3,#T_d9a0e_row1_col4,#T_d9a0e_row2_col0,#T_d9a0e_row2_col4{\n",
       "            background-color:  #fff7fb;\n",
       "            color:  #000000;\n",
       "        }#T_d9a0e_row0_col4{\n",
       "            background-color:  #fef6fb;\n",
       "            color:  #000000;\n",
       "        }#T_d9a0e_row1_col0{\n",
       "            background-color:  #f5eff6;\n",
       "            color:  #000000;\n",
       "        }#T_d9a0e_row1_col2,#T_d9a0e_row4_col2{\n",
       "            background-color:  #ede7f2;\n",
       "            color:  #000000;\n",
       "        }#T_d9a0e_row1_col3,#T_d9a0e_row4_col3{\n",
       "            background-color:  #e8e4f0;\n",
       "            color:  #000000;\n",
       "        }#T_d9a0e_row2_col1,#T_d9a0e_row3_col4,#T_d9a0e_row4_col1{\n",
       "            background-color:  #f6eff7;\n",
       "            color:  #000000;\n",
       "        }#T_d9a0e_row2_col3{\n",
       "            background-color:  #fdf5fa;\n",
       "            color:  #000000;\n",
       "        }#T_d9a0e_row3_col0{\n",
       "            background-color:  #faf2f8;\n",
       "            color:  #000000;\n",
       "        }#T_d9a0e_row3_col1{\n",
       "            background-color:  #eee8f3;\n",
       "            color:  #000000;\n",
       "        }#T_d9a0e_row3_col2{\n",
       "            background-color:  #f8f1f8;\n",
       "            color:  #000000;\n",
       "        }#T_d9a0e_row4_col0{\n",
       "            background-color:  #ece7f2;\n",
       "            color:  #000000;\n",
       "        }</style><table id=\"T_d9a0e_\" ><thead>    <tr>        <th class=\"blank level0\" ></th>        <th class=\"col_heading level0 col0\" >h1n1_concern</th>        <th class=\"col_heading level0 col1\" >h1n1_knowledge</th>        <th class=\"col_heading level0 col2\" >health_insurance</th>        <th class=\"col_heading level0 col3\" >health_worker</th>        <th class=\"col_heading level0 col4\" >h1n1_vaccine</th>    </tr></thead><tbody>\n",
       "                <tr>\n",
       "                        <th id=\"T_d9a0e_level0_row0\" class=\"row_heading level0 row0\" >h1n1_concern</th>\n",
       "                        <td id=\"T_d9a0e_row0_col0\" class=\"data row0 col0\" >1.000000</td>\n",
       "                        <td id=\"T_d9a0e_row0_col1\" class=\"data row0 col1\" >0.062522</td>\n",
       "                        <td id=\"T_d9a0e_row0_col2\" class=\"data row0 col2\" >-0.003655</td>\n",
       "                        <td id=\"T_d9a0e_row0_col3\" class=\"data row0 col3\" >0.033562</td>\n",
       "                        <td id=\"T_d9a0e_row0_col4\" class=\"data row0 col4\" >0.121929</td>\n",
       "            </tr>\n",
       "            <tr>\n",
       "                        <th id=\"T_d9a0e_level0_row1\" class=\"row_heading level0 row1\" >h1n1_knowledge</th>\n",
       "                        <td id=\"T_d9a0e_row1_col0\" class=\"data row1 col0\" >0.062522</td>\n",
       "                        <td id=\"T_d9a0e_row1_col1\" class=\"data row1 col1\" >1.000000</td>\n",
       "                        <td id=\"T_d9a0e_row1_col2\" class=\"data row1 col2\" >0.119408</td>\n",
       "                        <td id=\"T_d9a0e_row1_col3\" class=\"data row1 col3\" >0.170252</td>\n",
       "                        <td id=\"T_d9a0e_row1_col4\" class=\"data row1 col4\" >0.117951</td>\n",
       "            </tr>\n",
       "            <tr>\n",
       "                        <th id=\"T_d9a0e_level0_row2\" class=\"row_heading level0 row2\" >health_insurance</th>\n",
       "                        <td id=\"T_d9a0e_row2_col0\" class=\"data row2 col0\" >-0.003655</td>\n",
       "                        <td id=\"T_d9a0e_row2_col1\" class=\"data row2 col1\" >0.119408</td>\n",
       "                        <td id=\"T_d9a0e_row2_col2\" class=\"data row2 col2\" >1.000000</td>\n",
       "                        <td id=\"T_d9a0e_row2_col3\" class=\"data row2 col3\" >0.046680</td>\n",
       "                        <td id=\"T_d9a0e_row2_col4\" class=\"data row2 col4\" >0.121170</td>\n",
       "            </tr>\n",
       "            <tr>\n",
       "                        <th id=\"T_d9a0e_level0_row3\" class=\"row_heading level0 row3\" >health_worker</th>\n",
       "                        <td id=\"T_d9a0e_row3_col0\" class=\"data row3 col0\" >0.033562</td>\n",
       "                        <td id=\"T_d9a0e_row3_col1\" class=\"data row3 col1\" >0.170252</td>\n",
       "                        <td id=\"T_d9a0e_row3_col2\" class=\"data row3 col2\" >0.046680</td>\n",
       "                        <td id=\"T_d9a0e_row3_col3\" class=\"data row3 col3\" >1.000000</td>\n",
       "                        <td id=\"T_d9a0e_row3_col4\" class=\"data row3 col4\" >0.169768</td>\n",
       "            </tr>\n",
       "            <tr>\n",
       "                        <th id=\"T_d9a0e_level0_row4\" class=\"row_heading level0 row4\" >h1n1_vaccine</th>\n",
       "                        <td id=\"T_d9a0e_row4_col0\" class=\"data row4 col0\" >0.121929</td>\n",
       "                        <td id=\"T_d9a0e_row4_col1\" class=\"data row4 col1\" >0.117951</td>\n",
       "                        <td id=\"T_d9a0e_row4_col2\" class=\"data row4 col2\" >0.121170</td>\n",
       "                        <td id=\"T_d9a0e_row4_col3\" class=\"data row4 col3\" >0.169768</td>\n",
       "                        <td id=\"T_d9a0e_row4_col4\" class=\"data row4 col4\" >1.000000</td>\n",
       "            </tr>\n",
       "    </tbody></table>"
      ],
      "text/plain": [
       "<pandas.io.formats.style.Styler at 0x1ca9e9c3280>"
      ]
     },
     "execution_count": 133,
     "metadata": {},
     "output_type": "execute_result"
    }
   ],
   "source": [
    "cols = ['h1n1_concern', 'h1n1_knowledge', 'health_insurance', 'health_worker', 'h1n1_vaccine']\n",
    "# ref: https://stackoverflow.com/questions/29432629/plot-correlation-matrix-using-pandas\n",
    "h1n1_corr_related = train_set_features_df[cols].corr()\n",
    "h1n1_corr_related.style.background_gradient() # ref:https://matplotlib.org/stable/tutorials/colors/colormaps.html"
   ]
  },
  {
   "cell_type": "markdown",
   "id": "1500ab50",
   "metadata": {},
   "source": [
    "Seems like most of these features donot contribute to h1n1 vaccine"
   ]
  },
  {
   "cell_type": "markdown",
   "id": "29088ffd",
   "metadata": {},
   "source": [
    "### Correlation between seasonal vaccine and related attributes"
   ]
  },
  {
   "cell_type": "code",
   "execution_count": 134,
   "id": "94fcea55",
   "metadata": {},
   "outputs": [
    {
     "data": {
      "text/html": [
       "<style  type=\"text/css\" >\n",
       "#T_5e6bf_row0_col0,#T_5e6bf_row1_col1,#T_5e6bf_row2_col2,#T_5e6bf_row3_col3,#T_5e6bf_row4_col4{\n",
       "            background-color:  #023858;\n",
       "            color:  #f1f1f1;\n",
       "        }#T_5e6bf_row0_col1,#T_5e6bf_row0_col2,#T_5e6bf_row0_col3,#T_5e6bf_row1_col4,#T_5e6bf_row2_col0{\n",
       "            background-color:  #fff7fb;\n",
       "            color:  #000000;\n",
       "        }#T_5e6bf_row0_col4{\n",
       "            background-color:  #f9f2f8;\n",
       "            color:  #000000;\n",
       "        }#T_5e6bf_row1_col0{\n",
       "            background-color:  #f5eff6;\n",
       "            color:  #000000;\n",
       "        }#T_5e6bf_row1_col2{\n",
       "            background-color:  #ede7f2;\n",
       "            color:  #000000;\n",
       "        }#T_5e6bf_row1_col3{\n",
       "            background-color:  #e8e4f0;\n",
       "            color:  #000000;\n",
       "        }#T_5e6bf_row2_col1,#T_5e6bf_row4_col1{\n",
       "            background-color:  #f6eff7;\n",
       "            color:  #000000;\n",
       "        }#T_5e6bf_row2_col3{\n",
       "            background-color:  #fdf5fa;\n",
       "            color:  #000000;\n",
       "        }#T_5e6bf_row2_col4{\n",
       "            background-color:  #f1ebf5;\n",
       "            color:  #000000;\n",
       "        }#T_5e6bf_row3_col0{\n",
       "            background-color:  #faf2f8;\n",
       "            color:  #000000;\n",
       "        }#T_5e6bf_row3_col1{\n",
       "            background-color:  #eee8f3;\n",
       "            color:  #000000;\n",
       "        }#T_5e6bf_row3_col2{\n",
       "            background-color:  #f8f1f8;\n",
       "            color:  #000000;\n",
       "        }#T_5e6bf_row3_col4{\n",
       "            background-color:  #fef6fa;\n",
       "            color:  #000000;\n",
       "        }#T_5e6bf_row4_col0{\n",
       "            background-color:  #e5e1ef;\n",
       "            color:  #000000;\n",
       "        }#T_5e6bf_row4_col2{\n",
       "            background-color:  #dad9ea;\n",
       "            color:  #000000;\n",
       "        }#T_5e6bf_row4_col3{\n",
       "            background-color:  #f1ebf4;\n",
       "            color:  #000000;\n",
       "        }</style><table id=\"T_5e6bf_\" ><thead>    <tr>        <th class=\"blank level0\" ></th>        <th class=\"col_heading level0 col0\" >h1n1_concern</th>        <th class=\"col_heading level0 col1\" >h1n1_knowledge</th>        <th class=\"col_heading level0 col2\" >health_insurance</th>        <th class=\"col_heading level0 col3\" >health_worker</th>        <th class=\"col_heading level0 col4\" >seasonal_vaccine</th>    </tr></thead><tbody>\n",
       "                <tr>\n",
       "                        <th id=\"T_5e6bf_level0_row0\" class=\"row_heading level0 row0\" >h1n1_concern</th>\n",
       "                        <td id=\"T_5e6bf_row0_col0\" class=\"data row0 col0\" >1.000000</td>\n",
       "                        <td id=\"T_5e6bf_row0_col1\" class=\"data row0 col1\" >0.062522</td>\n",
       "                        <td id=\"T_5e6bf_row0_col2\" class=\"data row0 col2\" >-0.003655</td>\n",
       "                        <td id=\"T_5e6bf_row0_col3\" class=\"data row0 col3\" >0.033562</td>\n",
       "                        <td id=\"T_5e6bf_row0_col4\" class=\"data row0 col4\" >0.154828</td>\n",
       "            </tr>\n",
       "            <tr>\n",
       "                        <th id=\"T_5e6bf_level0_row1\" class=\"row_heading level0 row1\" >h1n1_knowledge</th>\n",
       "                        <td id=\"T_5e6bf_row1_col0\" class=\"data row1 col0\" >0.062522</td>\n",
       "                        <td id=\"T_5e6bf_row1_col1\" class=\"data row1 col1\" >1.000000</td>\n",
       "                        <td id=\"T_5e6bf_row1_col2\" class=\"data row1 col2\" >0.119408</td>\n",
       "                        <td id=\"T_5e6bf_row1_col3\" class=\"data row1 col3\" >0.170252</td>\n",
       "                        <td id=\"T_5e6bf_row1_col4\" class=\"data row1 col4\" >0.120152</td>\n",
       "            </tr>\n",
       "            <tr>\n",
       "                        <th id=\"T_5e6bf_level0_row2\" class=\"row_heading level0 row2\" >health_insurance</th>\n",
       "                        <td id=\"T_5e6bf_row2_col0\" class=\"data row2 col0\" >-0.003655</td>\n",
       "                        <td id=\"T_5e6bf_row2_col1\" class=\"data row2 col1\" >0.119408</td>\n",
       "                        <td id=\"T_5e6bf_row2_col2\" class=\"data row2 col2\" >1.000000</td>\n",
       "                        <td id=\"T_5e6bf_row2_col3\" class=\"data row2 col3\" >0.046680</td>\n",
       "                        <td id=\"T_5e6bf_row2_col4\" class=\"data row2 col4\" >0.200858</td>\n",
       "            </tr>\n",
       "            <tr>\n",
       "                        <th id=\"T_5e6bf_level0_row3\" class=\"row_heading level0 row3\" >health_worker</th>\n",
       "                        <td id=\"T_5e6bf_row3_col0\" class=\"data row3 col0\" >0.033562</td>\n",
       "                        <td id=\"T_5e6bf_row3_col1\" class=\"data row3 col1\" >0.170252</td>\n",
       "                        <td id=\"T_5e6bf_row3_col2\" class=\"data row3 col2\" >0.046680</td>\n",
       "                        <td id=\"T_5e6bf_row3_col3\" class=\"data row3 col3\" >1.000000</td>\n",
       "                        <td id=\"T_5e6bf_row3_col4\" class=\"data row3 col4\" >0.127311</td>\n",
       "            </tr>\n",
       "            <tr>\n",
       "                        <th id=\"T_5e6bf_level0_row4\" class=\"row_heading level0 row4\" >seasonal_vaccine</th>\n",
       "                        <td id=\"T_5e6bf_row4_col0\" class=\"data row4 col0\" >0.154828</td>\n",
       "                        <td id=\"T_5e6bf_row4_col1\" class=\"data row4 col1\" >0.120152</td>\n",
       "                        <td id=\"T_5e6bf_row4_col2\" class=\"data row4 col2\" >0.200858</td>\n",
       "                        <td id=\"T_5e6bf_row4_col3\" class=\"data row4 col3\" >0.127311</td>\n",
       "                        <td id=\"T_5e6bf_row4_col4\" class=\"data row4 col4\" >1.000000</td>\n",
       "            </tr>\n",
       "    </tbody></table>"
      ],
      "text/plain": [
       "<pandas.io.formats.style.Styler at 0x1ca9f449640>"
      ]
     },
     "execution_count": 134,
     "metadata": {},
     "output_type": "execute_result"
    }
   ],
   "source": [
    "cols = ['h1n1_concern', 'h1n1_knowledge', 'health_insurance', 'health_worker', 'seasonal_vaccine']\n",
    "seasonal_corr_related = train_set_features_df[cols].corr()\n",
    "seasonal_corr_related.style.background_gradient()"
   ]
  },
  {
   "cell_type": "markdown",
   "id": "3d660f65",
   "metadata": {},
   "source": [
    "Seems like most of these features donot contribute to h1n1 vaccine"
   ]
  },
  {
   "cell_type": "markdown",
   "id": "3a322088",
   "metadata": {},
   "source": [
    "### h1n1 vaccine and behavioural correlation"
   ]
  },
  {
   "cell_type": "code",
   "execution_count": 150,
   "id": "8d55614a",
   "metadata": {},
   "outputs": [
    {
     "data": {
      "text/html": [
       "<style  type=\"text/css\" >\n",
       "#T_18801_row0_col0,#T_18801_row1_col1,#T_18801_row2_col2,#T_18801_row3_col3,#T_18801_row4_col4,#T_18801_row5_col5,#T_18801_row6_col6,#T_18801_row7_col7,#T_18801_row8_col8,#T_18801_row9_col9,#T_18801_row10_col10{\n",
       "            background-color:  #023858;\n",
       "            color:  #f1f1f1;\n",
       "        }#T_18801_row0_col1,#T_18801_row10_col1{\n",
       "            background-color:  #fef6fa;\n",
       "            color:  #000000;\n",
       "        }#T_18801_row0_col2,#T_18801_row9_col4,#T_18801_row10_col9{\n",
       "            background-color:  #f2ecf5;\n",
       "            color:  #000000;\n",
       "        }#T_18801_row0_col3,#T_18801_row2_col7,#T_18801_row4_col7,#T_18801_row10_col0{\n",
       "            background-color:  #faf3f9;\n",
       "            color:  #000000;\n",
       "        }#T_18801_row0_col4,#T_18801_row5_col9{\n",
       "            background-color:  #f1ebf5;\n",
       "            color:  #000000;\n",
       "        }#T_18801_row0_col5{\n",
       "            background-color:  #efe9f3;\n",
       "            color:  #000000;\n",
       "        }#T_18801_row0_col6,#T_18801_row1_col8,#T_18801_row7_col0,#T_18801_row7_col5,#T_18801_row10_col3,#T_18801_row10_col6{\n",
       "            background-color:  #f8f1f8;\n",
       "            color:  #000000;\n",
       "        }#T_18801_row0_col7,#T_18801_row0_col8,#T_18801_row0_col9,#T_18801_row1_col2,#T_18801_row4_col10,#T_18801_row9_col0,#T_18801_row9_col1,#T_18801_row9_col2,#T_18801_row9_col3,#T_18801_row9_col6,#T_18801_row10_col4,#T_18801_row10_col5{\n",
       "            background-color:  #fff7fb;\n",
       "            color:  #000000;\n",
       "        }#T_18801_row0_col10,#T_18801_row3_col2,#T_18801_row3_col9,#T_18801_row5_col7,#T_18801_row6_col9,#T_18801_row7_col2,#T_18801_row8_col0{\n",
       "            background-color:  #fcf4fa;\n",
       "            color:  #000000;\n",
       "        }#T_18801_row1_col0,#T_18801_row2_col8,#T_18801_row3_col7,#T_18801_row6_col2{\n",
       "            background-color:  #f9f2f8;\n",
       "            color:  #000000;\n",
       "        }#T_18801_row1_col3{\n",
       "            background-color:  #b9c6e0;\n",
       "            color:  #000000;\n",
       "        }#T_18801_row1_col4,#T_18801_row8_col9{\n",
       "            background-color:  #d9d8ea;\n",
       "            color:  #000000;\n",
       "        }#T_18801_row1_col5{\n",
       "            background-color:  #dbdaeb;\n",
       "            color:  #000000;\n",
       "        }#T_18801_row1_col6{\n",
       "            background-color:  #bbc7e0;\n",
       "            color:  #000000;\n",
       "        }#T_18801_row1_col7{\n",
       "            background-color:  #fdf5fa;\n",
       "            color:  #000000;\n",
       "        }#T_18801_row1_col9,#T_18801_row1_col10,#T_18801_row7_col1{\n",
       "            background-color:  #fbf3f9;\n",
       "            color:  #000000;\n",
       "        }#T_18801_row2_col0{\n",
       "            background-color:  #e9e5f1;\n",
       "            color:  #000000;\n",
       "        }#T_18801_row2_col1{\n",
       "            background-color:  #fbf4f9;\n",
       "            color:  #000000;\n",
       "        }#T_18801_row2_col3,#T_18801_row2_col10,#T_18801_row3_col0,#T_18801_row3_col10,#T_18801_row5_col8,#T_18801_row6_col10{\n",
       "            background-color:  #f7f0f7;\n",
       "            color:  #000000;\n",
       "        }#T_18801_row2_col4,#T_18801_row5_col3{\n",
       "            background-color:  #e3e0ee;\n",
       "            color:  #000000;\n",
       "        }#T_18801_row2_col5,#T_18801_row7_col9{\n",
       "            background-color:  #e7e3f0;\n",
       "            color:  #000000;\n",
       "        }#T_18801_row2_col6,#T_18801_row8_col4{\n",
       "            background-color:  #f4edf6;\n",
       "            color:  #000000;\n",
       "        }#T_18801_row2_col9,#T_18801_row7_col3,#T_18801_row7_col6{\n",
       "            background-color:  #f6eff7;\n",
       "            color:  #000000;\n",
       "        }#T_18801_row3_col1{\n",
       "            background-color:  #bcc7e1;\n",
       "            color:  #000000;\n",
       "        }#T_18801_row3_col4{\n",
       "            background-color:  #e0dded;\n",
       "            color:  #000000;\n",
       "        }#T_18801_row3_col5{\n",
       "            background-color:  #e1dfed;\n",
       "            color:  #000000;\n",
       "        }#T_18801_row3_col6,#T_18801_row6_col3{\n",
       "            background-color:  #b0c2de;\n",
       "            color:  #000000;\n",
       "        }#T_18801_row3_col8,#T_18801_row6_col8,#T_18801_row8_col3,#T_18801_row8_col6{\n",
       "            background-color:  #f4eef6;\n",
       "            color:  #000000;\n",
       "        }#T_18801_row4_col0,#T_18801_row5_col2{\n",
       "            background-color:  #f0eaf4;\n",
       "            color:  #000000;\n",
       "        }#T_18801_row4_col1,#T_18801_row8_col10{\n",
       "            background-color:  #dcdaeb;\n",
       "            color:  #000000;\n",
       "        }#T_18801_row4_col2{\n",
       "            background-color:  #ede7f2;\n",
       "            color:  #000000;\n",
       "        }#T_18801_row4_col3{\n",
       "            background-color:  #e2dfee;\n",
       "            color:  #000000;\n",
       "        }#T_18801_row4_col5,#T_18801_row5_col4{\n",
       "            background-color:  #4e9ac6;\n",
       "            color:  #000000;\n",
       "        }#T_18801_row4_col6{\n",
       "            background-color:  #d4d4e8;\n",
       "            color:  #000000;\n",
       "        }#T_18801_row4_col8,#T_18801_row6_col0,#T_18801_row7_col4,#T_18801_row8_col5{\n",
       "            background-color:  #f5eff6;\n",
       "            color:  #000000;\n",
       "        }#T_18801_row4_col9{\n",
       "            background-color:  #f1ebf4;\n",
       "            color:  #000000;\n",
       "        }#T_18801_row5_col0{\n",
       "            background-color:  #ede8f3;\n",
       "            color:  #000000;\n",
       "        }#T_18801_row5_col1,#T_18801_row9_col8{\n",
       "            background-color:  #dedcec;\n",
       "            color:  #000000;\n",
       "        }#T_18801_row5_col6{\n",
       "            background-color:  #d2d2e7;\n",
       "            color:  #000000;\n",
       "        }#T_18801_row5_col10,#T_18801_row8_col2,#T_18801_row10_col2{\n",
       "            background-color:  #fef6fb;\n",
       "            color:  #000000;\n",
       "        }#T_18801_row6_col1{\n",
       "            background-color:  #bdc8e1;\n",
       "            color:  #000000;\n",
       "        }#T_18801_row6_col4{\n",
       "            background-color:  #d2d3e7;\n",
       "            color:  #000000;\n",
       "        }#T_18801_row6_col5{\n",
       "            background-color:  #d0d1e6;\n",
       "            color:  #000000;\n",
       "        }#T_18801_row6_col7,#T_18801_row8_col1{\n",
       "            background-color:  #faf2f8;\n",
       "            color:  #000000;\n",
       "        }#T_18801_row7_col8{\n",
       "            background-color:  #4c99c5;\n",
       "            color:  #000000;\n",
       "        }#T_18801_row7_col10{\n",
       "            background-color:  #a2bcda;\n",
       "            color:  #000000;\n",
       "        }#T_18801_row8_col7{\n",
       "            background-color:  #529bc7;\n",
       "            color:  #000000;\n",
       "        }#T_18801_row9_col5,#T_18801_row9_col10{\n",
       "            background-color:  #f3edf5;\n",
       "            color:  #000000;\n",
       "        }#T_18801_row9_col7{\n",
       "            background-color:  #eee9f3;\n",
       "            color:  #000000;\n",
       "        }#T_18801_row10_col7{\n",
       "            background-color:  #abbfdc;\n",
       "            color:  #000000;\n",
       "        }#T_18801_row10_col8{\n",
       "            background-color:  #dfddec;\n",
       "            color:  #000000;\n",
       "        }</style><table id=\"T_18801_\" ><thead>    <tr>        <th class=\"blank level0\" ></th>        <th class=\"col_heading level0 col0\" >behavioral_antiviral_meds</th>        <th class=\"col_heading level0 col1\" >behavioral_avoidance</th>        <th class=\"col_heading level0 col2\" >behavioral_face_mask</th>        <th class=\"col_heading level0 col3\" >behavioral_wash_hands</th>        <th class=\"col_heading level0 col4\" >behavioral_large_gatherings</th>        <th class=\"col_heading level0 col5\" >behavioral_outside_home</th>        <th class=\"col_heading level0 col6\" >behavioral_touch_face</th>        <th class=\"col_heading level0 col7\" >doctor_recc_h1n1</th>        <th class=\"col_heading level0 col8\" >doctor_recc_seasonal</th>        <th class=\"col_heading level0 col9\" >chronic_med_condition</th>        <th class=\"col_heading level0 col10\" >h1n1_vaccine</th>    </tr></thead><tbody>\n",
       "                <tr>\n",
       "                        <th id=\"T_18801_level0_row0\" class=\"row_heading level0 row0\" >behavioral_antiviral_meds</th>\n",
       "                        <td id=\"T_18801_row0_col0\" class=\"data row0 col0\" >1.000000</td>\n",
       "                        <td id=\"T_18801_row0_col1\" class=\"data row0 col1\" >0.049247</td>\n",
       "                        <td id=\"T_18801_row0_col2\" class=\"data row0 col2\" >0.146261</td>\n",
       "                        <td id=\"T_18801_row0_col3\" class=\"data row0 col3\" >0.064119</td>\n",
       "                        <td id=\"T_18801_row0_col4\" class=\"data row0 col4\" >0.106287</td>\n",
       "                        <td id=\"T_18801_row0_col5\" class=\"data row0 col5\" >0.127679</td>\n",
       "                        <td id=\"T_18801_row0_col6\" class=\"data row0 col6\" >0.070868</td>\n",
       "                        <td id=\"T_18801_row0_col7\" class=\"data row0 col7\" >0.051235</td>\n",
       "                        <td id=\"T_18801_row0_col8\" class=\"data row0 col8\" >0.030909</td>\n",
       "                        <td id=\"T_18801_row0_col9\" class=\"data row0 col9\" >0.008465</td>\n",
       "                        <td id=\"T_18801_row0_col10\" class=\"data row0 col10\" >0.040608</td>\n",
       "            </tr>\n",
       "            <tr>\n",
       "                        <th id=\"T_18801_level0_row1\" class=\"row_heading level0 row1\" >behavioral_avoidance</th>\n",
       "                        <td id=\"T_18801_row1_col0\" class=\"data row1 col0\" >0.049247</td>\n",
       "                        <td id=\"T_18801_row1_col1\" class=\"data row1 col1\" >1.000000</td>\n",
       "                        <td id=\"T_18801_row1_col2\" class=\"data row1 col2\" >0.064946</td>\n",
       "                        <td id=\"T_18801_row1_col3\" class=\"data row1 col3\" >0.338130</td>\n",
       "                        <td id=\"T_18801_row1_col4\" class=\"data row1 col4\" >0.227675</td>\n",
       "                        <td id=\"T_18801_row1_col5\" class=\"data row1 col5\" >0.220348</td>\n",
       "                        <td id=\"T_18801_row1_col6\" class=\"data row1 col6\" >0.335335</td>\n",
       "                        <td id=\"T_18801_row1_col7\" class=\"data row1 col7\" >0.068145</td>\n",
       "                        <td id=\"T_18801_row1_col8\" class=\"data row1 col8\" >0.074088</td>\n",
       "                        <td id=\"T_18801_row1_col9\" class=\"data row1 col9\" >0.039435</td>\n",
       "                        <td id=\"T_18801_row1_col10\" class=\"data row1 col10\" >0.047690</td>\n",
       "            </tr>\n",
       "            <tr>\n",
       "                        <th id=\"T_18801_level0_row2\" class=\"row_heading level0 row2\" >behavioral_face_mask</th>\n",
       "                        <td id=\"T_18801_row2_col0\" class=\"data row2 col0\" >0.146261</td>\n",
       "                        <td id=\"T_18801_row2_col1\" class=\"data row2 col1\" >0.064946</td>\n",
       "                        <td id=\"T_18801_row2_col2\" class=\"data row2 col2\" >1.000000</td>\n",
       "                        <td id=\"T_18801_row2_col3\" class=\"data row2 col3\" >0.083363</td>\n",
       "                        <td id=\"T_18801_row2_col4\" class=\"data row2 col4\" >0.180907</td>\n",
       "                        <td id=\"T_18801_row2_col5\" class=\"data row2 col5\" >0.163382</td>\n",
       "                        <td id=\"T_18801_row2_col6\" class=\"data row2 col6\" >0.104335</td>\n",
       "                        <td id=\"T_18801_row2_col7\" class=\"data row2 col7\" >0.084282</td>\n",
       "                        <td id=\"T_18801_row2_col8\" class=\"data row2 col8\" >0.069481</td>\n",
       "                        <td id=\"T_18801_row2_col9\" class=\"data row2 col9\" >0.068113</td>\n",
       "                        <td id=\"T_18801_row2_col10\" class=\"data row2 col10\" >0.070498</td>\n",
       "            </tr>\n",
       "            <tr>\n",
       "                        <th id=\"T_18801_level0_row3\" class=\"row_heading level0 row3\" >behavioral_wash_hands</th>\n",
       "                        <td id=\"T_18801_row3_col0\" class=\"data row3 col0\" >0.064119</td>\n",
       "                        <td id=\"T_18801_row3_col1\" class=\"data row3 col1\" >0.338130</td>\n",
       "                        <td id=\"T_18801_row3_col2\" class=\"data row3 col2\" >0.083363</td>\n",
       "                        <td id=\"T_18801_row3_col3\" class=\"data row3 col3\" >1.000000</td>\n",
       "                        <td id=\"T_18801_row3_col4\" class=\"data row3 col4\" >0.195364</td>\n",
       "                        <td id=\"T_18801_row3_col5\" class=\"data row3 col5\" >0.192619</td>\n",
       "                        <td id=\"T_18801_row3_col6\" class=\"data row3 col6\" >0.365064</td>\n",
       "                        <td id=\"T_18801_row3_col7\" class=\"data row3 col7\" >0.088729</td>\n",
       "                        <td id=\"T_18801_row3_col8\" class=\"data row3 col8\" >0.102044</td>\n",
       "                        <td id=\"T_18801_row3_col9\" class=\"data row3 col9\" >0.030260</td>\n",
       "                        <td id=\"T_18801_row3_col10\" class=\"data row3 col10\" >0.074712</td>\n",
       "            </tr>\n",
       "            <tr>\n",
       "                        <th id=\"T_18801_level0_row4\" class=\"row_heading level0 row4\" >behavioral_large_gatherings</th>\n",
       "                        <td id=\"T_18801_row4_col0\" class=\"data row4 col0\" >0.106287</td>\n",
       "                        <td id=\"T_18801_row4_col1\" class=\"data row4 col1\" >0.227675</td>\n",
       "                        <td id=\"T_18801_row4_col2\" class=\"data row4 col2\" >0.180907</td>\n",
       "                        <td id=\"T_18801_row4_col3\" class=\"data row4 col3\" >0.195364</td>\n",
       "                        <td id=\"T_18801_row4_col4\" class=\"data row4 col4\" >1.000000</td>\n",
       "                        <td id=\"T_18801_row4_col5\" class=\"data row4 col5\" >0.584085</td>\n",
       "                        <td id=\"T_18801_row4_col6\" class=\"data row4 col6\" >0.253683</td>\n",
       "                        <td id=\"T_18801_row4_col7\" class=\"data row4 col7\" >0.082242</td>\n",
       "                        <td id=\"T_18801_row4_col8\" class=\"data row4 col8\" >0.093557</td>\n",
       "                        <td id=\"T_18801_row4_col9\" class=\"data row4 col9\" >0.104721</td>\n",
       "                        <td id=\"T_18801_row4_col10\" class=\"data row4 col10\" >0.017822</td>\n",
       "            </tr>\n",
       "            <tr>\n",
       "                        <th id=\"T_18801_level0_row5\" class=\"row_heading level0 row5\" >behavioral_outside_home</th>\n",
       "                        <td id=\"T_18801_row5_col0\" class=\"data row5 col0\" >0.127679</td>\n",
       "                        <td id=\"T_18801_row5_col1\" class=\"data row5 col1\" >0.220348</td>\n",
       "                        <td id=\"T_18801_row5_col2\" class=\"data row5 col2\" >0.163382</td>\n",
       "                        <td id=\"T_18801_row5_col3\" class=\"data row5 col3\" >0.192619</td>\n",
       "                        <td id=\"T_18801_row5_col4\" class=\"data row5 col4\" >0.584085</td>\n",
       "                        <td id=\"T_18801_row5_col5\" class=\"data row5 col5\" >1.000000</td>\n",
       "                        <td id=\"T_18801_row5_col6\" class=\"data row5 col6\" >0.267719</td>\n",
       "                        <td id=\"T_18801_row5_col7\" class=\"data row5 col7\" >0.070346</td>\n",
       "                        <td id=\"T_18801_row5_col8\" class=\"data row5 col8\" >0.085622</td>\n",
       "                        <td id=\"T_18801_row5_col9\" class=\"data row5 col9\" >0.098858</td>\n",
       "                        <td id=\"T_18801_row5_col10\" class=\"data row5 col10\" >0.021768</td>\n",
       "            </tr>\n",
       "            <tr>\n",
       "                        <th id=\"T_18801_level0_row6\" class=\"row_heading level0 row6\" >behavioral_touch_face</th>\n",
       "                        <td id=\"T_18801_row6_col0\" class=\"data row6 col0\" >0.070868</td>\n",
       "                        <td id=\"T_18801_row6_col1\" class=\"data row6 col1\" >0.335335</td>\n",
       "                        <td id=\"T_18801_row6_col2\" class=\"data row6 col2\" >0.104335</td>\n",
       "                        <td id=\"T_18801_row6_col3\" class=\"data row6 col3\" >0.365064</td>\n",
       "                        <td id=\"T_18801_row6_col4\" class=\"data row6 col4\" >0.253683</td>\n",
       "                        <td id=\"T_18801_row6_col5\" class=\"data row6 col5\" >0.267719</td>\n",
       "                        <td id=\"T_18801_row6_col6\" class=\"data row6 col6\" >1.000000</td>\n",
       "                        <td id=\"T_18801_row6_col7\" class=\"data row6 col7\" >0.088221</td>\n",
       "                        <td id=\"T_18801_row6_col8\" class=\"data row6 col8\" >0.100808</td>\n",
       "                        <td id=\"T_18801_row6_col9\" class=\"data row6 col9\" >0.028876</td>\n",
       "                        <td id=\"T_18801_row6_col10\" class=\"data row6 col10\" >0.071648</td>\n",
       "            </tr>\n",
       "            <tr>\n",
       "                        <th id=\"T_18801_level0_row7\" class=\"row_heading level0 row7\" >doctor_recc_h1n1</th>\n",
       "                        <td id=\"T_18801_row7_col0\" class=\"data row7 col0\" >0.051235</td>\n",
       "                        <td id=\"T_18801_row7_col1\" class=\"data row7 col1\" >0.068145</td>\n",
       "                        <td id=\"T_18801_row7_col2\" class=\"data row7 col2\" >0.084282</td>\n",
       "                        <td id=\"T_18801_row7_col3\" class=\"data row7 col3\" >0.088729</td>\n",
       "                        <td id=\"T_18801_row7_col4\" class=\"data row7 col4\" >0.082242</td>\n",
       "                        <td id=\"T_18801_row7_col5\" class=\"data row7 col5\" >0.070346</td>\n",
       "                        <td id=\"T_18801_row7_col6\" class=\"data row7 col6\" >0.088221</td>\n",
       "                        <td id=\"T_18801_row7_col7\" class=\"data row7 col7\" >1.000000</td>\n",
       "                        <td id=\"T_18801_row7_col8\" class=\"data row7 col8\" >0.591868</td>\n",
       "                        <td id=\"T_18801_row7_col9\" class=\"data row7 col9\" >0.158275</td>\n",
       "                        <td id=\"T_18801_row7_col10\" class=\"data row7 col10\" >0.393890</td>\n",
       "            </tr>\n",
       "            <tr>\n",
       "                        <th id=\"T_18801_level0_row8\" class=\"row_heading level0 row8\" >doctor_recc_seasonal</th>\n",
       "                        <td id=\"T_18801_row8_col0\" class=\"data row8 col0\" >0.030909</td>\n",
       "                        <td id=\"T_18801_row8_col1\" class=\"data row8 col1\" >0.074088</td>\n",
       "                        <td id=\"T_18801_row8_col2\" class=\"data row8 col2\" >0.069481</td>\n",
       "                        <td id=\"T_18801_row8_col3\" class=\"data row8 col3\" >0.102044</td>\n",
       "                        <td id=\"T_18801_row8_col4\" class=\"data row8 col4\" >0.093557</td>\n",
       "                        <td id=\"T_18801_row8_col5\" class=\"data row8 col5\" >0.085622</td>\n",
       "                        <td id=\"T_18801_row8_col6\" class=\"data row8 col6\" >0.100808</td>\n",
       "                        <td id=\"T_18801_row8_col7\" class=\"data row8 col7\" >0.591868</td>\n",
       "                        <td id=\"T_18801_row8_col8\" class=\"data row8 col8\" >1.000000</td>\n",
       "                        <td id=\"T_18801_row8_col9\" class=\"data row8 col9\" >0.213806</td>\n",
       "                        <td id=\"T_18801_row8_col10\" class=\"data row8 col10\" >0.209864</td>\n",
       "            </tr>\n",
       "            <tr>\n",
       "                        <th id=\"T_18801_level0_row9\" class=\"row_heading level0 row9\" >chronic_med_condition</th>\n",
       "                        <td id=\"T_18801_row9_col0\" class=\"data row9 col0\" >0.008465</td>\n",
       "                        <td id=\"T_18801_row9_col1\" class=\"data row9 col1\" >0.039435</td>\n",
       "                        <td id=\"T_18801_row9_col2\" class=\"data row9 col2\" >0.068113</td>\n",
       "                        <td id=\"T_18801_row9_col3\" class=\"data row9 col3\" >0.030260</td>\n",
       "                        <td id=\"T_18801_row9_col4\" class=\"data row9 col4\" >0.104721</td>\n",
       "                        <td id=\"T_18801_row9_col5\" class=\"data row9 col5\" >0.098858</td>\n",
       "                        <td id=\"T_18801_row9_col6\" class=\"data row9 col6\" >0.028876</td>\n",
       "                        <td id=\"T_18801_row9_col7\" class=\"data row9 col7\" >0.158275</td>\n",
       "                        <td id=\"T_18801_row9_col8\" class=\"data row9 col8\" >0.213806</td>\n",
       "                        <td id=\"T_18801_row9_col9\" class=\"data row9 col9\" >1.000000</td>\n",
       "                        <td id=\"T_18801_row9_col10\" class=\"data row9 col10\" >0.095207</td>\n",
       "            </tr>\n",
       "            <tr>\n",
       "                        <th id=\"T_18801_level0_row10\" class=\"row_heading level0 row10\" >h1n1_vaccine</th>\n",
       "                        <td id=\"T_18801_row10_col0\" class=\"data row10 col0\" >0.040608</td>\n",
       "                        <td id=\"T_18801_row10_col1\" class=\"data row10 col1\" >0.047690</td>\n",
       "                        <td id=\"T_18801_row10_col2\" class=\"data row10 col2\" >0.070498</td>\n",
       "                        <td id=\"T_18801_row10_col3\" class=\"data row10 col3\" >0.074712</td>\n",
       "                        <td id=\"T_18801_row10_col4\" class=\"data row10 col4\" >0.017822</td>\n",
       "                        <td id=\"T_18801_row10_col5\" class=\"data row10 col5\" >0.021768</td>\n",
       "                        <td id=\"T_18801_row10_col6\" class=\"data row10 col6\" >0.071648</td>\n",
       "                        <td id=\"T_18801_row10_col7\" class=\"data row10 col7\" >0.393890</td>\n",
       "                        <td id=\"T_18801_row10_col8\" class=\"data row10 col8\" >0.209864</td>\n",
       "                        <td id=\"T_18801_row10_col9\" class=\"data row10 col9\" >0.095207</td>\n",
       "                        <td id=\"T_18801_row10_col10\" class=\"data row10 col10\" >1.000000</td>\n",
       "            </tr>\n",
       "    </tbody></table>"
      ],
      "text/plain": [
       "<pandas.io.formats.style.Styler at 0x1ca9ebf2520>"
      ]
     },
     "execution_count": 150,
     "metadata": {},
     "output_type": "execute_result"
    }
   ],
   "source": [
    "cols = [\n",
    "    'behavioral_antiviral_meds',\n",
    "    'behavioral_avoidance',\n",
    "    'behavioral_face_mask',\n",
    "    'behavioral_wash_hands',\n",
    "    'behavioral_large_gatherings',\n",
    "    'behavioral_outside_home',\n",
    "    'behavioral_touch_face',\n",
    "    'doctor_recc_h1n1',\n",
    "    'doctor_recc_seasonal',\n",
    "    'chronic_med_condition',\n",
    "    'h1n1_vaccine'\n",
    "]\n",
    "h1n1_behavioural_corr = train_set_features_df[cols].corr()\n",
    "h1n1_behavioural_corr.style.background_gradient()"
   ]
  },
  {
   "cell_type": "markdown",
   "id": "ed128522",
   "metadata": {},
   "source": [
    "Doctor's reccommendation seems to be contributing towards h1n1 vaccination and seasonal vaccination"
   ]
  },
  {
   "cell_type": "markdown",
   "id": "c7db7709",
   "metadata": {},
   "source": [
    "### Sesonal vaccine and bheavioural correlation"
   ]
  },
  {
   "cell_type": "code",
   "execution_count": 151,
   "id": "d7ec8be3",
   "metadata": {},
   "outputs": [
    {
     "data": {
      "text/html": [
       "<style  type=\"text/css\" >\n",
       "#T_8e1dc_row0_col0,#T_8e1dc_row1_col1,#T_8e1dc_row2_col2,#T_8e1dc_row3_col3,#T_8e1dc_row4_col4,#T_8e1dc_row5_col5,#T_8e1dc_row6_col6,#T_8e1dc_row7_col7,#T_8e1dc_row8_col8,#T_8e1dc_row9_col9,#T_8e1dc_row10_col10{\n",
       "            background-color:  #023858;\n",
       "            color:  #f1f1f1;\n",
       "        }#T_8e1dc_row0_col1{\n",
       "            background-color:  #fef6fa;\n",
       "            color:  #000000;\n",
       "        }#T_8e1dc_row0_col2,#T_8e1dc_row4_col0{\n",
       "            background-color:  #f0eaf4;\n",
       "            color:  #000000;\n",
       "        }#T_8e1dc_row0_col3,#T_8e1dc_row2_col7,#T_8e1dc_row3_col2,#T_8e1dc_row4_col7,#T_8e1dc_row8_col4,#T_8e1dc_row8_col5{\n",
       "            background-color:  #faf3f9;\n",
       "            color:  #000000;\n",
       "        }#T_8e1dc_row0_col4,#T_8e1dc_row0_col6,#T_8e1dc_row1_col0,#T_8e1dc_row1_col8,#T_8e1dc_row2_col10,#T_8e1dc_row5_col10,#T_8e1dc_row7_col0,#T_8e1dc_row9_col4,#T_8e1dc_row9_col5{\n",
       "            background-color:  #f8f1f8;\n",
       "            color:  #000000;\n",
       "        }#T_8e1dc_row0_col5{\n",
       "            background-color:  #f3edf5;\n",
       "            color:  #000000;\n",
       "        }#T_8e1dc_row0_col7,#T_8e1dc_row0_col8,#T_8e1dc_row0_col9,#T_8e1dc_row0_col10,#T_8e1dc_row9_col0,#T_8e1dc_row9_col1,#T_8e1dc_row9_col3,#T_8e1dc_row9_col6,#T_8e1dc_row10_col0,#T_8e1dc_row10_col2,#T_8e1dc_row10_col4,#T_8e1dc_row10_col5{\n",
       "            background-color:  #fff7fb;\n",
       "            color:  #000000;\n",
       "        }#T_8e1dc_row1_col2,#T_8e1dc_row1_col7,#T_8e1dc_row7_col4,#T_8e1dc_row7_col5,#T_8e1dc_row9_col2{\n",
       "            background-color:  #fdf5fa;\n",
       "            color:  #000000;\n",
       "        }#T_8e1dc_row1_col3{\n",
       "            background-color:  #b9c6e0;\n",
       "            color:  #000000;\n",
       "        }#T_8e1dc_row1_col4{\n",
       "            background-color:  #e1dfed;\n",
       "            color:  #000000;\n",
       "        }#T_8e1dc_row1_col5{\n",
       "            background-color:  #e0deed;\n",
       "            color:  #000000;\n",
       "        }#T_8e1dc_row1_col6{\n",
       "            background-color:  #bbc7e0;\n",
       "            color:  #000000;\n",
       "        }#T_8e1dc_row1_col9,#T_8e1dc_row7_col1{\n",
       "            background-color:  #fbf3f9;\n",
       "            color:  #000000;\n",
       "        }#T_8e1dc_row1_col10,#T_8e1dc_row3_col8,#T_8e1dc_row6_col8,#T_8e1dc_row8_col3,#T_8e1dc_row8_col6{\n",
       "            background-color:  #f4eef6;\n",
       "            color:  #000000;\n",
       "        }#T_8e1dc_row2_col0{\n",
       "            background-color:  #e8e4f0;\n",
       "            color:  #000000;\n",
       "        }#T_8e1dc_row2_col1,#T_8e1dc_row8_col0{\n",
       "            background-color:  #fbf4f9;\n",
       "            color:  #000000;\n",
       "        }#T_8e1dc_row2_col3,#T_8e1dc_row3_col0,#T_8e1dc_row4_col10,#T_8e1dc_row5_col8,#T_8e1dc_row6_col2{\n",
       "            background-color:  #f7f0f7;\n",
       "            color:  #000000;\n",
       "        }#T_8e1dc_row2_col4,#T_8e1dc_row5_col0{\n",
       "            background-color:  #ede7f2;\n",
       "            color:  #000000;\n",
       "        }#T_8e1dc_row2_col5,#T_8e1dc_row6_col10{\n",
       "            background-color:  #eee8f3;\n",
       "            color:  #000000;\n",
       "        }#T_8e1dc_row2_col6{\n",
       "            background-color:  #f4edf6;\n",
       "            color:  #000000;\n",
       "        }#T_8e1dc_row2_col8,#T_8e1dc_row3_col7{\n",
       "            background-color:  #f9f2f8;\n",
       "            color:  #000000;\n",
       "        }#T_8e1dc_row2_col9,#T_8e1dc_row7_col3,#T_8e1dc_row7_col6{\n",
       "            background-color:  #f6eff7;\n",
       "            color:  #000000;\n",
       "        }#T_8e1dc_row3_col1{\n",
       "            background-color:  #bcc7e1;\n",
       "            color:  #000000;\n",
       "        }#T_8e1dc_row3_col4,#T_8e1dc_row4_col2{\n",
       "            background-color:  #e9e5f1;\n",
       "            color:  #000000;\n",
       "        }#T_8e1dc_row3_col5,#T_8e1dc_row7_col9{\n",
       "            background-color:  #e7e3f0;\n",
       "            color:  #000000;\n",
       "        }#T_8e1dc_row3_col6,#T_8e1dc_row6_col3{\n",
       "            background-color:  #b0c2de;\n",
       "            color:  #000000;\n",
       "        }#T_8e1dc_row3_col9,#T_8e1dc_row5_col7,#T_8e1dc_row6_col9,#T_8e1dc_row8_col2{\n",
       "            background-color:  #fcf4fa;\n",
       "            color:  #000000;\n",
       "        }#T_8e1dc_row3_col10{\n",
       "            background-color:  #efe9f3;\n",
       "            color:  #000000;\n",
       "        }#T_8e1dc_row4_col1{\n",
       "            background-color:  #dcdaeb;\n",
       "            color:  #000000;\n",
       "        }#T_8e1dc_row4_col3{\n",
       "            background-color:  #e2dfee;\n",
       "            color:  #000000;\n",
       "        }#T_8e1dc_row4_col5{\n",
       "            background-color:  #569dc8;\n",
       "            color:  #000000;\n",
       "        }#T_8e1dc_row4_col6{\n",
       "            background-color:  #d4d4e8;\n",
       "            color:  #000000;\n",
       "        }#T_8e1dc_row4_col8,#T_8e1dc_row6_col0{\n",
       "            background-color:  #f5eff6;\n",
       "            color:  #000000;\n",
       "        }#T_8e1dc_row4_col9,#T_8e1dc_row10_col6{\n",
       "            background-color:  #f1ebf4;\n",
       "            color:  #000000;\n",
       "        }#T_8e1dc_row5_col1,#T_8e1dc_row9_col8{\n",
       "            background-color:  #dedcec;\n",
       "            color:  #000000;\n",
       "        }#T_8e1dc_row5_col2{\n",
       "            background-color:  #ede8f3;\n",
       "            color:  #000000;\n",
       "        }#T_8e1dc_row5_col3,#T_8e1dc_row9_col10{\n",
       "            background-color:  #e3e0ee;\n",
       "            color:  #000000;\n",
       "        }#T_8e1dc_row5_col4{\n",
       "            background-color:  #589ec8;\n",
       "            color:  #000000;\n",
       "        }#T_8e1dc_row5_col6{\n",
       "            background-color:  #d2d2e7;\n",
       "            color:  #000000;\n",
       "        }#T_8e1dc_row5_col9{\n",
       "            background-color:  #f1ebf5;\n",
       "            color:  #000000;\n",
       "        }#T_8e1dc_row6_col1{\n",
       "            background-color:  #bdc8e1;\n",
       "            color:  #000000;\n",
       "        }#T_8e1dc_row6_col4{\n",
       "            background-color:  #dbdaeb;\n",
       "            color:  #000000;\n",
       "        }#T_8e1dc_row6_col5{\n",
       "            background-color:  #d6d6e9;\n",
       "            color:  #000000;\n",
       "        }#T_8e1dc_row6_col7,#T_8e1dc_row7_col2,#T_8e1dc_row8_col1,#T_8e1dc_row10_col1{\n",
       "            background-color:  #faf2f8;\n",
       "            color:  #000000;\n",
       "        }#T_8e1dc_row7_col8{\n",
       "            background-color:  #4c99c5;\n",
       "            color:  #000000;\n",
       "        }#T_8e1dc_row7_col10{\n",
       "            background-color:  #dddbec;\n",
       "            color:  #000000;\n",
       "        }#T_8e1dc_row8_col7{\n",
       "            background-color:  #529bc7;\n",
       "            color:  #000000;\n",
       "        }#T_8e1dc_row8_col9{\n",
       "            background-color:  #d9d8ea;\n",
       "            color:  #000000;\n",
       "        }#T_8e1dc_row8_col10{\n",
       "            background-color:  #a9bfdc;\n",
       "            color:  #000000;\n",
       "        }#T_8e1dc_row9_col7{\n",
       "            background-color:  #eee9f3;\n",
       "            color:  #000000;\n",
       "        }#T_8e1dc_row10_col3{\n",
       "            background-color:  #f2ecf5;\n",
       "            color:  #000000;\n",
       "        }#T_8e1dc_row10_col7{\n",
       "            background-color:  #e6e2ef;\n",
       "            color:  #000000;\n",
       "        }#T_8e1dc_row10_col8{\n",
       "            background-color:  #afc1dd;\n",
       "            color:  #000000;\n",
       "        }#T_8e1dc_row10_col9{\n",
       "            background-color:  #e4e1ef;\n",
       "            color:  #000000;\n",
       "        }</style><table id=\"T_8e1dc_\" ><thead>    <tr>        <th class=\"blank level0\" ></th>        <th class=\"col_heading level0 col0\" >behavioral_antiviral_meds</th>        <th class=\"col_heading level0 col1\" >behavioral_avoidance</th>        <th class=\"col_heading level0 col2\" >behavioral_face_mask</th>        <th class=\"col_heading level0 col3\" >behavioral_wash_hands</th>        <th class=\"col_heading level0 col4\" >behavioral_large_gatherings</th>        <th class=\"col_heading level0 col5\" >behavioral_outside_home</th>        <th class=\"col_heading level0 col6\" >behavioral_touch_face</th>        <th class=\"col_heading level0 col7\" >doctor_recc_h1n1</th>        <th class=\"col_heading level0 col8\" >doctor_recc_seasonal</th>        <th class=\"col_heading level0 col9\" >chronic_med_condition</th>        <th class=\"col_heading level0 col10\" >seasonal_vaccine</th>    </tr></thead><tbody>\n",
       "                <tr>\n",
       "                        <th id=\"T_8e1dc_level0_row0\" class=\"row_heading level0 row0\" >behavioral_antiviral_meds</th>\n",
       "                        <td id=\"T_8e1dc_row0_col0\" class=\"data row0 col0\" >1.000000</td>\n",
       "                        <td id=\"T_8e1dc_row0_col1\" class=\"data row0 col1\" >0.049247</td>\n",
       "                        <td id=\"T_8e1dc_row0_col2\" class=\"data row0 col2\" >0.146261</td>\n",
       "                        <td id=\"T_8e1dc_row0_col3\" class=\"data row0 col3\" >0.064119</td>\n",
       "                        <td id=\"T_8e1dc_row0_col4\" class=\"data row0 col4\" >0.106287</td>\n",
       "                        <td id=\"T_8e1dc_row0_col5\" class=\"data row0 col5\" >0.127679</td>\n",
       "                        <td id=\"T_8e1dc_row0_col6\" class=\"data row0 col6\" >0.070868</td>\n",
       "                        <td id=\"T_8e1dc_row0_col7\" class=\"data row0 col7\" >0.051235</td>\n",
       "                        <td id=\"T_8e1dc_row0_col8\" class=\"data row0 col8\" >0.030909</td>\n",
       "                        <td id=\"T_8e1dc_row0_col9\" class=\"data row0 col9\" >0.008465</td>\n",
       "                        <td id=\"T_8e1dc_row0_col10\" class=\"data row0 col10\" >0.006277</td>\n",
       "            </tr>\n",
       "            <tr>\n",
       "                        <th id=\"T_8e1dc_level0_row1\" class=\"row_heading level0 row1\" >behavioral_avoidance</th>\n",
       "                        <td id=\"T_8e1dc_row1_col0\" class=\"data row1 col0\" >0.049247</td>\n",
       "                        <td id=\"T_8e1dc_row1_col1\" class=\"data row1 col1\" >1.000000</td>\n",
       "                        <td id=\"T_8e1dc_row1_col2\" class=\"data row1 col2\" >0.064946</td>\n",
       "                        <td id=\"T_8e1dc_row1_col3\" class=\"data row1 col3\" >0.338130</td>\n",
       "                        <td id=\"T_8e1dc_row1_col4\" class=\"data row1 col4\" >0.227675</td>\n",
       "                        <td id=\"T_8e1dc_row1_col5\" class=\"data row1 col5\" >0.220348</td>\n",
       "                        <td id=\"T_8e1dc_row1_col6\" class=\"data row1 col6\" >0.335335</td>\n",
       "                        <td id=\"T_8e1dc_row1_col7\" class=\"data row1 col7\" >0.068145</td>\n",
       "                        <td id=\"T_8e1dc_row1_col8\" class=\"data row1 col8\" >0.074088</td>\n",
       "                        <td id=\"T_8e1dc_row1_col9\" class=\"data row1 col9\" >0.039435</td>\n",
       "                        <td id=\"T_8e1dc_row1_col10\" class=\"data row1 col10\" >0.076395</td>\n",
       "            </tr>\n",
       "            <tr>\n",
       "                        <th id=\"T_8e1dc_level0_row2\" class=\"row_heading level0 row2\" >behavioral_face_mask</th>\n",
       "                        <td id=\"T_8e1dc_row2_col0\" class=\"data row2 col0\" >0.146261</td>\n",
       "                        <td id=\"T_8e1dc_row2_col1\" class=\"data row2 col1\" >0.064946</td>\n",
       "                        <td id=\"T_8e1dc_row2_col2\" class=\"data row2 col2\" >1.000000</td>\n",
       "                        <td id=\"T_8e1dc_row2_col3\" class=\"data row2 col3\" >0.083363</td>\n",
       "                        <td id=\"T_8e1dc_row2_col4\" class=\"data row2 col4\" >0.180907</td>\n",
       "                        <td id=\"T_8e1dc_row2_col5\" class=\"data row2 col5\" >0.163382</td>\n",
       "                        <td id=\"T_8e1dc_row2_col6\" class=\"data row2 col6\" >0.104335</td>\n",
       "                        <td id=\"T_8e1dc_row2_col7\" class=\"data row2 col7\" >0.084282</td>\n",
       "                        <td id=\"T_8e1dc_row2_col8\" class=\"data row2 col8\" >0.069481</td>\n",
       "                        <td id=\"T_8e1dc_row2_col9\" class=\"data row2 col9\" >0.068113</td>\n",
       "                        <td id=\"T_8e1dc_row2_col10\" class=\"data row2 col10\" >0.050083</td>\n",
       "            </tr>\n",
       "            <tr>\n",
       "                        <th id=\"T_8e1dc_level0_row3\" class=\"row_heading level0 row3\" >behavioral_wash_hands</th>\n",
       "                        <td id=\"T_8e1dc_row3_col0\" class=\"data row3 col0\" >0.064119</td>\n",
       "                        <td id=\"T_8e1dc_row3_col1\" class=\"data row3 col1\" >0.338130</td>\n",
       "                        <td id=\"T_8e1dc_row3_col2\" class=\"data row3 col2\" >0.083363</td>\n",
       "                        <td id=\"T_8e1dc_row3_col3\" class=\"data row3 col3\" >1.000000</td>\n",
       "                        <td id=\"T_8e1dc_row3_col4\" class=\"data row3 col4\" >0.195364</td>\n",
       "                        <td id=\"T_8e1dc_row3_col5\" class=\"data row3 col5\" >0.192619</td>\n",
       "                        <td id=\"T_8e1dc_row3_col6\" class=\"data row3 col6\" >0.365064</td>\n",
       "                        <td id=\"T_8e1dc_row3_col7\" class=\"data row3 col7\" >0.088729</td>\n",
       "                        <td id=\"T_8e1dc_row3_col8\" class=\"data row3 col8\" >0.102044</td>\n",
       "                        <td id=\"T_8e1dc_row3_col9\" class=\"data row3 col9\" >0.030260</td>\n",
       "                        <td id=\"T_8e1dc_row3_col10\" class=\"data row3 col10\" >0.112414</td>\n",
       "            </tr>\n",
       "            <tr>\n",
       "                        <th id=\"T_8e1dc_level0_row4\" class=\"row_heading level0 row4\" >behavioral_large_gatherings</th>\n",
       "                        <td id=\"T_8e1dc_row4_col0\" class=\"data row4 col0\" >0.106287</td>\n",
       "                        <td id=\"T_8e1dc_row4_col1\" class=\"data row4 col1\" >0.227675</td>\n",
       "                        <td id=\"T_8e1dc_row4_col2\" class=\"data row4 col2\" >0.180907</td>\n",
       "                        <td id=\"T_8e1dc_row4_col3\" class=\"data row4 col3\" >0.195364</td>\n",
       "                        <td id=\"T_8e1dc_row4_col4\" class=\"data row4 col4\" >1.000000</td>\n",
       "                        <td id=\"T_8e1dc_row4_col5\" class=\"data row4 col5\" >0.584085</td>\n",
       "                        <td id=\"T_8e1dc_row4_col6\" class=\"data row4 col6\" >0.253683</td>\n",
       "                        <td id=\"T_8e1dc_row4_col7\" class=\"data row4 col7\" >0.082242</td>\n",
       "                        <td id=\"T_8e1dc_row4_col8\" class=\"data row4 col8\" >0.093557</td>\n",
       "                        <td id=\"T_8e1dc_row4_col9\" class=\"data row4 col9\" >0.104721</td>\n",
       "                        <td id=\"T_8e1dc_row4_col10\" class=\"data row4 col10\" >0.064025</td>\n",
       "            </tr>\n",
       "            <tr>\n",
       "                        <th id=\"T_8e1dc_level0_row5\" class=\"row_heading level0 row5\" >behavioral_outside_home</th>\n",
       "                        <td id=\"T_8e1dc_row5_col0\" class=\"data row5 col0\" >0.127679</td>\n",
       "                        <td id=\"T_8e1dc_row5_col1\" class=\"data row5 col1\" >0.220348</td>\n",
       "                        <td id=\"T_8e1dc_row5_col2\" class=\"data row5 col2\" >0.163382</td>\n",
       "                        <td id=\"T_8e1dc_row5_col3\" class=\"data row5 col3\" >0.192619</td>\n",
       "                        <td id=\"T_8e1dc_row5_col4\" class=\"data row5 col4\" >0.584085</td>\n",
       "                        <td id=\"T_8e1dc_row5_col5\" class=\"data row5 col5\" >1.000000</td>\n",
       "                        <td id=\"T_8e1dc_row5_col6\" class=\"data row5 col6\" >0.267719</td>\n",
       "                        <td id=\"T_8e1dc_row5_col7\" class=\"data row5 col7\" >0.070346</td>\n",
       "                        <td id=\"T_8e1dc_row5_col8\" class=\"data row5 col8\" >0.085622</td>\n",
       "                        <td id=\"T_8e1dc_row5_col9\" class=\"data row5 col9\" >0.098858</td>\n",
       "                        <td id=\"T_8e1dc_row5_col10\" class=\"data row5 col10\" >0.053509</td>\n",
       "            </tr>\n",
       "            <tr>\n",
       "                        <th id=\"T_8e1dc_level0_row6\" class=\"row_heading level0 row6\" >behavioral_touch_face</th>\n",
       "                        <td id=\"T_8e1dc_row6_col0\" class=\"data row6 col0\" >0.070868</td>\n",
       "                        <td id=\"T_8e1dc_row6_col1\" class=\"data row6 col1\" >0.335335</td>\n",
       "                        <td id=\"T_8e1dc_row6_col2\" class=\"data row6 col2\" >0.104335</td>\n",
       "                        <td id=\"T_8e1dc_row6_col3\" class=\"data row6 col3\" >0.365064</td>\n",
       "                        <td id=\"T_8e1dc_row6_col4\" class=\"data row6 col4\" >0.253683</td>\n",
       "                        <td id=\"T_8e1dc_row6_col5\" class=\"data row6 col5\" >0.267719</td>\n",
       "                        <td id=\"T_8e1dc_row6_col6\" class=\"data row6 col6\" >1.000000</td>\n",
       "                        <td id=\"T_8e1dc_row6_col7\" class=\"data row6 col7\" >0.088221</td>\n",
       "                        <td id=\"T_8e1dc_row6_col8\" class=\"data row6 col8\" >0.100808</td>\n",
       "                        <td id=\"T_8e1dc_row6_col9\" class=\"data row6 col9\" >0.028876</td>\n",
       "                        <td id=\"T_8e1dc_row6_col10\" class=\"data row6 col10\" >0.120228</td>\n",
       "            </tr>\n",
       "            <tr>\n",
       "                        <th id=\"T_8e1dc_level0_row7\" class=\"row_heading level0 row7\" >doctor_recc_h1n1</th>\n",
       "                        <td id=\"T_8e1dc_row7_col0\" class=\"data row7 col0\" >0.051235</td>\n",
       "                        <td id=\"T_8e1dc_row7_col1\" class=\"data row7 col1\" >0.068145</td>\n",
       "                        <td id=\"T_8e1dc_row7_col2\" class=\"data row7 col2\" >0.084282</td>\n",
       "                        <td id=\"T_8e1dc_row7_col3\" class=\"data row7 col3\" >0.088729</td>\n",
       "                        <td id=\"T_8e1dc_row7_col4\" class=\"data row7 col4\" >0.082242</td>\n",
       "                        <td id=\"T_8e1dc_row7_col5\" class=\"data row7 col5\" >0.070346</td>\n",
       "                        <td id=\"T_8e1dc_row7_col6\" class=\"data row7 col6\" >0.088221</td>\n",
       "                        <td id=\"T_8e1dc_row7_col7\" class=\"data row7 col7\" >1.000000</td>\n",
       "                        <td id=\"T_8e1dc_row7_col8\" class=\"data row7 col8\" >0.591868</td>\n",
       "                        <td id=\"T_8e1dc_row7_col9\" class=\"data row7 col9\" >0.158275</td>\n",
       "                        <td id=\"T_8e1dc_row7_col10\" class=\"data row7 col10\" >0.198607</td>\n",
       "            </tr>\n",
       "            <tr>\n",
       "                        <th id=\"T_8e1dc_level0_row8\" class=\"row_heading level0 row8\" >doctor_recc_seasonal</th>\n",
       "                        <td id=\"T_8e1dc_row8_col0\" class=\"data row8 col0\" >0.030909</td>\n",
       "                        <td id=\"T_8e1dc_row8_col1\" class=\"data row8 col1\" >0.074088</td>\n",
       "                        <td id=\"T_8e1dc_row8_col2\" class=\"data row8 col2\" >0.069481</td>\n",
       "                        <td id=\"T_8e1dc_row8_col3\" class=\"data row8 col3\" >0.102044</td>\n",
       "                        <td id=\"T_8e1dc_row8_col4\" class=\"data row8 col4\" >0.093557</td>\n",
       "                        <td id=\"T_8e1dc_row8_col5\" class=\"data row8 col5\" >0.085622</td>\n",
       "                        <td id=\"T_8e1dc_row8_col6\" class=\"data row8 col6\" >0.100808</td>\n",
       "                        <td id=\"T_8e1dc_row8_col7\" class=\"data row8 col7\" >0.591868</td>\n",
       "                        <td id=\"T_8e1dc_row8_col8\" class=\"data row8 col8\" >1.000000</td>\n",
       "                        <td id=\"T_8e1dc_row8_col9\" class=\"data row8 col9\" >0.213806</td>\n",
       "                        <td id=\"T_8e1dc_row8_col10\" class=\"data row8 col10\" >0.369190</td>\n",
       "            </tr>\n",
       "            <tr>\n",
       "                        <th id=\"T_8e1dc_level0_row9\" class=\"row_heading level0 row9\" >chronic_med_condition</th>\n",
       "                        <td id=\"T_8e1dc_row9_col0\" class=\"data row9 col0\" >0.008465</td>\n",
       "                        <td id=\"T_8e1dc_row9_col1\" class=\"data row9 col1\" >0.039435</td>\n",
       "                        <td id=\"T_8e1dc_row9_col2\" class=\"data row9 col2\" >0.068113</td>\n",
       "                        <td id=\"T_8e1dc_row9_col3\" class=\"data row9 col3\" >0.030260</td>\n",
       "                        <td id=\"T_8e1dc_row9_col4\" class=\"data row9 col4\" >0.104721</td>\n",
       "                        <td id=\"T_8e1dc_row9_col5\" class=\"data row9 col5\" >0.098858</td>\n",
       "                        <td id=\"T_8e1dc_row9_col6\" class=\"data row9 col6\" >0.028876</td>\n",
       "                        <td id=\"T_8e1dc_row9_col7\" class=\"data row9 col7\" >0.158275</td>\n",
       "                        <td id=\"T_8e1dc_row9_col8\" class=\"data row9 col8\" >0.213806</td>\n",
       "                        <td id=\"T_8e1dc_row9_col9\" class=\"data row9 col9\" >1.000000</td>\n",
       "                        <td id=\"T_8e1dc_row9_col10\" class=\"data row9 col10\" >0.170174</td>\n",
       "            </tr>\n",
       "            <tr>\n",
       "                        <th id=\"T_8e1dc_level0_row10\" class=\"row_heading level0 row10\" >seasonal_vaccine</th>\n",
       "                        <td id=\"T_8e1dc_row10_col0\" class=\"data row10 col0\" >0.006277</td>\n",
       "                        <td id=\"T_8e1dc_row10_col1\" class=\"data row10 col1\" >0.076395</td>\n",
       "                        <td id=\"T_8e1dc_row10_col2\" class=\"data row10 col2\" >0.050083</td>\n",
       "                        <td id=\"T_8e1dc_row10_col3\" class=\"data row10 col3\" >0.112414</td>\n",
       "                        <td id=\"T_8e1dc_row10_col4\" class=\"data row10 col4\" >0.064025</td>\n",
       "                        <td id=\"T_8e1dc_row10_col5\" class=\"data row10 col5\" >0.053509</td>\n",
       "                        <td id=\"T_8e1dc_row10_col6\" class=\"data row10 col6\" >0.120228</td>\n",
       "                        <td id=\"T_8e1dc_row10_col7\" class=\"data row10 col7\" >0.198607</td>\n",
       "                        <td id=\"T_8e1dc_row10_col8\" class=\"data row10 col8\" >0.369190</td>\n",
       "                        <td id=\"T_8e1dc_row10_col9\" class=\"data row10 col9\" >0.170174</td>\n",
       "                        <td id=\"T_8e1dc_row10_col10\" class=\"data row10 col10\" >1.000000</td>\n",
       "            </tr>\n",
       "    </tbody></table>"
      ],
      "text/plain": [
       "<pandas.io.formats.style.Styler at 0x1ca9eb80a00>"
      ]
     },
     "execution_count": 151,
     "metadata": {},
     "output_type": "execute_result"
    }
   ],
   "source": [
    "cols = [\n",
    "    'behavioral_antiviral_meds',\n",
    "    'behavioral_avoidance',\n",
    "    'behavioral_face_mask',\n",
    "    'behavioral_wash_hands',\n",
    "    'behavioral_large_gatherings',\n",
    "    'behavioral_outside_home',\n",
    "    'behavioral_touch_face',\n",
    "    'doctor_recc_h1n1',\n",
    "    'doctor_recc_seasonal',\n",
    "    'chronic_med_condition',\n",
    "    'seasonal_vaccine'\n",
    "]\n",
    "seasonal_behavioural_corr = train_set_features_df[cols].corr()\n",
    "seasonal_behavioural_corr.style.background_gradient()"
   ]
  },
  {
   "cell_type": "markdown",
   "id": "d70ea503",
   "metadata": {},
   "source": [
    "### H1n1 & seasonal vaccine correlation with opinion attributes"
   ]
  },
  {
   "cell_type": "code",
   "execution_count": 153,
   "id": "607aac9c",
   "metadata": {},
   "outputs": [
    {
     "data": {
      "text/html": [
       "<style  type=\"text/css\" >\n",
       "#T_a0666_row0_col0,#T_a0666_row1_col1,#T_a0666_row2_col2,#T_a0666_row3_col3,#T_a0666_row4_col4,#T_a0666_row5_col5{\n",
       "            background-color:  #023858;\n",
       "            color:  #f1f1f1;\n",
       "        }#T_a0666_row0_col1{\n",
       "            background-color:  #c6cce3;\n",
       "            color:  #000000;\n",
       "        }#T_a0666_row0_col2{\n",
       "            background-color:  #d3d4e7;\n",
       "            color:  #000000;\n",
       "        }#T_a0666_row0_col3,#T_a0666_row3_col0{\n",
       "            background-color:  #86b0d3;\n",
       "            color:  #000000;\n",
       "        }#T_a0666_row0_col4,#T_a0666_row3_col1,#T_a0666_row3_col4{\n",
       "            background-color:  #d9d8ea;\n",
       "            color:  #000000;\n",
       "        }#T_a0666_row0_col5{\n",
       "            background-color:  #b9c6e0;\n",
       "            color:  #000000;\n",
       "        }#T_a0666_row1_col0{\n",
       "            background-color:  #e2dfee;\n",
       "            color:  #000000;\n",
       "        }#T_a0666_row1_col2{\n",
       "            background-color:  #f1ebf4;\n",
       "            color:  #000000;\n",
       "        }#T_a0666_row1_col3{\n",
       "            background-color:  #f2ecf5;\n",
       "            color:  #000000;\n",
       "        }#T_a0666_row1_col4{\n",
       "            background-color:  #73a9cf;\n",
       "            color:  #000000;\n",
       "        }#T_a0666_row1_col5{\n",
       "            background-color:  #f5eef6;\n",
       "            color:  #000000;\n",
       "        }#T_a0666_row2_col0{\n",
       "            background-color:  #faf3f9;\n",
       "            color:  #000000;\n",
       "        }#T_a0666_row2_col1,#T_a0666_row2_col4,#T_a0666_row4_col0,#T_a0666_row4_col2,#T_a0666_row4_col3,#T_a0666_row4_col5,#T_a0666_row5_col1{\n",
       "            background-color:  #fff7fb;\n",
       "            color:  #000000;\n",
       "        }#T_a0666_row2_col3{\n",
       "            background-color:  #e0dded;\n",
       "            color:  #000000;\n",
       "        }#T_a0666_row2_col5{\n",
       "            background-color:  #e1dfed;\n",
       "            color:  #000000;\n",
       "        }#T_a0666_row3_col2{\n",
       "            background-color:  #acc0dd;\n",
       "            color:  #000000;\n",
       "        }#T_a0666_row3_col5{\n",
       "            background-color:  #d0d1e6;\n",
       "            color:  #000000;\n",
       "        }#T_a0666_row4_col1{\n",
       "            background-color:  #88b1d4;\n",
       "            color:  #000000;\n",
       "        }#T_a0666_row5_col0{\n",
       "            background-color:  #e6e2ef;\n",
       "            color:  #000000;\n",
       "        }#T_a0666_row5_col2{\n",
       "            background-color:  #dddbec;\n",
       "            color:  #000000;\n",
       "        }#T_a0666_row5_col3{\n",
       "            background-color:  #f4eef6;\n",
       "            color:  #000000;\n",
       "        }#T_a0666_row5_col4{\n",
       "            background-color:  #fbf4f9;\n",
       "            color:  #000000;\n",
       "        }</style><table id=\"T_a0666_\" ><thead>    <tr>        <th class=\"blank level0\" ></th>        <th class=\"col_heading level0 col0\" >opinion_h1n1_risk</th>        <th class=\"col_heading level0 col1\" >opinion_h1n1_sick_from_vacc</th>        <th class=\"col_heading level0 col2\" >opinion_seas_vacc_effective</th>        <th class=\"col_heading level0 col3\" >opinion_seas_risk</th>        <th class=\"col_heading level0 col4\" >opinion_seas_sick_from_vacc</th>        <th class=\"col_heading level0 col5\" >h1n1_vaccine</th>    </tr></thead><tbody>\n",
       "                <tr>\n",
       "                        <th id=\"T_a0666_level0_row0\" class=\"row_heading level0 row0\" >opinion_h1n1_risk</th>\n",
       "                        <td id=\"T_a0666_row0_col0\" class=\"data row0 col0\" >1.000000</td>\n",
       "                        <td id=\"T_a0666_row0_col1\" class=\"data row0 col1\" >0.335062</td>\n",
       "                        <td id=\"T_a0666_row0_col2\" class=\"data row0 col2\" >0.224469</td>\n",
       "                        <td id=\"T_a0666_row0_col3\" class=\"data row0 col3\" >0.564208</td>\n",
       "                        <td id=\"T_a0666_row0_col4\" class=\"data row0 col4\" >0.198601</td>\n",
       "                        <td id=\"T_a0666_row0_col5\" class=\"data row0 col5\" >0.323265</td>\n",
       "            </tr>\n",
       "            <tr>\n",
       "                        <th id=\"T_a0666_level0_row1\" class=\"row_heading level0 row1\" >opinion_h1n1_sick_from_vacc</th>\n",
       "                        <td id=\"T_a0666_row1_col0\" class=\"data row1 col0\" >0.335062</td>\n",
       "                        <td id=\"T_a0666_row1_col1\" class=\"data row1 col1\" >1.000000</td>\n",
       "                        <td id=\"T_a0666_row1_col2\" class=\"data row1 col2\" >0.078097</td>\n",
       "                        <td id=\"T_a0666_row1_col3\" class=\"data row1 col3\" >0.267013</td>\n",
       "                        <td id=\"T_a0666_row1_col4\" class=\"data row1 col4\" >0.491546</td>\n",
       "                        <td id=\"T_a0666_row1_col5\" class=\"data row1 col5\" >0.075091</td>\n",
       "            </tr>\n",
       "            <tr>\n",
       "                        <th id=\"T_a0666_level0_row2\" class=\"row_heading level0 row2\" >opinion_seas_vacc_effective</th>\n",
       "                        <td id=\"T_a0666_row2_col0\" class=\"data row2 col0\" >0.224469</td>\n",
       "                        <td id=\"T_a0666_row2_col1\" class=\"data row2 col1\" >0.078097</td>\n",
       "                        <td id=\"T_a0666_row2_col2\" class=\"data row2 col2\" >1.000000</td>\n",
       "                        <td id=\"T_a0666_row2_col3\" class=\"data row2 col3\" >0.344800</td>\n",
       "                        <td id=\"T_a0666_row2_col4\" class=\"data row2 col4\" >-0.017340</td>\n",
       "                        <td id=\"T_a0666_row2_col5\" class=\"data row2 col5\" >0.179272</td>\n",
       "            </tr>\n",
       "            <tr>\n",
       "                        <th id=\"T_a0666_level0_row3\" class=\"row_heading level0 row3\" >opinion_seas_risk</th>\n",
       "                        <td id=\"T_a0666_row3_col0\" class=\"data row3 col0\" >0.564208</td>\n",
       "                        <td id=\"T_a0666_row3_col1\" class=\"data row3 col1\" >0.267013</td>\n",
       "                        <td id=\"T_a0666_row3_col2\" class=\"data row3 col2\" >0.344800</td>\n",
       "                        <td id=\"T_a0666_row3_col3\" class=\"data row3 col3\" >1.000000</td>\n",
       "                        <td id=\"T_a0666_row3_col4\" class=\"data row3 col4\" >0.200379</td>\n",
       "                        <td id=\"T_a0666_row3_col5\" class=\"data row3 col5\" >0.258571</td>\n",
       "            </tr>\n",
       "            <tr>\n",
       "                        <th id=\"T_a0666_level0_row4\" class=\"row_heading level0 row4\" >opinion_seas_sick_from_vacc</th>\n",
       "                        <td id=\"T_a0666_row4_col0\" class=\"data row4 col0\" >0.198601</td>\n",
       "                        <td id=\"T_a0666_row4_col1\" class=\"data row4 col1\" >0.491546</td>\n",
       "                        <td id=\"T_a0666_row4_col2\" class=\"data row4 col2\" >-0.017340</td>\n",
       "                        <td id=\"T_a0666_row4_col3\" class=\"data row4 col3\" >0.200379</td>\n",
       "                        <td id=\"T_a0666_row4_col4\" class=\"data row4 col4\" >1.000000</td>\n",
       "                        <td id=\"T_a0666_row4_col5\" class=\"data row4 col5\" >0.008360</td>\n",
       "            </tr>\n",
       "            <tr>\n",
       "                        <th id=\"T_a0666_level0_row5\" class=\"row_heading level0 row5\" >h1n1_vaccine</th>\n",
       "                        <td id=\"T_a0666_row5_col0\" class=\"data row5 col0\" >0.323265</td>\n",
       "                        <td id=\"T_a0666_row5_col1\" class=\"data row5 col1\" >0.075091</td>\n",
       "                        <td id=\"T_a0666_row5_col2\" class=\"data row5 col2\" >0.179272</td>\n",
       "                        <td id=\"T_a0666_row5_col3\" class=\"data row5 col3\" >0.258571</td>\n",
       "                        <td id=\"T_a0666_row5_col4\" class=\"data row5 col4\" >0.008360</td>\n",
       "                        <td id=\"T_a0666_row5_col5\" class=\"data row5 col5\" >1.000000</td>\n",
       "            </tr>\n",
       "    </tbody></table>"
      ],
      "text/plain": [
       "<pandas.io.formats.style.Styler at 0x1ca9eb80a60>"
      ]
     },
     "execution_count": 153,
     "metadata": {},
     "output_type": "execute_result"
    }
   ],
   "source": [
    "cols = [\n",
    "    'opinion_h1n1_risk',\n",
    "    'opinion_h1n1_sick_from_vacc',\n",
    "    'opinion_seas_vacc_effective',\n",
    "    'opinion_seas_risk',\n",
    "    'opinion_seas_sick_from_vacc',\n",
    "    'h1n1_vaccine'\n",
    "]\n",
    "h1n1_opinion_corr = train_set_features_df[cols].corr()\n",
    "h1n1_opinion_corr.style.background_gradient()"
   ]
  },
  {
   "cell_type": "code",
   "execution_count": 154,
   "id": "88ec8b46",
   "metadata": {},
   "outputs": [
    {
     "data": {
      "text/html": [
       "<style  type=\"text/css\" >\n",
       "#T_3513d_row0_col0,#T_3513d_row1_col1,#T_3513d_row2_col2,#T_3513d_row3_col3,#T_3513d_row4_col4,#T_3513d_row5_col5{\n",
       "            background-color:  #023858;\n",
       "            color:  #f1f1f1;\n",
       "        }#T_3513d_row0_col1{\n",
       "            background-color:  #bbc7e0;\n",
       "            color:  #000000;\n",
       "        }#T_3513d_row0_col2,#T_3513d_row5_col3{\n",
       "            background-color:  #d3d4e7;\n",
       "            color:  #000000;\n",
       "        }#T_3513d_row0_col3,#T_3513d_row3_col0{\n",
       "            background-color:  #86b0d3;\n",
       "            color:  #000000;\n",
       "        }#T_3513d_row0_col4{\n",
       "            background-color:  #d2d2e7;\n",
       "            color:  #000000;\n",
       "        }#T_3513d_row0_col5{\n",
       "            background-color:  #cccfe5;\n",
       "            color:  #000000;\n",
       "        }#T_3513d_row1_col0{\n",
       "            background-color:  #e2dfee;\n",
       "            color:  #000000;\n",
       "        }#T_3513d_row1_col2{\n",
       "            background-color:  #f1ebf4;\n",
       "            color:  #000000;\n",
       "        }#T_3513d_row1_col3,#T_3513d_row1_col5{\n",
       "            background-color:  #f2ecf5;\n",
       "            color:  #000000;\n",
       "        }#T_3513d_row1_col4{\n",
       "            background-color:  #69a5cc;\n",
       "            color:  #000000;\n",
       "        }#T_3513d_row2_col0{\n",
       "            background-color:  #faf3f9;\n",
       "            color:  #000000;\n",
       "        }#T_3513d_row2_col1{\n",
       "            background-color:  #f7f0f7;\n",
       "            color:  #000000;\n",
       "        }#T_3513d_row2_col3{\n",
       "            background-color:  #e0dded;\n",
       "            color:  #000000;\n",
       "        }#T_3513d_row2_col4{\n",
       "            background-color:  #f9f2f8;\n",
       "            color:  #000000;\n",
       "        }#T_3513d_row2_col5{\n",
       "            background-color:  #9cb9d9;\n",
       "            color:  #000000;\n",
       "        }#T_3513d_row3_col1,#T_3513d_row3_col4{\n",
       "            background-color:  #d1d2e6;\n",
       "            color:  #000000;\n",
       "        }#T_3513d_row3_col2{\n",
       "            background-color:  #acc0dd;\n",
       "            color:  #000000;\n",
       "        }#T_3513d_row3_col5{\n",
       "            background-color:  #93b5d6;\n",
       "            color:  #000000;\n",
       "        }#T_3513d_row4_col0,#T_3513d_row4_col2,#T_3513d_row4_col3,#T_3513d_row4_col5,#T_3513d_row5_col1,#T_3513d_row5_col4{\n",
       "            background-color:  #fff7fb;\n",
       "            color:  #000000;\n",
       "        }#T_3513d_row4_col1{\n",
       "            background-color:  #7dacd1;\n",
       "            color:  #000000;\n",
       "        }#T_3513d_row5_col0{\n",
       "            background-color:  #fcf4fa;\n",
       "            color:  #000000;\n",
       "        }#T_3513d_row5_col2{\n",
       "            background-color:  #a7bddb;\n",
       "            color:  #000000;\n",
       "        }</style><table id=\"T_3513d_\" ><thead>    <tr>        <th class=\"blank level0\" ></th>        <th class=\"col_heading level0 col0\" >opinion_h1n1_risk</th>        <th class=\"col_heading level0 col1\" >opinion_h1n1_sick_from_vacc</th>        <th class=\"col_heading level0 col2\" >opinion_seas_vacc_effective</th>        <th class=\"col_heading level0 col3\" >opinion_seas_risk</th>        <th class=\"col_heading level0 col4\" >opinion_seas_sick_from_vacc</th>        <th class=\"col_heading level0 col5\" >seasonal_vaccine</th>    </tr></thead><tbody>\n",
       "                <tr>\n",
       "                        <th id=\"T_3513d_level0_row0\" class=\"row_heading level0 row0\" >opinion_h1n1_risk</th>\n",
       "                        <td id=\"T_3513d_row0_col0\" class=\"data row0 col0\" >1.000000</td>\n",
       "                        <td id=\"T_3513d_row0_col1\" class=\"data row0 col1\" >0.335062</td>\n",
       "                        <td id=\"T_3513d_row0_col2\" class=\"data row0 col2\" >0.224469</td>\n",
       "                        <td id=\"T_3513d_row0_col3\" class=\"data row0 col3\" >0.564208</td>\n",
       "                        <td id=\"T_3513d_row0_col4\" class=\"data row0 col4\" >0.198601</td>\n",
       "                        <td id=\"T_3513d_row0_col5\" class=\"data row0 col5\" >0.216625</td>\n",
       "            </tr>\n",
       "            <tr>\n",
       "                        <th id=\"T_3513d_level0_row1\" class=\"row_heading level0 row1\" >opinion_h1n1_sick_from_vacc</th>\n",
       "                        <td id=\"T_3513d_row1_col0\" class=\"data row1 col0\" >0.335062</td>\n",
       "                        <td id=\"T_3513d_row1_col1\" class=\"data row1 col1\" >1.000000</td>\n",
       "                        <td id=\"T_3513d_row1_col2\" class=\"data row1 col2\" >0.078097</td>\n",
       "                        <td id=\"T_3513d_row1_col3\" class=\"data row1 col3\" >0.267013</td>\n",
       "                        <td id=\"T_3513d_row1_col4\" class=\"data row1 col4\" >0.491546</td>\n",
       "                        <td id=\"T_3513d_row1_col5\" class=\"data row1 col5\" >0.027404</td>\n",
       "            </tr>\n",
       "            <tr>\n",
       "                        <th id=\"T_3513d_level0_row2\" class=\"row_heading level0 row2\" >opinion_seas_vacc_effective</th>\n",
       "                        <td id=\"T_3513d_row2_col0\" class=\"data row2 col0\" >0.224469</td>\n",
       "                        <td id=\"T_3513d_row2_col1\" class=\"data row2 col1\" >0.078097</td>\n",
       "                        <td id=\"T_3513d_row2_col2\" class=\"data row2 col2\" >1.000000</td>\n",
       "                        <td id=\"T_3513d_row2_col3\" class=\"data row2 col3\" >0.344800</td>\n",
       "                        <td id=\"T_3513d_row2_col4\" class=\"data row2 col4\" >-0.017340</td>\n",
       "                        <td id=\"T_3513d_row2_col5\" class=\"data row2 col5\" >0.361875</td>\n",
       "            </tr>\n",
       "            <tr>\n",
       "                        <th id=\"T_3513d_level0_row3\" class=\"row_heading level0 row3\" >opinion_seas_risk</th>\n",
       "                        <td id=\"T_3513d_row3_col0\" class=\"data row3 col0\" >0.564208</td>\n",
       "                        <td id=\"T_3513d_row3_col1\" class=\"data row3 col1\" >0.267013</td>\n",
       "                        <td id=\"T_3513d_row3_col2\" class=\"data row3 col2\" >0.344800</td>\n",
       "                        <td id=\"T_3513d_row3_col3\" class=\"data row3 col3\" >1.000000</td>\n",
       "                        <td id=\"T_3513d_row3_col4\" class=\"data row3 col4\" >0.200379</td>\n",
       "                        <td id=\"T_3513d_row3_col5\" class=\"data row3 col5\" >0.390106</td>\n",
       "            </tr>\n",
       "            <tr>\n",
       "                        <th id=\"T_3513d_level0_row4\" class=\"row_heading level0 row4\" >opinion_seas_sick_from_vacc</th>\n",
       "                        <td id=\"T_3513d_row4_col0\" class=\"data row4 col0\" >0.198601</td>\n",
       "                        <td id=\"T_3513d_row4_col1\" class=\"data row4 col1\" >0.491546</td>\n",
       "                        <td id=\"T_3513d_row4_col2\" class=\"data row4 col2\" >-0.017340</td>\n",
       "                        <td id=\"T_3513d_row4_col3\" class=\"data row4 col3\" >0.200379</td>\n",
       "                        <td id=\"T_3513d_row4_col4\" class=\"data row4 col4\" >1.000000</td>\n",
       "                        <td id=\"T_3513d_row4_col5\" class=\"data row4 col5\" >-0.061510</td>\n",
       "            </tr>\n",
       "            <tr>\n",
       "                        <th id=\"T_3513d_level0_row5\" class=\"row_heading level0 row5\" >seasonal_vaccine</th>\n",
       "                        <td id=\"T_3513d_row5_col0\" class=\"data row5 col0\" >0.216625</td>\n",
       "                        <td id=\"T_3513d_row5_col1\" class=\"data row5 col1\" >0.027404</td>\n",
       "                        <td id=\"T_3513d_row5_col2\" class=\"data row5 col2\" >0.361875</td>\n",
       "                        <td id=\"T_3513d_row5_col3\" class=\"data row5 col3\" >0.390106</td>\n",
       "                        <td id=\"T_3513d_row5_col4\" class=\"data row5 col4\" >-0.061510</td>\n",
       "                        <td id=\"T_3513d_row5_col5\" class=\"data row5 col5\" >1.000000</td>\n",
       "            </tr>\n",
       "    </tbody></table>"
      ],
      "text/plain": [
       "<pandas.io.formats.style.Styler at 0x1ca9eb80c70>"
      ]
     },
     "execution_count": 154,
     "metadata": {},
     "output_type": "execute_result"
    }
   ],
   "source": [
    "cols = [\n",
    "    'opinion_h1n1_risk',\n",
    "    'opinion_h1n1_sick_from_vacc',\n",
    "    'opinion_seas_vacc_effective',\n",
    "    'opinion_seas_risk',\n",
    "    'opinion_seas_sick_from_vacc',\n",
    "    'seasonal_vaccine'\n",
    "]\n",
    "seasonal_opinion_corr = train_set_features_df[cols].corr()\n",
    "seasonal_opinion_corr.style.background_gradient()"
   ]
  },
  {
   "cell_type": "markdown",
   "id": "84481cb7",
   "metadata": {},
   "source": [
    "### Vaccinations and peronal atrributes correlation"
   ]
  },
  {
   "cell_type": "code",
   "execution_count": 164,
   "id": "d91389d2",
   "metadata": {},
   "outputs": [
    {
     "data": {
      "text/html": [
       "<div>\n",
       "<style scoped>\n",
       "    .dataframe tbody tr th:only-of-type {\n",
       "        vertical-align: middle;\n",
       "    }\n",
       "\n",
       "    .dataframe tbody tr th {\n",
       "        vertical-align: top;\n",
       "    }\n",
       "\n",
       "    .dataframe thead th {\n",
       "        text-align: right;\n",
       "    }\n",
       "</style>\n",
       "<table border=\"1\" class=\"dataframe\">\n",
       "  <thead>\n",
       "    <tr style=\"text-align: right;\">\n",
       "      <th></th>\n",
       "      <th>respondent_id</th>\n",
       "      <th>h1n1_concern</th>\n",
       "      <th>h1n1_knowledge</th>\n",
       "      <th>behavioral_antiviral_meds</th>\n",
       "      <th>behavioral_avoidance</th>\n",
       "      <th>behavioral_face_mask</th>\n",
       "      <th>behavioral_wash_hands</th>\n",
       "      <th>behavioral_large_gatherings</th>\n",
       "      <th>behavioral_outside_home</th>\n",
       "      <th>behavioral_touch_face</th>\n",
       "      <th>...</th>\n",
       "      <th>rent_or_own</th>\n",
       "      <th>employment_status</th>\n",
       "      <th>hhs_geo_region</th>\n",
       "      <th>census_msa</th>\n",
       "      <th>household_adults</th>\n",
       "      <th>household_children</th>\n",
       "      <th>employment_industry</th>\n",
       "      <th>employment_occupation</th>\n",
       "      <th>h1n1_vaccine</th>\n",
       "      <th>seasonal_vaccine</th>\n",
       "    </tr>\n",
       "  </thead>\n",
       "  <tbody>\n",
       "    <tr>\n",
       "      <th>0</th>\n",
       "      <td>0</td>\n",
       "      <td>1.0</td>\n",
       "      <td>0.0</td>\n",
       "      <td>0.0</td>\n",
       "      <td>0.0</td>\n",
       "      <td>0.0</td>\n",
       "      <td>0.0</td>\n",
       "      <td>0.0</td>\n",
       "      <td>1.0</td>\n",
       "      <td>1.0</td>\n",
       "      <td>...</td>\n",
       "      <td>0</td>\n",
       "      <td>1</td>\n",
       "      <td>oxchjgsf</td>\n",
       "      <td>Non-MSA</td>\n",
       "      <td>0.0</td>\n",
       "      <td>0.0</td>\n",
       "      <td>21</td>\n",
       "      <td>23</td>\n",
       "      <td>0</td>\n",
       "      <td>0</td>\n",
       "    </tr>\n",
       "    <tr>\n",
       "      <th>1</th>\n",
       "      <td>1</td>\n",
       "      <td>3.0</td>\n",
       "      <td>2.0</td>\n",
       "      <td>0.0</td>\n",
       "      <td>1.0</td>\n",
       "      <td>0.0</td>\n",
       "      <td>1.0</td>\n",
       "      <td>0.0</td>\n",
       "      <td>1.0</td>\n",
       "      <td>1.0</td>\n",
       "      <td>...</td>\n",
       "      <td>1</td>\n",
       "      <td>0</td>\n",
       "      <td>bhuqouqj</td>\n",
       "      <td>MSA, Not Principle  City</td>\n",
       "      <td>0.0</td>\n",
       "      <td>0.0</td>\n",
       "      <td>12</td>\n",
       "      <td>19</td>\n",
       "      <td>0</td>\n",
       "      <td>1</td>\n",
       "    </tr>\n",
       "    <tr>\n",
       "      <th>2</th>\n",
       "      <td>2</td>\n",
       "      <td>1.0</td>\n",
       "      <td>1.0</td>\n",
       "      <td>0.0</td>\n",
       "      <td>1.0</td>\n",
       "      <td>0.0</td>\n",
       "      <td>0.0</td>\n",
       "      <td>0.0</td>\n",
       "      <td>0.0</td>\n",
       "      <td>0.0</td>\n",
       "      <td>...</td>\n",
       "      <td>0</td>\n",
       "      <td>0</td>\n",
       "      <td>qufhixun</td>\n",
       "      <td>MSA, Not Principle  City</td>\n",
       "      <td>2.0</td>\n",
       "      <td>0.0</td>\n",
       "      <td>14</td>\n",
       "      <td>21</td>\n",
       "      <td>0</td>\n",
       "      <td>0</td>\n",
       "    </tr>\n",
       "    <tr>\n",
       "      <th>3</th>\n",
       "      <td>3</td>\n",
       "      <td>1.0</td>\n",
       "      <td>1.0</td>\n",
       "      <td>0.0</td>\n",
       "      <td>1.0</td>\n",
       "      <td>0.0</td>\n",
       "      <td>1.0</td>\n",
       "      <td>1.0</td>\n",
       "      <td>0.0</td>\n",
       "      <td>0.0</td>\n",
       "      <td>...</td>\n",
       "      <td>1</td>\n",
       "      <td>1</td>\n",
       "      <td>lrircsnp</td>\n",
       "      <td>MSA, Principle City</td>\n",
       "      <td>0.0</td>\n",
       "      <td>0.0</td>\n",
       "      <td>21</td>\n",
       "      <td>23</td>\n",
       "      <td>0</td>\n",
       "      <td>1</td>\n",
       "    </tr>\n",
       "    <tr>\n",
       "      <th>4</th>\n",
       "      <td>4</td>\n",
       "      <td>2.0</td>\n",
       "      <td>1.0</td>\n",
       "      <td>0.0</td>\n",
       "      <td>1.0</td>\n",
       "      <td>0.0</td>\n",
       "      <td>1.0</td>\n",
       "      <td>1.0</td>\n",
       "      <td>0.0</td>\n",
       "      <td>1.0</td>\n",
       "      <td>...</td>\n",
       "      <td>0</td>\n",
       "      <td>0</td>\n",
       "      <td>qufhixun</td>\n",
       "      <td>MSA, Not Principle  City</td>\n",
       "      <td>1.0</td>\n",
       "      <td>0.0</td>\n",
       "      <td>18</td>\n",
       "      <td>5</td>\n",
       "      <td>0</td>\n",
       "      <td>0</td>\n",
       "    </tr>\n",
       "  </tbody>\n",
       "</table>\n",
       "<p>5 rows × 38 columns</p>\n",
       "</div>"
      ],
      "text/plain": [
       "   respondent_id  h1n1_concern  h1n1_knowledge  behavioral_antiviral_meds  \\\n",
       "0              0           1.0             0.0                        0.0   \n",
       "1              1           3.0             2.0                        0.0   \n",
       "2              2           1.0             1.0                        0.0   \n",
       "3              3           1.0             1.0                        0.0   \n",
       "4              4           2.0             1.0                        0.0   \n",
       "\n",
       "   behavioral_avoidance  behavioral_face_mask  behavioral_wash_hands  \\\n",
       "0                   0.0                   0.0                    0.0   \n",
       "1                   1.0                   0.0                    1.0   \n",
       "2                   1.0                   0.0                    0.0   \n",
       "3                   1.0                   0.0                    1.0   \n",
       "4                   1.0                   0.0                    1.0   \n",
       "\n",
       "   behavioral_large_gatherings  behavioral_outside_home  \\\n",
       "0                          0.0                      1.0   \n",
       "1                          0.0                      1.0   \n",
       "2                          0.0                      0.0   \n",
       "3                          1.0                      0.0   \n",
       "4                          1.0                      0.0   \n",
       "\n",
       "   behavioral_touch_face  ...  rent_or_own  employment_status  hhs_geo_region  \\\n",
       "0                    1.0  ...            0                  1        oxchjgsf   \n",
       "1                    1.0  ...            1                  0        bhuqouqj   \n",
       "2                    0.0  ...            0                  0        qufhixun   \n",
       "3                    0.0  ...            1                  1        lrircsnp   \n",
       "4                    1.0  ...            0                  0        qufhixun   \n",
       "\n",
       "                 census_msa  household_adults  household_children  \\\n",
       "0                   Non-MSA               0.0                 0.0   \n",
       "1  MSA, Not Principle  City               0.0                 0.0   \n",
       "2  MSA, Not Principle  City               2.0                 0.0   \n",
       "3       MSA, Principle City               0.0                 0.0   \n",
       "4  MSA, Not Principle  City               1.0                 0.0   \n",
       "\n",
       "   employment_industry  employment_occupation  h1n1_vaccine  seasonal_vaccine  \n",
       "0                   21                     23             0                 0  \n",
       "1                   12                     19             0                 1  \n",
       "2                   14                     21             0                 0  \n",
       "3                   21                     23             0                 1  \n",
       "4                   18                      5             0                 0  \n",
       "\n",
       "[5 rows x 38 columns]"
      ]
     },
     "execution_count": 164,
     "metadata": {},
     "output_type": "execute_result"
    }
   ],
   "source": [
    "from sklearn import preprocessing\n",
    "## Encoding categorical variables - age_group, education, race, sex, income_poverty, maritial_status, rent_or_own, \n",
    "# employmant_status, employment_industry, employment_occupation\n",
    "cols = [\n",
    "    'age_group',\n",
    "    'education',\n",
    "    'race',\n",
    "    'sex',\n",
    "    'income_poverty',\n",
    "    'marital_status',\n",
    "    'rent_or_own',\n",
    "    'employment_status',\n",
    "    'employment_industry',\n",
    "    'employment_occupation',\n",
    "]\n",
    "le = preprocessing.LabelEncoder()\n",
    "for col in cols:\n",
    "    train_set_features_df[col] = le.fit_transform(train_set_features_df[col])\n",
    "train_set_features_df.head()"
   ]
  },
  {
   "cell_type": "code",
   "execution_count": 167,
   "id": "a0c87dd2",
   "metadata": {},
   "outputs": [
    {
     "data": {
      "text/html": [
       "<style  type=\"text/css\" >\n",
       "#T_261fe_row0_col0,#T_261fe_row1_col1,#T_261fe_row2_col2,#T_261fe_row3_col3,#T_261fe_row4_col4,#T_261fe_row5_col5,#T_261fe_row6_col6,#T_261fe_row7_col7,#T_261fe_row8_col8,#T_261fe_row9_col9,#T_261fe_row10_col10,#T_261fe_row11_col11,#T_261fe_row12_col12,#T_261fe_row13_col13{\n",
       "            background-color:  #023858;\n",
       "            color:  #f1f1f1;\n",
       "        }#T_261fe_row0_col1,#T_261fe_row0_col6,#T_261fe_row0_col9,#T_261fe_row2_col4,#T_261fe_row2_col7,#T_261fe_row5_col8,#T_261fe_row6_col2,#T_261fe_row8_col5,#T_261fe_row9_col0,#T_261fe_row9_col10,#T_261fe_row9_col11,#T_261fe_row9_col13,#T_261fe_row11_col12,#T_261fe_row13_col3{\n",
       "            background-color:  #fff7fb;\n",
       "            color:  #000000;\n",
       "        }#T_261fe_row0_col2{\n",
       "            background-color:  #cdd0e5;\n",
       "            color:  #000000;\n",
       "        }#T_261fe_row0_col3,#T_261fe_row8_col7,#T_261fe_row10_col3{\n",
       "            background-color:  #fdf5fa;\n",
       "            color:  #000000;\n",
       "        }#T_261fe_row0_col4,#T_261fe_row4_col2{\n",
       "            background-color:  #f6eff7;\n",
       "            color:  #000000;\n",
       "        }#T_261fe_row0_col5,#T_261fe_row6_col8,#T_261fe_row11_col8{\n",
       "            background-color:  #dcdaeb;\n",
       "            color:  #000000;\n",
       "        }#T_261fe_row0_col7{\n",
       "            background-color:  #e4e1ef;\n",
       "            color:  #000000;\n",
       "        }#T_261fe_row0_col8,#T_261fe_row1_col10,#T_261fe_row3_col12,#T_261fe_row5_col3,#T_261fe_row5_col13,#T_261fe_row7_col12,#T_261fe_row8_col11,#T_261fe_row8_col13,#T_261fe_row9_col2,#T_261fe_row9_col3,#T_261fe_row10_col1{\n",
       "            background-color:  #f8f1f8;\n",
       "            color:  #000000;\n",
       "        }#T_261fe_row0_col10{\n",
       "            background-color:  #bfc9e1;\n",
       "            color:  #000000;\n",
       "        }#T_261fe_row0_col11,#T_261fe_row5_col4{\n",
       "            background-color:  #b9c6e0;\n",
       "            color:  #000000;\n",
       "        }#T_261fe_row0_col12,#T_261fe_row2_col12,#T_261fe_row7_col2{\n",
       "            background-color:  #efe9f3;\n",
       "            color:  #000000;\n",
       "        }#T_261fe_row0_col13{\n",
       "            background-color:  #adc1dd;\n",
       "            color:  #000000;\n",
       "        }#T_261fe_row1_col0,#T_261fe_row1_col8,#T_261fe_row7_col1{\n",
       "            background-color:  #d1d2e6;\n",
       "            color:  #000000;\n",
       "        }#T_261fe_row1_col2{\n",
       "            background-color:  #dfddec;\n",
       "            color:  #000000;\n",
       "        }#T_261fe_row1_col3{\n",
       "            background-color:  #f5eff6;\n",
       "            color:  #000000;\n",
       "        }#T_261fe_row1_col4{\n",
       "            background-color:  #e2dfee;\n",
       "            color:  #000000;\n",
       "        }#T_261fe_row1_col5{\n",
       "            background-color:  #a7bddb;\n",
       "            color:  #000000;\n",
       "        }#T_261fe_row1_col6{\n",
       "            background-color:  #c0c9e2;\n",
       "            color:  #000000;\n",
       "        }#T_261fe_row1_col7,#T_261fe_row10_col8{\n",
       "            background-color:  #d9d8ea;\n",
       "            color:  #000000;\n",
       "        }#T_261fe_row1_col9{\n",
       "            background-color:  #acc0dd;\n",
       "            color:  #000000;\n",
       "        }#T_261fe_row1_col11,#T_261fe_row5_col2,#T_261fe_row6_col12,#T_261fe_row7_col3,#T_261fe_row12_col10{\n",
       "            background-color:  #f9f2f8;\n",
       "            color:  #000000;\n",
       "        }#T_261fe_row1_col12{\n",
       "            background-color:  #f1ebf5;\n",
       "            color:  #000000;\n",
       "        }#T_261fe_row1_col13,#T_261fe_row3_col11,#T_261fe_row6_col3,#T_261fe_row8_col6,#T_261fe_row11_col13,#T_261fe_row12_col1,#T_261fe_row13_col11{\n",
       "            background-color:  #f0eaf4;\n",
       "            color:  #000000;\n",
       "        }#T_261fe_row2_col0{\n",
       "            background-color:  #9cb9d9;\n",
       "            color:  #000000;\n",
       "        }#T_261fe_row2_col1,#T_261fe_row10_col2,#T_261fe_row11_col2{\n",
       "            background-color:  #ece7f2;\n",
       "            color:  #000000;\n",
       "        }#T_261fe_row2_col3,#T_261fe_row11_col3{\n",
       "            background-color:  #f3edf5;\n",
       "            color:  #000000;\n",
       "        }#T_261fe_row2_col5,#T_261fe_row3_col2,#T_261fe_row8_col4,#T_261fe_row9_col1,#T_261fe_row9_col5{\n",
       "            background-color:  #e7e3f0;\n",
       "            color:  #000000;\n",
       "        }#T_261fe_row2_col6{\n",
       "            background-color:  #fef6fb;\n",
       "            color:  #000000;\n",
       "        }#T_261fe_row2_col8,#T_261fe_row3_col5,#T_261fe_row7_col8{\n",
       "            background-color:  #d8d7e9;\n",
       "            color:  #000000;\n",
       "        }#T_261fe_row2_col9,#T_261fe_row5_col9,#T_261fe_row6_col10,#T_261fe_row13_col9{\n",
       "            background-color:  #d5d5e8;\n",
       "            color:  #000000;\n",
       "        }#T_261fe_row2_col10,#T_261fe_row4_col13,#T_261fe_row9_col12{\n",
       "            background-color:  #f5eef6;\n",
       "            color:  #000000;\n",
       "        }#T_261fe_row2_col11,#T_261fe_row3_col1,#T_261fe_row8_col12,#T_261fe_row12_col4{\n",
       "            background-color:  #f4edf6;\n",
       "            color:  #000000;\n",
       "        }#T_261fe_row2_col13,#T_261fe_row9_col6,#T_261fe_row13_col5{\n",
       "            background-color:  #dddbec;\n",
       "            color:  #000000;\n",
       "        }#T_261fe_row3_col0{\n",
       "            background-color:  #cccfe5;\n",
       "            color:  #000000;\n",
       "        }#T_261fe_row3_col4,#T_261fe_row13_col6{\n",
       "            background-color:  #f4eef6;\n",
       "            color:  #000000;\n",
       "        }#T_261fe_row3_col6,#T_261fe_row12_col2{\n",
       "            background-color:  #e0deed;\n",
       "            color:  #000000;\n",
       "        }#T_261fe_row3_col7{\n",
       "            background-color:  #fef6fa;\n",
       "            color:  #000000;\n",
       "        }#T_261fe_row3_col8,#T_261fe_row4_col0{\n",
       "            background-color:  #c4cbe3;\n",
       "            color:  #000000;\n",
       "        }#T_261fe_row3_col9,#T_261fe_row4_col8{\n",
       "            background-color:  #c2cbe2;\n",
       "            color:  #000000;\n",
       "        }#T_261fe_row3_col10,#T_261fe_row3_col13{\n",
       "            background-color:  #faf3f9;\n",
       "            color:  #000000;\n",
       "        }#T_261fe_row4_col1,#T_261fe_row9_col4{\n",
       "            background-color:  #e3e0ee;\n",
       "            color:  #000000;\n",
       "        }#T_261fe_row4_col3,#T_261fe_row4_col12,#T_261fe_row8_col10,#T_261fe_row12_col3,#T_261fe_row13_col4,#T_261fe_row13_col7{\n",
       "            background-color:  #f7f0f7;\n",
       "            color:  #000000;\n",
       "        }#T_261fe_row4_col5{\n",
       "            background-color:  #8fb4d6;\n",
       "            color:  #000000;\n",
       "        }#T_261fe_row4_col6{\n",
       "            background-color:  #79abd0;\n",
       "            color:  #000000;\n",
       "        }#T_261fe_row4_col7,#T_261fe_row9_col8{\n",
       "            background-color:  #a2bcda;\n",
       "            color:  #000000;\n",
       "        }#T_261fe_row4_col9,#T_261fe_row11_col5{\n",
       "            background-color:  #a8bedc;\n",
       "            color:  #000000;\n",
       "        }#T_261fe_row4_col10,#T_261fe_row10_col4{\n",
       "            background-color:  #d6d6e9;\n",
       "            color:  #000000;\n",
       "        }#T_261fe_row4_col11,#T_261fe_row5_col11{\n",
       "            background-color:  #d0d1e6;\n",
       "            color:  #000000;\n",
       "        }#T_261fe_row5_col0{\n",
       "            background-color:  #c9cee4;\n",
       "            color:  #000000;\n",
       "        }#T_261fe_row5_col1,#T_261fe_row10_col9,#T_261fe_row11_col4,#T_261fe_row12_col8{\n",
       "            background-color:  #d2d2e7;\n",
       "            color:  #000000;\n",
       "        }#T_261fe_row5_col6{\n",
       "            background-color:  #589ec8;\n",
       "            color:  #000000;\n",
       "        }#T_261fe_row5_col7{\n",
       "            background-color:  #8bb2d4;\n",
       "            color:  #000000;\n",
       "        }#T_261fe_row5_col10,#T_261fe_row11_col9{\n",
       "            background-color:  #d3d4e7;\n",
       "            color:  #000000;\n",
       "        }#T_261fe_row5_col12,#T_261fe_row6_col13,#T_261fe_row9_col7,#T_261fe_row12_col7{\n",
       "            background-color:  #fcf4fa;\n",
       "            color:  #000000;\n",
       "        }#T_261fe_row6_col0,#T_261fe_row13_col8{\n",
       "            background-color:  #dedcec;\n",
       "            color:  #000000;\n",
       "        }#T_261fe_row6_col1{\n",
       "            background-color:  #d2d3e7;\n",
       "            color:  #000000;\n",
       "        }#T_261fe_row6_col4{\n",
       "            background-color:  #88b1d4;\n",
       "            color:  #000000;\n",
       "        }#T_261fe_row6_col5{\n",
       "            background-color:  #4094c3;\n",
       "            color:  #000000;\n",
       "        }#T_261fe_row6_col7{\n",
       "            background-color:  #80aed2;\n",
       "            color:  #000000;\n",
       "        }#T_261fe_row6_col9{\n",
       "            background-color:  #b0c2de;\n",
       "            color:  #000000;\n",
       "        }#T_261fe_row6_col11,#T_261fe_row13_col2{\n",
       "            background-color:  #d4d4e8;\n",
       "            color:  #000000;\n",
       "        }#T_261fe_row7_col0{\n",
       "            background-color:  #9ebad9;\n",
       "            color:  #000000;\n",
       "        }#T_261fe_row7_col4{\n",
       "            background-color:  #96b6d7;\n",
       "            color:  #000000;\n",
       "        }#T_261fe_row7_col5{\n",
       "            background-color:  #569dc8;\n",
       "            color:  #000000;\n",
       "        }#T_261fe_row7_col6{\n",
       "            background-color:  #65a3cb;\n",
       "            color:  #000000;\n",
       "        }#T_261fe_row7_col9{\n",
       "            background-color:  #c1cae2;\n",
       "            color:  #000000;\n",
       "        }#T_261fe_row7_col10{\n",
       "            background-color:  #2a88bc;\n",
       "            color:  #000000;\n",
       "        }#T_261fe_row7_col11,#T_261fe_row10_col11{\n",
       "            background-color:  #2d8abd;\n",
       "            color:  #000000;\n",
       "        }#T_261fe_row7_col13{\n",
       "            background-color:  #eee8f3;\n",
       "            color:  #000000;\n",
       "        }#T_261fe_row8_col0{\n",
       "            background-color:  #eae6f1;\n",
       "            color:  #000000;\n",
       "        }#T_261fe_row8_col1,#T_261fe_row13_col1{\n",
       "            background-color:  #f2ecf5;\n",
       "            color:  #000000;\n",
       "        }#T_261fe_row8_col2{\n",
       "            background-color:  #ede8f3;\n",
       "            color:  #000000;\n",
       "        }#T_261fe_row8_col3{\n",
       "            background-color:  #ebe6f2;\n",
       "            color:  #000000;\n",
       "        }#T_261fe_row8_col9,#T_261fe_row12_col13{\n",
       "            background-color:  #8cb3d5;\n",
       "            color:  #000000;\n",
       "        }#T_261fe_row10_col0{\n",
       "            background-color:  #7eadd1;\n",
       "            color:  #000000;\n",
       "        }#T_261fe_row10_col5{\n",
       "            background-color:  #a9bfdc;\n",
       "            color:  #000000;\n",
       "        }#T_261fe_row10_col6{\n",
       "            background-color:  #c5cce3;\n",
       "            color:  #000000;\n",
       "        }#T_261fe_row10_col7{\n",
       "            background-color:  #308cbe;\n",
       "            color:  #000000;\n",
       "        }#T_261fe_row10_col12,#T_261fe_row12_col11{\n",
       "            background-color:  #fbf4f9;\n",
       "            color:  #000000;\n",
       "        }#T_261fe_row10_col13{\n",
       "            background-color:  #eee9f3;\n",
       "            color:  #000000;\n",
       "        }#T_261fe_row11_col0{\n",
       "            background-color:  #7dacd1;\n",
       "            color:  #000000;\n",
       "        }#T_261fe_row11_col1{\n",
       "            background-color:  #fbf3f9;\n",
       "            color:  #000000;\n",
       "        }#T_261fe_row11_col6{\n",
       "            background-color:  #c6cce3;\n",
       "            color:  #000000;\n",
       "        }#T_261fe_row11_col7{\n",
       "            background-color:  #3790c0;\n",
       "            color:  #000000;\n",
       "        }#T_261fe_row11_col10{\n",
       "            background-color:  #2f8bbe;\n",
       "            color:  #000000;\n",
       "        }#T_261fe_row12_col0{\n",
       "            background-color:  #b3c3de;\n",
       "            color:  #000000;\n",
       "        }#T_261fe_row12_col5{\n",
       "            background-color:  #dbdaeb;\n",
       "            color:  #000000;\n",
       "        }#T_261fe_row12_col6{\n",
       "            background-color:  #ede7f2;\n",
       "            color:  #000000;\n",
       "        }#T_261fe_row12_col9{\n",
       "            background-color:  #bdc8e1;\n",
       "            color:  #000000;\n",
       "        }#T_261fe_row13_col0{\n",
       "            background-color:  #73a9cf;\n",
       "            color:  #000000;\n",
       "        }#T_261fe_row13_col10{\n",
       "            background-color:  #f1ebf4;\n",
       "            color:  #000000;\n",
       "        }#T_261fe_row13_col12{\n",
       "            background-color:  #94b6d7;\n",
       "            color:  #000000;\n",
       "        }</style><table id=\"T_261fe_\" ><thead>    <tr>        <th class=\"blank level0\" ></th>        <th class=\"col_heading level0 col0\" >age_group</th>        <th class=\"col_heading level0 col1\" >education</th>        <th class=\"col_heading level0 col2\" >race</th>        <th class=\"col_heading level0 col3\" >sex</th>        <th class=\"col_heading level0 col4\" >income_poverty</th>        <th class=\"col_heading level0 col5\" >marital_status</th>        <th class=\"col_heading level0 col6\" >rent_or_own</th>        <th class=\"col_heading level0 col7\" >employment_status</th>        <th class=\"col_heading level0 col8\" >household_adults</th>        <th class=\"col_heading level0 col9\" >household_children</th>        <th class=\"col_heading level0 col10\" >employment_industry</th>        <th class=\"col_heading level0 col11\" >employment_occupation</th>        <th class=\"col_heading level0 col12\" >h1n1_vaccine</th>        <th class=\"col_heading level0 col13\" >seasonal_vaccine</th>    </tr></thead><tbody>\n",
       "                <tr>\n",
       "                        <th id=\"T_261fe_level0_row0\" class=\"row_heading level0 row0\" >age_group</th>\n",
       "                        <td id=\"T_261fe_row0_col0\" class=\"data row0 col0\" >1.000000</td>\n",
       "                        <td id=\"T_261fe_row0_col1\" class=\"data row0 col1\" >-0.088767</td>\n",
       "                        <td id=\"T_261fe_row0_col2\" class=\"data row0 col2\" >0.134898</td>\n",
       "                        <td id=\"T_261fe_row0_col3\" class=\"data row0 col3\" >-0.064209</td>\n",
       "                        <td id=\"T_261fe_row0_col4\" class=\"data row0 col4\" >-0.029130</td>\n",
       "                        <td id=\"T_261fe_row0_col5\" class=\"data row0 col5\" >-0.056104</td>\n",
       "                        <td id=\"T_261fe_row0_col6\" class=\"data row0 col6\" >-0.175420</td>\n",
       "                        <td id=\"T_261fe_row0_col7\" class=\"data row0 col7\" >0.125136</td>\n",
       "                        <td id=\"T_261fe_row0_col8\" class=\"data row0 col8\" >-0.252739</td>\n",
       "                        <td id=\"T_261fe_row0_col9\" class=\"data row0 col9\" >-0.446934</td>\n",
       "                        <td id=\"T_261fe_row0_col10\" class=\"data row0 col10\" >0.238515</td>\n",
       "                        <td id=\"T_261fe_row0_col11\" class=\"data row0 col11\" >0.246068</td>\n",
       "                        <td id=\"T_261fe_row0_col12\" class=\"data row0 col12\" >0.041074</td>\n",
       "                        <td id=\"T_261fe_row0_col13\" class=\"data row0 col13\" >0.277454</td>\n",
       "            </tr>\n",
       "            <tr>\n",
       "                        <th id=\"T_261fe_level0_row1\" class=\"row_heading level0 row1\" >education</th>\n",
       "                        <td id=\"T_261fe_row1_col0\" class=\"data row1 col0\" >-0.088767</td>\n",
       "                        <td id=\"T_261fe_row1_col1\" class=\"data row1 col1\" >1.000000</td>\n",
       "                        <td id=\"T_261fe_row1_col2\" class=\"data row1 col2\" >0.048927</td>\n",
       "                        <td id=\"T_261fe_row1_col3\" class=\"data row1 col3\" >-0.006329</td>\n",
       "                        <td id=\"T_261fe_row1_col4\" class=\"data row1 col4\" >0.090380</td>\n",
       "                        <td id=\"T_261fe_row1_col5\" class=\"data row1 col5\" >0.176107</td>\n",
       "                        <td id=\"T_261fe_row1_col6\" class=\"data row1 col6\" >0.174008</td>\n",
       "                        <td id=\"T_261fe_row1_col7\" class=\"data row1 col7\" >0.180010</td>\n",
       "                        <td id=\"T_261fe_row1_col8\" class=\"data row1 col8\" >0.009047</td>\n",
       "                        <td id=\"T_261fe_row1_col9\" class=\"data row1 col9\" >0.072823</td>\n",
       "                        <td id=\"T_261fe_row1_col10\" class=\"data row1 col10\" >-0.039271</td>\n",
       "                        <td id=\"T_261fe_row1_col11\" class=\"data row1 col11\" >-0.057946</td>\n",
       "                        <td id=\"T_261fe_row1_col12\" class=\"data row1 col12\" >0.024694</td>\n",
       "                        <td id=\"T_261fe_row1_col13\" class=\"data row1 col13\" >0.002024</td>\n",
       "            </tr>\n",
       "            <tr>\n",
       "                        <th id=\"T_261fe_level0_row2\" class=\"row_heading level0 row2\" >race</th>\n",
       "                        <td id=\"T_261fe_row2_col0\" class=\"data row2 col0\" >0.134898</td>\n",
       "                        <td id=\"T_261fe_row2_col1\" class=\"data row2 col1\" >0.048927</td>\n",
       "                        <td id=\"T_261fe_row2_col2\" class=\"data row2 col2\" >1.000000</td>\n",
       "                        <td id=\"T_261fe_row2_col3\" class=\"data row2 col3\" >0.007582</td>\n",
       "                        <td id=\"T_261fe_row2_col4\" class=\"data row2 col4\" >-0.095847</td>\n",
       "                        <td id=\"T_261fe_row2_col5\" class=\"data row2 col5\" >-0.118545</td>\n",
       "                        <td id=\"T_261fe_row2_col6\" class=\"data row2 col6\" >-0.168629</td>\n",
       "                        <td id=\"T_261fe_row2_col7\" class=\"data row2 col7\" >-0.042888</td>\n",
       "                        <td id=\"T_261fe_row2_col8\" class=\"data row2 col8\" >-0.031396</td>\n",
       "                        <td id=\"T_261fe_row2_col9\" class=\"data row2 col9\" >-0.113755</td>\n",
       "                        <td id=\"T_261fe_row2_col10\" class=\"data row2 col10\" >-0.019054</td>\n",
       "                        <td id=\"T_261fe_row2_col11\" class=\"data row2 col11\" >-0.021997</td>\n",
       "                        <td id=\"T_261fe_row2_col12\" class=\"data row2 col12\" >0.041061</td>\n",
       "                        <td id=\"T_261fe_row2_col13\" class=\"data row2 col13\" >0.101743</td>\n",
       "            </tr>\n",
       "            <tr>\n",
       "                        <th id=\"T_261fe_level0_row3\" class=\"row_heading level0 row3\" >sex</th>\n",
       "                        <td id=\"T_261fe_row3_col0\" class=\"data row3 col0\" >-0.064209</td>\n",
       "                        <td id=\"T_261fe_row3_col1\" class=\"data row3 col1\" >-0.006329</td>\n",
       "                        <td id=\"T_261fe_row3_col2\" class=\"data row3 col2\" >0.007582</td>\n",
       "                        <td id=\"T_261fe_row3_col3\" class=\"data row3 col3\" >1.000000</td>\n",
       "                        <td id=\"T_261fe_row3_col4\" class=\"data row3 col4\" >-0.015661</td>\n",
       "                        <td id=\"T_261fe_row3_col5\" class=\"data row3 col5\" >-0.030344</td>\n",
       "                        <td id=\"T_261fe_row3_col6\" class=\"data row3 col6\" >0.033260</td>\n",
       "                        <td id=\"T_261fe_row3_col7\" class=\"data row3 col7\" >-0.032626</td>\n",
       "                        <td id=\"T_261fe_row3_col8\" class=\"data row3 col8\" >0.064799</td>\n",
       "                        <td id=\"T_261fe_row3_col9\" class=\"data row3 col9\" >-0.028112</td>\n",
       "                        <td id=\"T_261fe_row3_col10\" class=\"data row3 col10\" >-0.057378</td>\n",
       "                        <td id=\"T_261fe_row3_col11\" class=\"data row3 col11\" >0.008348</td>\n",
       "                        <td id=\"T_261fe_row3_col12\" class=\"data row3 col12\" >-0.020672</td>\n",
       "                        <td id=\"T_261fe_row3_col13\" class=\"data row3 col13\" >-0.077091</td>\n",
       "            </tr>\n",
       "            <tr>\n",
       "                        <th id=\"T_261fe_level0_row4\" class=\"row_heading level0 row4\" >income_poverty</th>\n",
       "                        <td id=\"T_261fe_row4_col0\" class=\"data row4 col0\" >-0.029130</td>\n",
       "                        <td id=\"T_261fe_row4_col1\" class=\"data row4 col1\" >0.090380</td>\n",
       "                        <td id=\"T_261fe_row4_col2\" class=\"data row4 col2\" >-0.095847</td>\n",
       "                        <td id=\"T_261fe_row4_col3\" class=\"data row4 col3\" >-0.015661</td>\n",
       "                        <td id=\"T_261fe_row4_col4\" class=\"data row4 col4\" >1.000000</td>\n",
       "                        <td id=\"T_261fe_row4_col5\" class=\"data row4 col5\" >0.251606</td>\n",
       "                        <td id=\"T_261fe_row4_col6\" class=\"data row4 col6\" >0.398085</td>\n",
       "                        <td id=\"T_261fe_row4_col7\" class=\"data row4 col7\" >0.357965</td>\n",
       "                        <td id=\"T_261fe_row4_col8\" class=\"data row4 col8\" >0.066504</td>\n",
       "                        <td id=\"T_261fe_row4_col9\" class=\"data row4 col9\" >0.084739</td>\n",
       "                        <td id=\"T_261fe_row4_col10\" class=\"data row4 col10\" >0.149711</td>\n",
       "                        <td id=\"T_261fe_row4_col11\" class=\"data row4 col11\" >0.171450</td>\n",
       "                        <td id=\"T_261fe_row4_col12\" class=\"data row4 col12\" >-0.012236</td>\n",
       "                        <td id=\"T_261fe_row4_col13\" class=\"data row4 col13\" >-0.038593</td>\n",
       "            </tr>\n",
       "            <tr>\n",
       "                        <th id=\"T_261fe_level0_row5\" class=\"row_heading level0 row5\" >marital_status</th>\n",
       "                        <td id=\"T_261fe_row5_col0\" class=\"data row5 col0\" >-0.056104</td>\n",
       "                        <td id=\"T_261fe_row5_col1\" class=\"data row5 col1\" >0.176107</td>\n",
       "                        <td id=\"T_261fe_row5_col2\" class=\"data row5 col2\" >-0.118545</td>\n",
       "                        <td id=\"T_261fe_row5_col3\" class=\"data row5 col3\" >-0.030344</td>\n",
       "                        <td id=\"T_261fe_row5_col4\" class=\"data row5 col4\" >0.251606</td>\n",
       "                        <td id=\"T_261fe_row5_col5\" class=\"data row5 col5\" >1.000000</td>\n",
       "                        <td id=\"T_261fe_row5_col6\" class=\"data row5 col6\" >0.476928</td>\n",
       "                        <td id=\"T_261fe_row5_col7\" class=\"data row5 col7\" >0.419797</td>\n",
       "                        <td id=\"T_261fe_row5_col8\" class=\"data row5 col8\" >-0.315386</td>\n",
       "                        <td id=\"T_261fe_row5_col9\" class=\"data row5 col9\" >-0.117577</td>\n",
       "                        <td id=\"T_261fe_row5_col10\" class=\"data row5 col10\" >0.163075</td>\n",
       "                        <td id=\"T_261fe_row5_col11\" class=\"data row5 col11\" >0.171896</td>\n",
       "                        <td id=\"T_261fe_row5_col12\" class=\"data row5 col12\" >-0.051018</td>\n",
       "                        <td id=\"T_261fe_row5_col13\" class=\"data row5 col13\" >-0.062536</td>\n",
       "            </tr>\n",
       "            <tr>\n",
       "                        <th id=\"T_261fe_level0_row6\" class=\"row_heading level0 row6\" >rent_or_own</th>\n",
       "                        <td id=\"T_261fe_row6_col0\" class=\"data row6 col0\" >-0.175420</td>\n",
       "                        <td id=\"T_261fe_row6_col1\" class=\"data row6 col1\" >0.174008</td>\n",
       "                        <td id=\"T_261fe_row6_col2\" class=\"data row6 col2\" >-0.168629</td>\n",
       "                        <td id=\"T_261fe_row6_col3\" class=\"data row6 col3\" >0.033260</td>\n",
       "                        <td id=\"T_261fe_row6_col4\" class=\"data row6 col4\" >0.398085</td>\n",
       "                        <td id=\"T_261fe_row6_col5\" class=\"data row6 col5\" >0.476928</td>\n",
       "                        <td id=\"T_261fe_row6_col6\" class=\"data row6 col6\" >1.000000</td>\n",
       "                        <td id=\"T_261fe_row6_col7\" class=\"data row6 col7\" >0.448225</td>\n",
       "                        <td id=\"T_261fe_row6_col8\" class=\"data row6 col8\" >-0.053681</td>\n",
       "                        <td id=\"T_261fe_row6_col9\" class=\"data row6 col9\" >0.052062</td>\n",
       "                        <td id=\"T_261fe_row6_col10\" class=\"data row6 col10\" >0.157809</td>\n",
       "                        <td id=\"T_261fe_row6_col11\" class=\"data row6 col11\" >0.153001</td>\n",
       "                        <td id=\"T_261fe_row6_col12\" class=\"data row6 col12\" >-0.031816</td>\n",
       "                        <td id=\"T_261fe_row6_col13\" class=\"data row6 col13\" >-0.090845</td>\n",
       "            </tr>\n",
       "            <tr>\n",
       "                        <th id=\"T_261fe_level0_row7\" class=\"row_heading level0 row7\" >employment_status</th>\n",
       "                        <td id=\"T_261fe_row7_col0\" class=\"data row7 col0\" >0.125136</td>\n",
       "                        <td id=\"T_261fe_row7_col1\" class=\"data row7 col1\" >0.180010</td>\n",
       "                        <td id=\"T_261fe_row7_col2\" class=\"data row7 col2\" >-0.042888</td>\n",
       "                        <td id=\"T_261fe_row7_col3\" class=\"data row7 col3\" >-0.032626</td>\n",
       "                        <td id=\"T_261fe_row7_col4\" class=\"data row7 col4\" >0.357965</td>\n",
       "                        <td id=\"T_261fe_row7_col5\" class=\"data row7 col5\" >0.419797</td>\n",
       "                        <td id=\"T_261fe_row7_col6\" class=\"data row7 col6\" >0.448225</td>\n",
       "                        <td id=\"T_261fe_row7_col7\" class=\"data row7 col7\" >1.000000</td>\n",
       "                        <td id=\"T_261fe_row7_col8\" class=\"data row7 col8\" >-0.028448</td>\n",
       "                        <td id=\"T_261fe_row7_col9\" class=\"data row7 col9\" >-0.020867</td>\n",
       "                        <td id=\"T_261fe_row7_col10\" class=\"data row7 col10\" >0.622901</td>\n",
       "                        <td id=\"T_261fe_row7_col11\" class=\"data row7 col11\" >0.607794</td>\n",
       "                        <td id=\"T_261fe_row7_col12\" class=\"data row7 col12\" >-0.021748</td>\n",
       "                        <td id=\"T_261fe_row7_col13\" class=\"data row7 col13\" >0.011684</td>\n",
       "            </tr>\n",
       "            <tr>\n",
       "                        <th id=\"T_261fe_level0_row8\" class=\"row_heading level0 row8\" >household_adults</th>\n",
       "                        <td id=\"T_261fe_row8_col0\" class=\"data row8 col0\" >-0.252739</td>\n",
       "                        <td id=\"T_261fe_row8_col1\" class=\"data row8 col1\" >0.009047</td>\n",
       "                        <td id=\"T_261fe_row8_col2\" class=\"data row8 col2\" >-0.031396</td>\n",
       "                        <td id=\"T_261fe_row8_col3\" class=\"data row8 col3\" >0.064799</td>\n",
       "                        <td id=\"T_261fe_row8_col4\" class=\"data row8 col4\" >0.066504</td>\n",
       "                        <td id=\"T_261fe_row8_col5\" class=\"data row8 col5\" >-0.315386</td>\n",
       "                        <td id=\"T_261fe_row8_col6\" class=\"data row8 col6\" >-0.053681</td>\n",
       "                        <td id=\"T_261fe_row8_col7\" class=\"data row8 col7\" >-0.028448</td>\n",
       "                        <td id=\"T_261fe_row8_col8\" class=\"data row8 col8\" >1.000000</td>\n",
       "                        <td id=\"T_261fe_row8_col9\" class=\"data row8 col9\" >0.189571</td>\n",
       "                        <td id=\"T_261fe_row8_col10\" class=\"data row8 col10\" >-0.038497</td>\n",
       "                        <td id=\"T_261fe_row8_col11\" class=\"data row8 col11\" >-0.054417</td>\n",
       "                        <td id=\"T_261fe_row8_col12\" class=\"data row8 col12\" >0.007545</td>\n",
       "                        <td id=\"T_261fe_row8_col13\" class=\"data row8 col13\" >-0.064840</td>\n",
       "            </tr>\n",
       "            <tr>\n",
       "                        <th id=\"T_261fe_level0_row9\" class=\"row_heading level0 row9\" >household_children</th>\n",
       "                        <td id=\"T_261fe_row9_col0\" class=\"data row9 col0\" >-0.446934</td>\n",
       "                        <td id=\"T_261fe_row9_col1\" class=\"data row9 col1\" >0.072823</td>\n",
       "                        <td id=\"T_261fe_row9_col2\" class=\"data row9 col2\" >-0.113755</td>\n",
       "                        <td id=\"T_261fe_row9_col3\" class=\"data row9 col3\" >-0.028112</td>\n",
       "                        <td id=\"T_261fe_row9_col4\" class=\"data row9 col4\" >0.084739</td>\n",
       "                        <td id=\"T_261fe_row9_col5\" class=\"data row9 col5\" >-0.117577</td>\n",
       "                        <td id=\"T_261fe_row9_col6\" class=\"data row9 col6\" >0.052062</td>\n",
       "                        <td id=\"T_261fe_row9_col7\" class=\"data row9 col7\" >-0.020867</td>\n",
       "                        <td id=\"T_261fe_row9_col8\" class=\"data row9 col8\" >0.189571</td>\n",
       "                        <td id=\"T_261fe_row9_col9\" class=\"data row9 col9\" >1.000000</td>\n",
       "                        <td id=\"T_261fe_row9_col10\" class=\"data row9 col10\" >-0.094298</td>\n",
       "                        <td id=\"T_261fe_row9_col11\" class=\"data row9 col11\" >-0.105287</td>\n",
       "                        <td id=\"T_261fe_row9_col12\" class=\"data row9 col12\" >-0.003320</td>\n",
       "                        <td id=\"T_261fe_row9_col13\" class=\"data row9 col13\" >-0.114614</td>\n",
       "            </tr>\n",
       "            <tr>\n",
       "                        <th id=\"T_261fe_level0_row10\" class=\"row_heading level0 row10\" >employment_industry</th>\n",
       "                        <td id=\"T_261fe_row10_col0\" class=\"data row10 col0\" >0.238515</td>\n",
       "                        <td id=\"T_261fe_row10_col1\" class=\"data row10 col1\" >-0.039271</td>\n",
       "                        <td id=\"T_261fe_row10_col2\" class=\"data row10 col2\" >-0.019054</td>\n",
       "                        <td id=\"T_261fe_row10_col3\" class=\"data row10 col3\" >-0.057378</td>\n",
       "                        <td id=\"T_261fe_row10_col4\" class=\"data row10 col4\" >0.149711</td>\n",
       "                        <td id=\"T_261fe_row10_col5\" class=\"data row10 col5\" >0.163075</td>\n",
       "                        <td id=\"T_261fe_row10_col6\" class=\"data row10 col6\" >0.157809</td>\n",
       "                        <td id=\"T_261fe_row10_col7\" class=\"data row10 col7\" >0.622901</td>\n",
       "                        <td id=\"T_261fe_row10_col8\" class=\"data row10 col8\" >-0.038497</td>\n",
       "                        <td id=\"T_261fe_row10_col9\" class=\"data row10 col9\" >-0.094298</td>\n",
       "                        <td id=\"T_261fe_row10_col10\" class=\"data row10 col10\" >1.000000</td>\n",
       "                        <td id=\"T_261fe_row10_col11\" class=\"data row10 col11\" >0.607466</td>\n",
       "                        <td id=\"T_261fe_row10_col12\" class=\"data row10 col12\" >-0.048905</td>\n",
       "                        <td id=\"T_261fe_row10_col13\" class=\"data row10 col13\" >0.009639</td>\n",
       "            </tr>\n",
       "            <tr>\n",
       "                        <th id=\"T_261fe_level0_row11\" class=\"row_heading level0 row11\" >employment_occupation</th>\n",
       "                        <td id=\"T_261fe_row11_col0\" class=\"data row11 col0\" >0.246068</td>\n",
       "                        <td id=\"T_261fe_row11_col1\" class=\"data row11 col1\" >-0.057946</td>\n",
       "                        <td id=\"T_261fe_row11_col2\" class=\"data row11 col2\" >-0.021997</td>\n",
       "                        <td id=\"T_261fe_row11_col3\" class=\"data row11 col3\" >0.008348</td>\n",
       "                        <td id=\"T_261fe_row11_col4\" class=\"data row11 col4\" >0.171450</td>\n",
       "                        <td id=\"T_261fe_row11_col5\" class=\"data row11 col5\" >0.171896</td>\n",
       "                        <td id=\"T_261fe_row11_col6\" class=\"data row11 col6\" >0.153001</td>\n",
       "                        <td id=\"T_261fe_row11_col7\" class=\"data row11 col7\" >0.607794</td>\n",
       "                        <td id=\"T_261fe_row11_col8\" class=\"data row11 col8\" >-0.054417</td>\n",
       "                        <td id=\"T_261fe_row11_col9\" class=\"data row11 col9\" >-0.105287</td>\n",
       "                        <td id=\"T_261fe_row11_col10\" class=\"data row11 col10\" >0.607466</td>\n",
       "                        <td id=\"T_261fe_row11_col11\" class=\"data row11 col11\" >1.000000</td>\n",
       "                        <td id=\"T_261fe_row11_col12\" class=\"data row11 col12\" >-0.075221</td>\n",
       "                        <td id=\"T_261fe_row11_col13\" class=\"data row11 col13\" >0.002697</td>\n",
       "            </tr>\n",
       "            <tr>\n",
       "                        <th id=\"T_261fe_level0_row12\" class=\"row_heading level0 row12\" >h1n1_vaccine</th>\n",
       "                        <td id=\"T_261fe_row12_col0\" class=\"data row12 col0\" >0.041074</td>\n",
       "                        <td id=\"T_261fe_row12_col1\" class=\"data row12 col1\" >0.024694</td>\n",
       "                        <td id=\"T_261fe_row12_col2\" class=\"data row12 col2\" >0.041061</td>\n",
       "                        <td id=\"T_261fe_row12_col3\" class=\"data row12 col3\" >-0.020672</td>\n",
       "                        <td id=\"T_261fe_row12_col4\" class=\"data row12 col4\" >-0.012236</td>\n",
       "                        <td id=\"T_261fe_row12_col5\" class=\"data row12 col5\" >-0.051018</td>\n",
       "                        <td id=\"T_261fe_row12_col6\" class=\"data row12 col6\" >-0.031816</td>\n",
       "                        <td id=\"T_261fe_row12_col7\" class=\"data row12 col7\" >-0.021748</td>\n",
       "                        <td id=\"T_261fe_row12_col8\" class=\"data row12 col8\" >0.007545</td>\n",
       "                        <td id=\"T_261fe_row12_col9\" class=\"data row12 col9\" >-0.003320</td>\n",
       "                        <td id=\"T_261fe_row12_col10\" class=\"data row12 col10\" >-0.048905</td>\n",
       "                        <td id=\"T_261fe_row12_col11\" class=\"data row12 col11\" >-0.075221</td>\n",
       "                        <td id=\"T_261fe_row12_col12\" class=\"data row12 col12\" >1.000000</td>\n",
       "                        <td id=\"T_261fe_row12_col13\" class=\"data row12 col13\" >0.377143</td>\n",
       "            </tr>\n",
       "            <tr>\n",
       "                        <th id=\"T_261fe_level0_row13\" class=\"row_heading level0 row13\" >seasonal_vaccine</th>\n",
       "                        <td id=\"T_261fe_row13_col0\" class=\"data row13 col0\" >0.277454</td>\n",
       "                        <td id=\"T_261fe_row13_col1\" class=\"data row13 col1\" >0.002024</td>\n",
       "                        <td id=\"T_261fe_row13_col2\" class=\"data row13 col2\" >0.101743</td>\n",
       "                        <td id=\"T_261fe_row13_col3\" class=\"data row13 col3\" >-0.077091</td>\n",
       "                        <td id=\"T_261fe_row13_col4\" class=\"data row13 col4\" >-0.038593</td>\n",
       "                        <td id=\"T_261fe_row13_col5\" class=\"data row13 col5\" >-0.062536</td>\n",
       "                        <td id=\"T_261fe_row13_col6\" class=\"data row13 col6\" >-0.090845</td>\n",
       "                        <td id=\"T_261fe_row13_col7\" class=\"data row13 col7\" >0.011684</td>\n",
       "                        <td id=\"T_261fe_row13_col8\" class=\"data row13 col8\" >-0.064840</td>\n",
       "                        <td id=\"T_261fe_row13_col9\" class=\"data row13 col9\" >-0.114614</td>\n",
       "                        <td id=\"T_261fe_row13_col10\" class=\"data row13 col10\" >0.009639</td>\n",
       "                        <td id=\"T_261fe_row13_col11\" class=\"data row13 col11\" >0.002697</td>\n",
       "                        <td id=\"T_261fe_row13_col12\" class=\"data row13 col12\" >0.377143</td>\n",
       "                        <td id=\"T_261fe_row13_col13\" class=\"data row13 col13\" >1.000000</td>\n",
       "            </tr>\n",
       "    </tbody></table>"
      ],
      "text/plain": [
       "<pandas.io.formats.style.Styler at 0x1ca9ddc9ee0>"
      ]
     },
     "execution_count": 167,
     "metadata": {},
     "output_type": "execute_result"
    }
   ],
   "source": [
    "cols = [\n",
    "    'age_group',\n",
    "    'education',\n",
    "    'race',\n",
    "    'sex',\n",
    "    'income_poverty',\n",
    "    'marital_status',\n",
    "    'rent_or_own',\n",
    "    'employment_status',\n",
    "    'household_adults',\n",
    "    'household_children',\n",
    "    'employment_industry',\n",
    "    'employment_occupation',\n",
    "    'h1n1_vaccine',\n",
    "    'seasonal_vaccine'\n",
    "]\n",
    "h1n1_personal_corr = train_set_features_df[cols].corr()\n",
    "h1n1_personal_corr.style.background_gradient()"
   ]
  },
  {
   "cell_type": "code",
   "execution_count": 168,
   "id": "26364d5b",
   "metadata": {},
   "outputs": [
    {
     "data": {
      "text/plain": [
       "<AxesSubplot:>"
      ]
     },
     "execution_count": 168,
     "metadata": {},
     "output_type": "execute_result"
    },
    {
     "data": {
      "image/png": "[encoded data removed]",
      "text/plain": [
       "<Figure size 432x288 with 1 Axes>"
      ]
     },
     "metadata": {
      "needs_background": "light"
     },
     "output_type": "display_data"
    }
   ],
   "source": [
    "# Plot distribution of values\n",
    "train_set_features_df.age_group.plot()"
   ]
  },
  {
   "cell_type": "code",
   "execution_count": null,
   "id": "3b7f5940",
   "metadata": {},
   "outputs": [],
   "source": []
  }
 ],
 "metadata": {
  "kernelspec": {
   "display_name": "Python 3",
   "language": "python",
   "name": "python3"
  },
  "language_info": {
   "codemirror_mode": {
    "name": "ipython",
    "version": 3
   },
   "file_extension": ".py",
   "mimetype": "text/x-python",
   "name": "python",
   "nbconvert_exporter": "python",
   "pygments_lexer": "ipython3",
   "version": "3.8.3"
  }
 },
 "nbformat": 4,
 "nbformat_minor": 5
}
